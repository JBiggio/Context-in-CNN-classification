{
 "cells": [
  {
   "cell_type": "markdown",
   "id": "cc6e9dfd",
   "metadata": {},
   "source": [
    "# Group 1"
   ]
  },
  {
   "cell_type": "markdown",
   "id": "d78589fb",
   "metadata": {},
   "source": [
    "Fabio Ceruti - Fabio Martino - Alex Lucchini - Jacopo Biggiogera"
   ]
  },
  {
   "cell_type": "markdown",
   "id": "b203006c",
   "metadata": {},
   "source": [
    "This notebook contains the summarized results of the obtained clusters of families. More precisely, it compares four different types of clusters: clusters of standard images (standard clusters), clusters of masked images (context clusters), clusters of filled masked images (filled clusters), and clusters of only bboxes (bboxes clusters)."
   ]
  },
  {
   "cell_type": "code",
   "execution_count": 1,
   "id": "624d1a58",
   "metadata": {},
   "outputs": [],
   "source": [
    "import pandas as pd\n",
    "import numpy as np\n",
    "import seaborn as sb\n",
    "import matplotlib.pyplot as plt"
   ]
  },
  {
   "cell_type": "code",
   "execution_count": 37,
   "id": "fc2de075",
   "metadata": {},
   "outputs": [],
   "source": [
    "context_clusters = pd.read_csv('family_context_predictions.csv')\n",
    "standard_clusters = pd.read_csv('family_standard_predictions.csv')\n",
    "filled_clusters = pd.read_csv('family_avg_contexts_predictions.csv')\n",
    "bboxes_clusters = pd.read_csv('family_bbcontent_predictions.csv')"
   ]
  },
  {
   "cell_type": "markdown",
   "id": "fc096de2",
   "metadata": {},
   "source": [
    "The function below builds the confusion matrix of a given cluster. More precisely, each column corresponds to the distribution of labels within each cluster. Ideally, each cluster would contain only one family, meaning one label with 100% of relative frequency. Thus, the function also computes a dispersion loss of the clusters: the sparser the labels within each cluster, the higher the loss (in absolute terms)."
   ]
  },
  {
   "cell_type": "code",
   "execution_count": 38,
   "id": "b1a5b145",
   "metadata": {},
   "outputs": [],
   "source": [
    "def confusion(preds):\n",
    "    totals = preds.groupby('clusters').count().reset_index()['label']\n",
    "    clusters = set(preds['clusters'])\n",
    "    clusters = list(clusters)\n",
    "    fractions = pd.DataFrame()\n",
    "    for i in range(len(clusters)):\n",
    "      col = []\n",
    "      for j in set(preds['label']):\n",
    "        fraction = len(preds.loc[(preds['clusters'] == clusters[i])&(preds['label'] == j), 'label'])*100/totals[i]\n",
    "        col.append(fraction)\n",
    "      fractions[f'Cluster {clusters[i]}'] = col\n",
    "\n",
    "    disp = []\n",
    "    for i in range(len(fractions.columns)):\n",
    "      probs = fractions.loc[fractions[fractions.columns[i]] > 0, fractions.columns[i]]/100\n",
    "      divg = np.log(np.prod(probs))\n",
    "      disp.append(divg)\n",
    "\n",
    "    print(f'Dispersion Loss: {np.mean(disp)}')\n",
    "    return fractions"
   ]
  },
  {
   "cell_type": "markdown",
   "id": "7cf6b0b5",
   "metadata": {},
   "source": [
    "# Context Clusters"
   ]
  },
  {
   "cell_type": "code",
   "execution_count": 39,
   "id": "7f15d79f",
   "metadata": {},
   "outputs": [
    {
     "name": "stdout",
     "output_type": "stream",
     "text": [
      "Dispersion Loss: -6.014328154652805\n"
     ]
    },
    {
     "data": {
      "text/html": [
       "<div>\n",
       "<style scoped>\n",
       "    .dataframe tbody tr th:only-of-type {\n",
       "        vertical-align: middle;\n",
       "    }\n",
       "\n",
       "    .dataframe tbody tr th {\n",
       "        vertical-align: top;\n",
       "    }\n",
       "\n",
       "    .dataframe thead th {\n",
       "        text-align: right;\n",
       "    }\n",
       "</style>\n",
       "<table border=\"1\" class=\"dataframe\">\n",
       "  <thead>\n",
       "    <tr style=\"text-align: right;\">\n",
       "      <th></th>\n",
       "      <th>Cluster 0</th>\n",
       "      <th>Cluster 1</th>\n",
       "      <th>Cluster 2</th>\n",
       "      <th>Cluster 3</th>\n",
       "      <th>Cluster 4</th>\n",
       "      <th>Cluster 5</th>\n",
       "    </tr>\n",
       "  </thead>\n",
       "  <tbody>\n",
       "    <tr>\n",
       "      <th>0</th>\n",
       "      <td>19.047619</td>\n",
       "      <td>0.000000</td>\n",
       "      <td>18.181818</td>\n",
       "      <td>51.612903</td>\n",
       "      <td>2.5</td>\n",
       "      <td>40.677966</td>\n",
       "    </tr>\n",
       "    <tr>\n",
       "      <th>1</th>\n",
       "      <td>47.619048</td>\n",
       "      <td>11.940299</td>\n",
       "      <td>15.584416</td>\n",
       "      <td>8.602151</td>\n",
       "      <td>95.0</td>\n",
       "      <td>6.779661</td>\n",
       "    </tr>\n",
       "    <tr>\n",
       "      <th>2</th>\n",
       "      <td>20.634921</td>\n",
       "      <td>31.343284</td>\n",
       "      <td>25.974026</td>\n",
       "      <td>30.107527</td>\n",
       "      <td>0.0</td>\n",
       "      <td>30.508475</td>\n",
       "    </tr>\n",
       "    <tr>\n",
       "      <th>3</th>\n",
       "      <td>12.698413</td>\n",
       "      <td>56.716418</td>\n",
       "      <td>40.259740</td>\n",
       "      <td>9.677419</td>\n",
       "      <td>2.5</td>\n",
       "      <td>22.033898</td>\n",
       "    </tr>\n",
       "  </tbody>\n",
       "</table>\n",
       "</div>"
      ],
      "text/plain": [
       "   Cluster 0  Cluster 1  Cluster 2  Cluster 3  Cluster 4  Cluster 5\n",
       "0  19.047619   0.000000  18.181818  51.612903        2.5  40.677966\n",
       "1  47.619048  11.940299  15.584416   8.602151       95.0   6.779661\n",
       "2  20.634921  31.343284  25.974026  30.107527        0.0  30.508475\n",
       "3  12.698413  56.716418  40.259740   9.677419        2.5  22.033898"
      ]
     },
     "execution_count": 39,
     "metadata": {},
     "output_type": "execute_result"
    }
   ],
   "source": [
    "confusion(context_clusters) #Confusion matrix of context clusters"
   ]
  },
  {
   "cell_type": "markdown",
   "id": "6f2bb0c3",
   "metadata": {},
   "source": [
    "The idea for this code is that the label appearing with the highest frequency in a cluster is the one which is going to be \"predicted\" by such cluster. Thus, the code below builds a bar plot, showing each predicted label with its associated frequency in its corresponding cluster. Therefore, if a label does not appear in such bar plot, it's because it has never been predicted by a cluster."
   ]
  },
  {
   "cell_type": "code",
   "execution_count": 56,
   "id": "35d2f4f2",
   "metadata": {},
   "outputs": [
    {
     "name": "stdout",
     "output_type": "stream",
     "text": [
      "Dispersion Loss: -6.014328154652805\n"
     ]
    },
    {
     "data": {
      "image/png": "[encoded data removed]",
      "text/plain": [
       "<Figure size 504x360 with 1 Axes>"
      ]
     },
     "metadata": {
      "needs_background": "light"
     },
     "output_type": "display_data"
    }
   ],
   "source": [
    "df = confusion(context_clusters)\n",
    "context_max = []\n",
    "\n",
    "for i in range(len(df.columns)):\n",
    "    context_max.append(df[df.columns[i]].max())\n",
    "    \n",
    "labels = []\n",
    "probs = []\n",
    "for i in range(len(df.columns)):\n",
    "    labels.append(df[df.columns[i]].argmax())\n",
    "    probs.append(df[df.columns[i]].max())\n",
    "\n",
    "df1 = pd.DataFrame()\n",
    "df1['pred_labels'] = labels\n",
    "df1['pred_probs'] = probs\n",
    "\n",
    "df1 = df1.sort_values('pred_probs', ascending = False).reset_index(drop = True)\n",
    "df1 = df1.groupby('pred_labels').mean().reset_index()\n",
    "plt.figure(figsize=(7, 5))\n",
    "plt.bar(df1['pred_labels'], df1['pred_probs'])\n",
    "plt.xticks(df1['pred_labels'])\n",
    "plt.title('Predicted Labels: Context Clusters')\n",
    "plt.xlabel('Labels')\n",
    "plt.ylabel('Probs')\n",
    "plt.show()"
   ]
  },
  {
   "cell_type": "markdown",
   "id": "4ef84495",
   "metadata": {},
   "source": [
    "As it's possible to see, using contexts only does not enable to identify label 2, and only label 1 (aves) is predicted with high purity. This is likely due to the nature of the images in the \"aves\" family: images of birds mostly have the sky as the context, which is expected to be different from the usual contexts of the remaining three families (reptilia, mammalia, and insecta)."
   ]
  },
  {
   "cell_type": "markdown",
   "id": "53892e98",
   "metadata": {},
   "source": [
    "The heatmap below provides an intuitive representation of the confusion matrix. The darker each square, the higher the probability associated with such label within a specific cluster."
   ]
  },
  {
   "cell_type": "code",
   "execution_count": 43,
   "id": "7955448c",
   "metadata": {},
   "outputs": [
    {
     "name": "stdout",
     "output_type": "stream",
     "text": [
      "Dispersion Loss: -6.014328154652805\n"
     ]
    },
    {
     "data": {
      "image/png": "[encoded data removed]",
      "text/plain": [
       "<Figure size 360x288 with 2 Axes>"
      ]
     },
     "metadata": {
      "needs_background": "light"
     },
     "output_type": "display_data"
    }
   ],
   "source": [
    "import seaborn as sb\n",
    "plt.figure(figsize = (5,4))\n",
    "sb.heatmap(confusion(context_clusters), cmap = 'crest')\n",
    "plt.title('Context Clusters')\n",
    "plt.show()"
   ]
  },
  {
   "cell_type": "markdown",
   "id": "aa883fbb",
   "metadata": {},
   "source": [
    "# Filled Clusters"
   ]
  },
  {
   "cell_type": "code",
   "execution_count": 6,
   "id": "f626b3f6",
   "metadata": {},
   "outputs": [
    {
     "name": "stdout",
     "output_type": "stream",
     "text": [
      "Dispersion Loss: -7.931580587017746\n"
     ]
    },
    {
     "data": {
      "text/html": [
       "<div>\n",
       "<style scoped>\n",
       "    .dataframe tbody tr th:only-of-type {\n",
       "        vertical-align: middle;\n",
       "    }\n",
       "\n",
       "    .dataframe tbody tr th {\n",
       "        vertical-align: top;\n",
       "    }\n",
       "\n",
       "    .dataframe thead th {\n",
       "        text-align: right;\n",
       "    }\n",
       "</style>\n",
       "<table border=\"1\" class=\"dataframe\">\n",
       "  <thead>\n",
       "    <tr style=\"text-align: right;\">\n",
       "      <th></th>\n",
       "      <th>Cluster 0</th>\n",
       "      <th>Cluster 1</th>\n",
       "      <th>Cluster 2</th>\n",
       "      <th>Cluster 3</th>\n",
       "      <th>Cluster 4</th>\n",
       "      <th>Cluster 5</th>\n",
       "      <th>Cluster 6</th>\n",
       "    </tr>\n",
       "  </thead>\n",
       "  <tbody>\n",
       "    <tr>\n",
       "      <th>0</th>\n",
       "      <td>12.637363</td>\n",
       "      <td>5.000000</td>\n",
       "      <td>21.875000</td>\n",
       "      <td>31.730769</td>\n",
       "      <td>71.028037</td>\n",
       "      <td>40.425532</td>\n",
       "      <td>1.315789</td>\n",
       "    </tr>\n",
       "    <tr>\n",
       "      <th>1</th>\n",
       "      <td>12.637363</td>\n",
       "      <td>21.428571</td>\n",
       "      <td>71.875000</td>\n",
       "      <td>4.807692</td>\n",
       "      <td>6.542056</td>\n",
       "      <td>2.127660</td>\n",
       "      <td>84.210526</td>\n",
       "    </tr>\n",
       "    <tr>\n",
       "      <th>2</th>\n",
       "      <td>51.098901</td>\n",
       "      <td>11.428571</td>\n",
       "      <td>5.208333</td>\n",
       "      <td>24.038462</td>\n",
       "      <td>15.887850</td>\n",
       "      <td>45.744681</td>\n",
       "      <td>1.315789</td>\n",
       "    </tr>\n",
       "    <tr>\n",
       "      <th>3</th>\n",
       "      <td>23.626374</td>\n",
       "      <td>62.142857</td>\n",
       "      <td>1.041667</td>\n",
       "      <td>39.423077</td>\n",
       "      <td>6.542056</td>\n",
       "      <td>11.702128</td>\n",
       "      <td>13.157895</td>\n",
       "    </tr>\n",
       "  </tbody>\n",
       "</table>\n",
       "</div>"
      ],
      "text/plain": [
       "   Cluster 0  Cluster 1  Cluster 2  Cluster 3  Cluster 4  Cluster 5  Cluster 6\n",
       "0  12.637363   5.000000  21.875000  31.730769  71.028037  40.425532   1.315789\n",
       "1  12.637363  21.428571  71.875000   4.807692   6.542056   2.127660  84.210526\n",
       "2  51.098901  11.428571   5.208333  24.038462  15.887850  45.744681   1.315789\n",
       "3  23.626374  62.142857   1.041667  39.423077   6.542056  11.702128  13.157895"
      ]
     },
     "execution_count": 6,
     "metadata": {},
     "output_type": "execute_result"
    }
   ],
   "source": [
    "confusion(filled_clusters) #Confusion matrix of filled clusters"
   ]
  },
  {
   "cell_type": "code",
   "execution_count": 57,
   "id": "87444bd6",
   "metadata": {},
   "outputs": [
    {
     "name": "stdout",
     "output_type": "stream",
     "text": [
      "Dispersion Loss: -7.931580587017746\n"
     ]
    },
    {
     "data": {
      "image/png": "[encoded data removed]",
      "text/plain": [
       "<Figure size 576x360 with 1 Axes>"
      ]
     },
     "metadata": {
      "needs_background": "light"
     },
     "output_type": "display_data"
    }
   ],
   "source": [
    "df = confusion(filled_clusters)\n",
    "filled_max = []\n",
    "\n",
    "for i in range(len(df.columns)):\n",
    "    filled_max.append(df[df.columns[i]].max())\n",
    "    \n",
    "labels = []\n",
    "probs = []\n",
    "for i in range(len(df.columns)):\n",
    "    labels.append(df[df.columns[i]].argmax())\n",
    "    probs.append(df[df.columns[i]].max())\n",
    "\n",
    "df2 = pd.DataFrame()\n",
    "df2['pred_labels'] = labels\n",
    "df2['pred_probs'] = probs\n",
    "\n",
    "df2 = df2.sort_values('pred_probs', ascending = False).reset_index(drop = True)\n",
    "df2 = df2.groupby('pred_labels').mean().reset_index()\n",
    "plt.figure(figsize=(8, 5))\n",
    "plt.bar(df2['pred_labels'], df2['pred_probs'])\n",
    "plt.xticks(df2['pred_labels'])\n",
    "plt.title('Predicted Labels: Filled Clusters')\n",
    "plt.xlabel('Labels')\n",
    "plt.ylabel('Probs')\n",
    "plt.show()\n",
    "plt.show()"
   ]
  },
  {
   "cell_type": "markdown",
   "id": "b02d2c75",
   "metadata": {},
   "source": [
    "As it's possible to see, by using filled contexts, overall the performance increases: despite the higher dispersion loss, label 2 is now identified, and the purity associated with label 0 (insecta) significantly increases. Thus, it seems that contexts appear to be more relevant for the families of \"aves\" and \"insecta\"."
   ]
  },
  {
   "cell_type": "code",
   "execution_count": 46,
   "id": "49c8f983",
   "metadata": {},
   "outputs": [
    {
     "name": "stdout",
     "output_type": "stream",
     "text": [
      "Dispersion Loss: -7.931580587017746\n"
     ]
    },
    {
     "data": {
      "image/png": "[encoded data removed]",
      "text/plain": [
       "<Figure size 576x288 with 2 Axes>"
      ]
     },
     "metadata": {
      "needs_background": "light"
     },
     "output_type": "display_data"
    }
   ],
   "source": [
    "import seaborn as sb\n",
    "plt.figure(figsize = (8,4))\n",
    "sb.heatmap(confusion(filled_clusters), cmap = 'crest')\n",
    "plt.title('Filled Clusters')\n",
    "plt.show()"
   ]
  },
  {
   "cell_type": "markdown",
   "id": "4a784089",
   "metadata": {},
   "source": [
    "# Standard Clusters"
   ]
  },
  {
   "cell_type": "code",
   "execution_count": 58,
   "id": "044e3238",
   "metadata": {},
   "outputs": [
    {
     "name": "stdout",
     "output_type": "stream",
     "text": [
      "Dispersion Loss: -3.584200789404806\n"
     ]
    },
    {
     "data": {
      "text/html": [
       "<div>\n",
       "<style scoped>\n",
       "    .dataframe tbody tr th:only-of-type {\n",
       "        vertical-align: middle;\n",
       "    }\n",
       "\n",
       "    .dataframe tbody tr th {\n",
       "        vertical-align: top;\n",
       "    }\n",
       "\n",
       "    .dataframe thead th {\n",
       "        text-align: right;\n",
       "    }\n",
       "</style>\n",
       "<table border=\"1\" class=\"dataframe\">\n",
       "  <thead>\n",
       "    <tr style=\"text-align: right;\">\n",
       "      <th></th>\n",
       "      <th>Cluster 0</th>\n",
       "      <th>Cluster 1</th>\n",
       "      <th>Cluster 2</th>\n",
       "      <th>Cluster 3</th>\n",
       "      <th>Cluster 4</th>\n",
       "      <th>Cluster 5</th>\n",
       "      <th>Cluster 6</th>\n",
       "      <th>Cluster 7</th>\n",
       "      <th>Cluster 8</th>\n",
       "      <th>Cluster 9</th>\n",
       "      <th>Cluster 10</th>\n",
       "      <th>Cluster 11</th>\n",
       "    </tr>\n",
       "  </thead>\n",
       "  <tbody>\n",
       "    <tr>\n",
       "      <th>0</th>\n",
       "      <td>100.0</td>\n",
       "      <td>5.208333</td>\n",
       "      <td>55.555556</td>\n",
       "      <td>41.428571</td>\n",
       "      <td>0.0</td>\n",
       "      <td>0.0</td>\n",
       "      <td>90.598291</td>\n",
       "      <td>0.0</td>\n",
       "      <td>0.0</td>\n",
       "      <td>0.0</td>\n",
       "      <td>0.0</td>\n",
       "      <td>3.508772</td>\n",
       "    </tr>\n",
       "    <tr>\n",
       "      <th>1</th>\n",
       "      <td>0.0</td>\n",
       "      <td>10.416667</td>\n",
       "      <td>2.777778</td>\n",
       "      <td>48.571429</td>\n",
       "      <td>0.0</td>\n",
       "      <td>100.0</td>\n",
       "      <td>5.128205</td>\n",
       "      <td>0.0</td>\n",
       "      <td>0.0</td>\n",
       "      <td>0.0</td>\n",
       "      <td>100.0</td>\n",
       "      <td>3.508772</td>\n",
       "    </tr>\n",
       "    <tr>\n",
       "      <th>2</th>\n",
       "      <td>0.0</td>\n",
       "      <td>58.333333</td>\n",
       "      <td>18.055556</td>\n",
       "      <td>10.000000</td>\n",
       "      <td>0.0</td>\n",
       "      <td>0.0</td>\n",
       "      <td>2.564103</td>\n",
       "      <td>0.0</td>\n",
       "      <td>100.0</td>\n",
       "      <td>2.5</td>\n",
       "      <td>0.0</td>\n",
       "      <td>89.473684</td>\n",
       "    </tr>\n",
       "    <tr>\n",
       "      <th>3</th>\n",
       "      <td>0.0</td>\n",
       "      <td>26.041667</td>\n",
       "      <td>23.611111</td>\n",
       "      <td>0.000000</td>\n",
       "      <td>100.0</td>\n",
       "      <td>0.0</td>\n",
       "      <td>1.709402</td>\n",
       "      <td>100.0</td>\n",
       "      <td>0.0</td>\n",
       "      <td>97.5</td>\n",
       "      <td>0.0</td>\n",
       "      <td>3.508772</td>\n",
       "    </tr>\n",
       "  </tbody>\n",
       "</table>\n",
       "</div>"
      ],
      "text/plain": [
       "   Cluster 0  Cluster 1  Cluster 2  Cluster 3  Cluster 4  Cluster 5  \\\n",
       "0      100.0   5.208333  55.555556  41.428571        0.0        0.0   \n",
       "1        0.0  10.416667   2.777778  48.571429        0.0      100.0   \n",
       "2        0.0  58.333333  18.055556  10.000000        0.0        0.0   \n",
       "3        0.0  26.041667  23.611111   0.000000      100.0        0.0   \n",
       "\n",
       "   Cluster 6  Cluster 7  Cluster 8  Cluster 9  Cluster 10  Cluster 11  \n",
       "0  90.598291        0.0        0.0        0.0         0.0    3.508772  \n",
       "1   5.128205        0.0        0.0        0.0       100.0    3.508772  \n",
       "2   2.564103        0.0      100.0        2.5         0.0   89.473684  \n",
       "3   1.709402      100.0        0.0       97.5         0.0    3.508772  "
      ]
     },
     "execution_count": 58,
     "metadata": {},
     "output_type": "execute_result"
    }
   ],
   "source": [
    "confusion(standard_clusters) #Confusion matrix of standard clusters"
   ]
  },
  {
   "cell_type": "code",
   "execution_count": 59,
   "id": "f56447e3",
   "metadata": {},
   "outputs": [
    {
     "name": "stdout",
     "output_type": "stream",
     "text": [
      "Dispersion Loss: -3.584200789404806\n"
     ]
    },
    {
     "data": {
      "image/png": "[encoded data removed]",
      "text/plain": [
       "<Figure size 576x360 with 1 Axes>"
      ]
     },
     "metadata": {
      "needs_background": "light"
     },
     "output_type": "display_data"
    }
   ],
   "source": [
    "df = confusion(standard_clusters)\n",
    "standard_max = []\n",
    "\n",
    "for i in range(len(df.columns)):\n",
    "    standard_max.append(df[df.columns[i]].max())\n",
    "    \n",
    "labels = []\n",
    "probs = []\n",
    "for i in range(len(df.columns)):\n",
    "    labels.append(df[df.columns[i]].argmax())\n",
    "    probs.append(df[df.columns[i]].max())\n",
    "\n",
    "df3 = pd.DataFrame()\n",
    "df3['pred_labels'] = labels\n",
    "df3['pred_probs'] = probs\n",
    "\n",
    "df3 = df3.sort_values('pred_probs', ascending = False).reset_index(drop = True)\n",
    "df3 = df3.groupby('pred_labels').mean().reset_index()\n",
    "plt.figure(figsize=(8, 5))\n",
    "plt.bar(df3['pred_labels'], df3['pred_probs'])\n",
    "plt.xticks(df3['pred_labels'])\n",
    "plt.title('Predicted Labels: Standard Clusters')\n",
    "plt.xlabel('Labels')\n",
    "plt.ylabel('Probs')\n",
    "plt.show()"
   ]
  },
  {
   "cell_type": "markdown",
   "id": "35193a9e",
   "metadata": {},
   "source": [
    "As it's possible to see, overall the performance significantly increases when using the whole images: all the families are identified with very high purity."
   ]
  },
  {
   "cell_type": "code",
   "execution_count": 19,
   "id": "bdc8a15e",
   "metadata": {},
   "outputs": [
    {
     "name": "stdout",
     "output_type": "stream",
     "text": [
      "Dispersion Loss: -3.584200789404806\n"
     ]
    },
    {
     "data": {
      "image/png": "[encoded data removed]",
      "text/plain": [
       "<Figure size 576x288 with 2 Axes>"
      ]
     },
     "metadata": {
      "needs_background": "light"
     },
     "output_type": "display_data"
    }
   ],
   "source": [
    "plt.figure(figsize = (8,4))\n",
    "sb.heatmap(confusion(standard_clusters), cmap = 'crest')\n",
    "plt.title('Standard Clusters')\n",
    "plt.show()"
   ]
  },
  {
   "cell_type": "markdown",
   "id": "821de9a0",
   "metadata": {},
   "source": [
    "# BBoxes Clusters"
   ]
  },
  {
   "cell_type": "code",
   "execution_count": 21,
   "id": "c614dc77",
   "metadata": {},
   "outputs": [
    {
     "name": "stdout",
     "output_type": "stream",
     "text": [
      "Dispersion Loss: -2.9311432939698645\n"
     ]
    },
    {
     "data": {
      "text/html": [
       "<div>\n",
       "<style scoped>\n",
       "    .dataframe tbody tr th:only-of-type {\n",
       "        vertical-align: middle;\n",
       "    }\n",
       "\n",
       "    .dataframe tbody tr th {\n",
       "        vertical-align: top;\n",
       "    }\n",
       "\n",
       "    .dataframe thead th {\n",
       "        text-align: right;\n",
       "    }\n",
       "</style>\n",
       "<table border=\"1\" class=\"dataframe\">\n",
       "  <thead>\n",
       "    <tr style=\"text-align: right;\">\n",
       "      <th></th>\n",
       "      <th>Cluster 0</th>\n",
       "      <th>Cluster 1</th>\n",
       "      <th>Cluster 2</th>\n",
       "      <th>Cluster 3</th>\n",
       "      <th>Cluster 4</th>\n",
       "      <th>Cluster 5</th>\n",
       "      <th>Cluster 6</th>\n",
       "      <th>Cluster 7</th>\n",
       "      <th>Cluster 8</th>\n",
       "      <th>Cluster 9</th>\n",
       "      <th>Cluster 10</th>\n",
       "      <th>Cluster 11</th>\n",
       "    </tr>\n",
       "  </thead>\n",
       "  <tbody>\n",
       "    <tr>\n",
       "      <th>0</th>\n",
       "      <td>100.0</td>\n",
       "      <td>4.6875</td>\n",
       "      <td>32.222222</td>\n",
       "      <td>0.0</td>\n",
       "      <td>0.0</td>\n",
       "      <td>0.000000</td>\n",
       "      <td>0.0</td>\n",
       "      <td>0.0</td>\n",
       "      <td>0.0</td>\n",
       "      <td>2.702703</td>\n",
       "      <td>97.87234</td>\n",
       "      <td>40.540541</td>\n",
       "    </tr>\n",
       "    <tr>\n",
       "      <th>1</th>\n",
       "      <td>0.0</td>\n",
       "      <td>90.6250</td>\n",
       "      <td>36.666667</td>\n",
       "      <td>0.0</td>\n",
       "      <td>0.0</td>\n",
       "      <td>0.000000</td>\n",
       "      <td>0.0</td>\n",
       "      <td>0.0</td>\n",
       "      <td>100.0</td>\n",
       "      <td>97.297297</td>\n",
       "      <td>2.12766</td>\n",
       "      <td>5.405405</td>\n",
       "    </tr>\n",
       "    <tr>\n",
       "      <th>2</th>\n",
       "      <td>0.0</td>\n",
       "      <td>3.1250</td>\n",
       "      <td>17.777778</td>\n",
       "      <td>0.0</td>\n",
       "      <td>0.0</td>\n",
       "      <td>98.484848</td>\n",
       "      <td>100.0</td>\n",
       "      <td>0.0</td>\n",
       "      <td>0.0</td>\n",
       "      <td>0.000000</td>\n",
       "      <td>0.00000</td>\n",
       "      <td>41.891892</td>\n",
       "    </tr>\n",
       "    <tr>\n",
       "      <th>3</th>\n",
       "      <td>0.0</td>\n",
       "      <td>1.5625</td>\n",
       "      <td>13.333333</td>\n",
       "      <td>100.0</td>\n",
       "      <td>100.0</td>\n",
       "      <td>1.515152</td>\n",
       "      <td>0.0</td>\n",
       "      <td>100.0</td>\n",
       "      <td>0.0</td>\n",
       "      <td>0.000000</td>\n",
       "      <td>0.00000</td>\n",
       "      <td>12.162162</td>\n",
       "    </tr>\n",
       "  </tbody>\n",
       "</table>\n",
       "</div>"
      ],
      "text/plain": [
       "   Cluster 0  Cluster 1  Cluster 2  Cluster 3  Cluster 4  Cluster 5  \\\n",
       "0      100.0     4.6875  32.222222        0.0        0.0   0.000000   \n",
       "1        0.0    90.6250  36.666667        0.0        0.0   0.000000   \n",
       "2        0.0     3.1250  17.777778        0.0        0.0  98.484848   \n",
       "3        0.0     1.5625  13.333333      100.0      100.0   1.515152   \n",
       "\n",
       "   Cluster 6  Cluster 7  Cluster 8  Cluster 9  Cluster 10  Cluster 11  \n",
       "0        0.0        0.0        0.0   2.702703    97.87234   40.540541  \n",
       "1        0.0        0.0      100.0  97.297297     2.12766    5.405405  \n",
       "2      100.0        0.0        0.0   0.000000     0.00000   41.891892  \n",
       "3        0.0      100.0        0.0   0.000000     0.00000   12.162162  "
      ]
     },
     "execution_count": 21,
     "metadata": {},
     "output_type": "execute_result"
    }
   ],
   "source": [
    "confusion(bboxes_clusters) #Confusion matrix of bboxes clusters"
   ]
  },
  {
   "cell_type": "code",
   "execution_count": 23,
   "id": "a46a9368",
   "metadata": {},
   "outputs": [
    {
     "name": "stdout",
     "output_type": "stream",
     "text": [
      "Dispersion Loss: -2.9311432939698645\n"
     ]
    },
    {
     "data": {
      "image/png": "[encoded data removed]",
      "text/plain": [
       "<Figure size 576x288 with 2 Axes>"
      ]
     },
     "metadata": {
      "needs_background": "light"
     },
     "output_type": "display_data"
    }
   ],
   "source": [
    "plt.figure(figsize = (8,4))\n",
    "sb.heatmap(confusion(bboxes_clusters), cmap = 'crest')\n",
    "plt.title('BBoxes Clusters')\n",
    "plt.show()"
   ]
  },
  {
   "cell_type": "code",
   "execution_count": 50,
   "id": "95e510dc",
   "metadata": {},
   "outputs": [
    {
     "name": "stdout",
     "output_type": "stream",
     "text": [
      "Dispersion Loss: -2.9311432939698645\n"
     ]
    },
    {
     "data": {
      "image/png": "[encoded data removed]",
      "text/plain": [
       "<Figure size 576x360 with 1 Axes>"
      ]
     },
     "metadata": {
      "needs_background": "light"
     },
     "output_type": "display_data"
    }
   ],
   "source": [
    "df = confusion(bboxes_clusters)\n",
    "bboxes_max = []\n",
    "\n",
    "for i in range(len(df.columns)):\n",
    "    bboxes_max.append(df[df.columns[i]].max())\n",
    "    \n",
    "labels = []\n",
    "probs = []\n",
    "for i in range(len(df.columns)):\n",
    "    labels.append(df[df.columns[i]].argmax())\n",
    "    probs.append(df[df.columns[i]].max())\n",
    "\n",
    "df4 = pd.DataFrame()\n",
    "df4['pred_labels'] = labels\n",
    "df4['pred_probs'] = probs\n",
    "\n",
    "df4 = df4.sort_values('pred_probs', ascending = False).reset_index(drop = True)\n",
    "df4 = df4.groupby('pred_labels').mean().reset_index()\n",
    "plt.figure(figsize=(8, 5))\n",
    "plt.bar(df4['pred_labels'], df4['pred_probs'])\n",
    "plt.xticks(df4['pred_labels'])\n",
    "plt.xlabel('Labels')\n",
    "plt.ylabel('Probs')\n",
    "plt.show()"
   ]
  },
  {
   "cell_type": "markdown",
   "id": "a2f91ee0",
   "metadata": {},
   "source": [
    "Overall, the performance improves when using the bboxes only: the dispersion loss slightly decreases, and two families are predicted with 100% purity. Interestingly, now \"aves\" is predicted with less accuracy with respect to the others: while context-wise it's easier to identify, it seems that animals features-wise the opposite is true."
   ]
  },
  {
   "cell_type": "markdown",
   "id": "f88442a6",
   "metadata": {},
   "source": [
    "# Context Comparison"
   ]
  },
  {
   "cell_type": "code",
   "execution_count": 51,
   "id": "71b9d113",
   "metadata": {},
   "outputs": [
    {
     "data": {
      "text/html": [
       "<div>\n",
       "<style scoped>\n",
       "    .dataframe tbody tr th:only-of-type {\n",
       "        vertical-align: middle;\n",
       "    }\n",
       "\n",
       "    .dataframe tbody tr th {\n",
       "        vertical-align: top;\n",
       "    }\n",
       "\n",
       "    .dataframe thead th {\n",
       "        text-align: right;\n",
       "    }\n",
       "</style>\n",
       "<table border=\"1\" class=\"dataframe\">\n",
       "  <thead>\n",
       "    <tr style=\"text-align: right;\">\n",
       "      <th></th>\n",
       "      <th>pred_labels</th>\n",
       "      <th>context_probs</th>\n",
       "      <th>filled_probs</th>\n",
       "      <th>standard</th>\n",
       "      <th>bboxes</th>\n",
       "    </tr>\n",
       "  </thead>\n",
       "  <tbody>\n",
       "    <tr>\n",
       "      <th>0</th>\n",
       "      <td>0</td>\n",
       "      <td>46.145435</td>\n",
       "      <td>71.028037</td>\n",
       "      <td>82.051282</td>\n",
       "      <td>98.936170</td>\n",
       "    </tr>\n",
       "    <tr>\n",
       "      <th>1</th>\n",
       "      <td>1</td>\n",
       "      <td>71.309524</td>\n",
       "      <td>78.042763</td>\n",
       "      <td>82.857143</td>\n",
       "      <td>81.147241</td>\n",
       "    </tr>\n",
       "    <tr>\n",
       "      <th>3</th>\n",
       "      <td>2</td>\n",
       "      <td>0.000000</td>\n",
       "      <td>48.421791</td>\n",
       "      <td>82.602339</td>\n",
       "      <td>80.125580</td>\n",
       "    </tr>\n",
       "    <tr>\n",
       "      <th>2</th>\n",
       "      <td>3</td>\n",
       "      <td>48.488079</td>\n",
       "      <td>50.782967</td>\n",
       "      <td>99.166667</td>\n",
       "      <td>100.000000</td>\n",
       "    </tr>\n",
       "  </tbody>\n",
       "</table>\n",
       "</div>"
      ],
      "text/plain": [
       "   pred_labels  context_probs  filled_probs   standard      bboxes\n",
       "0            0      46.145435     71.028037  82.051282   98.936170\n",
       "1            1      71.309524     78.042763  82.857143   81.147241\n",
       "3            2       0.000000     48.421791  82.602339   80.125580\n",
       "2            3      48.488079     50.782967  99.166667  100.000000"
      ]
     },
     "execution_count": 51,
     "metadata": {},
     "output_type": "execute_result"
    }
   ],
   "source": [
    "#Generation of a single dataframe with the predicted labels and their corrisponding probabilities of all four types of clusters.\n",
    "comp = pd.merge(df1, df2, on = 'pred_labels', how = 'outer')\n",
    "comp = comp.rename({'pred_probs_x':'context_probs', 'pred_probs_y':'filled_probs'}, axis = 1)\n",
    "comp = pd.merge(comp, df3, on = 'pred_labels', how = 'outer')\n",
    "comp = comp.rename({'pred_probs':'standard'}, axis = 1)\n",
    "comp = pd.merge(comp, df4, on = 'pred_labels', how = 'outer')\n",
    "comp = comp.rename({'pred_probs':'bboxes'}, axis = 1)\n",
    "comp = comp.fillna(0)\n",
    "comp = comp.sort_values('pred_labels')\n",
    "comp"
   ]
  },
  {
   "cell_type": "code",
   "execution_count": 54,
   "id": "9718db01",
   "metadata": {},
   "outputs": [
    {
     "data": {
      "image/png": "[encoded data removed]",
      "text/plain": [
       "<Figure size 648x360 with 1 Axes>"
      ]
     },
     "metadata": {
      "needs_background": "light"
     },
     "output_type": "display_data"
    }
   ],
   "source": [
    "x = np.arange(4)\n",
    "width = 0.2\n",
    "plt.figure(figsize=(9, 5))\n",
    "plt.bar(x - 0.3, comp['context_probs'], width, label = 'Context')\n",
    "plt.bar(x - 0.1, comp['filled_probs'], width, label = 'Filled Context')\n",
    "plt.bar(x + 0.1, comp['standard'], width, label = 'Standard')\n",
    "plt.bar(x + 0.3, comp['bboxes'], width, label = 'BBoxes')\n",
    "plt.xticks(comp['pred_labels'])\n",
    "plt.ylabel('Probs')\n",
    "plt.title('Labels Predictions')\n",
    "plt.legend()\n",
    "plt.show()"
   ]
  },
  {
   "cell_type": "markdown",
   "id": "5eec1b44",
   "metadata": {},
   "source": [
    "The plot bar above compares the predicted probabilities of each label by all four types of clusters. As it's possible to see, for three families there exists an increasing trend: when moving from clusters to bboxes, the purity associated with each prediction increases, suggesting that for family identification using only the bboxes may be the best approach. However, for label 1 (aves), the improvement is only marginal, suggesting that context only may be powerful enough for its identification among other families. "
   ]
  }
 ],
 "metadata": {
  "kernelspec": {
   "display_name": "Python 3",
   "language": "python",
   "name": "python3"
  },
  "language_info": {
   "codemirror_mode": {
    "name": "ipython",
    "version": 3
   },
   "file_extension": ".py",
   "mimetype": "text/x-python",
   "name": "python",
   "nbconvert_exporter": "python",
   "pygments_lexer": "ipython3",
   "version": "3.8.8"
  }
 },
 "nbformat": 4,
 "nbformat_minor": 5
}
