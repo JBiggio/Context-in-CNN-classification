{
 "cells": [
  {
   "cell_type": "markdown",
   "id": "66795582",
   "metadata": {},
   "source": [
    "# Group 1"
   ]
  },
  {
   "cell_type": "markdown",
   "id": "15ff9426",
   "metadata": {},
   "source": [
    "Fabio Ceruti - Fabio Martino - Alex Lucchini - Jacopo Biggiogera"
   ]
  },
  {
   "cell_type": "markdown",
   "id": "b26dd2b1",
   "metadata": {},
   "source": [
    "This notebook contains the code used to produce the bar plots of the classification rates for both species and families predictions."
   ]
  },
  {
   "cell_type": "code",
   "execution_count": 88,
   "id": "fbe2289d",
   "metadata": {},
   "outputs": [],
   "source": [
    "import pandas as pd\n",
    "import numpy as np\n",
    "import seaborn as sb\n",
    "import matplotlib.pyplot as plt"
   ]
  },
  {
   "cell_type": "code",
   "execution_count": 89,
   "id": "e562e614",
   "metadata": {},
   "outputs": [
    {
     "data": {
      "text/html": [
       "<div>\n",
       "<style scoped>\n",
       "    .dataframe tbody tr th:only-of-type {\n",
       "        vertical-align: middle;\n",
       "    }\n",
       "\n",
       "    .dataframe tbody tr th {\n",
       "        vertical-align: top;\n",
       "    }\n",
       "\n",
       "    .dataframe thead th {\n",
       "        text-align: right;\n",
       "    }\n",
       "</style>\n",
       "<table border=\"1\" class=\"dataframe\">\n",
       "  <thead>\n",
       "    <tr style=\"text-align: right;\">\n",
       "      <th></th>\n",
       "      <th>Unnamed: 0</th>\n",
       "      <th>masked</th>\n",
       "      <th>sift</th>\n",
       "      <th>contrast</th>\n",
       "      <th>bright</th>\n",
       "      <th>species</th>\n",
       "      <th>path</th>\n",
       "      <th>vanilla</th>\n",
       "      <th>bbcontent</th>\n",
       "      <th>mixed</th>\n",
       "      <th>...</th>\n",
       "      <th>red</th>\n",
       "      <th>green</th>\n",
       "      <th>blue</th>\n",
       "      <th>average_0</th>\n",
       "      <th>average_1</th>\n",
       "      <th>average_2</th>\n",
       "      <th>diff_cont_red</th>\n",
       "      <th>diff_cont_green</th>\n",
       "      <th>diff_cont_blue</th>\n",
       "      <th>bbox_ratio</th>\n",
       "    </tr>\n",
       "  </thead>\n",
       "  <tbody>\n",
       "    <tr>\n",
       "      <th>0</th>\n",
       "      <td>0</td>\n",
       "      <td>1</td>\n",
       "      <td>156</td>\n",
       "      <td>44.678057</td>\n",
       "      <td>122.619973</td>\n",
       "      <td>Pandion haliaetus</td>\n",
       "      <td>/content/drive/MyDrive/Animals_masked/Animals_...</td>\n",
       "      <td>1</td>\n",
       "      <td>1</td>\n",
       "      <td>1</td>\n",
       "      <td>...</td>\n",
       "      <td>75.529122</td>\n",
       "      <td>11.546985</td>\n",
       "      <td>28.336603</td>\n",
       "      <td>96.900701</td>\n",
       "      <td>142.450679</td>\n",
       "      <td>192.453651</td>\n",
       "      <td>-25.216641</td>\n",
       "      <td>15.383413</td>\n",
       "      <td>86.988780</td>\n",
       "      <td>16.103542</td>\n",
       "    </tr>\n",
       "    <tr>\n",
       "      <th>1</th>\n",
       "      <td>1</td>\n",
       "      <td>0</td>\n",
       "      <td>2784</td>\n",
       "      <td>76.915200</td>\n",
       "      <td>80.271130</td>\n",
       "      <td>Spinus tristis</td>\n",
       "      <td>/content/drive/MyDrive/Animals_masked/Animals_...</td>\n",
       "      <td>1</td>\n",
       "      <td>1</td>\n",
       "      <td>1</td>\n",
       "      <td>...</td>\n",
       "      <td>11.764276</td>\n",
       "      <td>0.255391</td>\n",
       "      <td>0.093554</td>\n",
       "      <td>123.198697</td>\n",
       "      <td>126.486752</td>\n",
       "      <td>101.010407</td>\n",
       "      <td>1.081354</td>\n",
       "      <td>-0.580514</td>\n",
       "      <td>-4.454465</td>\n",
       "      <td>18.777824</td>\n",
       "    </tr>\n",
       "    <tr>\n",
       "      <th>2</th>\n",
       "      <td>2</td>\n",
       "      <td>1</td>\n",
       "      <td>330</td>\n",
       "      <td>96.223408</td>\n",
       "      <td>195.855005</td>\n",
       "      <td>Pachydiplax longipennis</td>\n",
       "      <td>/content/drive/MyDrive/Animals_masked/Animals_...</td>\n",
       "      <td>1</td>\n",
       "      <td>1</td>\n",
       "      <td>1</td>\n",
       "      <td>...</td>\n",
       "      <td>50.937013</td>\n",
       "      <td>12.645696</td>\n",
       "      <td>16.546658</td>\n",
       "      <td>103.198176</td>\n",
       "      <td>109.649786</td>\n",
       "      <td>70.611125</td>\n",
       "      <td>-18.919167</td>\n",
       "      <td>-17.417480</td>\n",
       "      <td>-34.853747</td>\n",
       "      <td>8.251173</td>\n",
       "    </tr>\n",
       "    <tr>\n",
       "      <th>3</th>\n",
       "      <td>3</td>\n",
       "      <td>0</td>\n",
       "      <td>1671</td>\n",
       "      <td>92.882461</td>\n",
       "      <td>46.955006</td>\n",
       "      <td>Canis latrans</td>\n",
       "      <td>/content/drive/MyDrive/Animals_masked/Animals_...</td>\n",
       "      <td>0</td>\n",
       "      <td>0</td>\n",
       "      <td>0</td>\n",
       "      <td>...</td>\n",
       "      <td>32.302684</td>\n",
       "      <td>5.813796</td>\n",
       "      <td>10.957970</td>\n",
       "      <td>134.831277</td>\n",
       "      <td>132.248096</td>\n",
       "      <td>141.998666</td>\n",
       "      <td>12.713934</td>\n",
       "      <td>5.180830</td>\n",
       "      <td>36.533795</td>\n",
       "      <td>0.105000</td>\n",
       "    </tr>\n",
       "    <tr>\n",
       "      <th>4</th>\n",
       "      <td>4</td>\n",
       "      <td>0</td>\n",
       "      <td>3032</td>\n",
       "      <td>84.739734</td>\n",
       "      <td>85.638236</td>\n",
       "      <td>Trachemys scripta elegans</td>\n",
       "      <td>/content/drive/MyDrive/Animals_masked/Animals_...</td>\n",
       "      <td>1</td>\n",
       "      <td>0</td>\n",
       "      <td>0</td>\n",
       "      <td>...</td>\n",
       "      <td>9.112623</td>\n",
       "      <td>1.590392</td>\n",
       "      <td>14.203597</td>\n",
       "      <td>136.216462</td>\n",
       "      <td>127.411422</td>\n",
       "      <td>100.480382</td>\n",
       "      <td>14.099119</td>\n",
       "      <td>0.344155</td>\n",
       "      <td>-4.984490</td>\n",
       "      <td>14.478659</td>\n",
       "    </tr>\n",
       "  </tbody>\n",
       "</table>\n",
       "<p>5 rows × 21 columns</p>\n",
       "</div>"
      ],
      "text/plain": [
       "   Unnamed: 0  masked  sift   contrast      bright                    species  \\\n",
       "0           0       1   156  44.678057  122.619973          Pandion haliaetus   \n",
       "1           1       0  2784  76.915200   80.271130             Spinus tristis   \n",
       "2           2       1   330  96.223408  195.855005    Pachydiplax longipennis   \n",
       "3           3       0  1671  92.882461   46.955006              Canis latrans   \n",
       "4           4       0  3032  84.739734   85.638236  Trachemys scripta elegans   \n",
       "\n",
       "                                                path  vanilla  bbcontent  \\\n",
       "0  /content/drive/MyDrive/Animals_masked/Animals_...        1          1   \n",
       "1  /content/drive/MyDrive/Animals_masked/Animals_...        1          1   \n",
       "2  /content/drive/MyDrive/Animals_masked/Animals_...        1          1   \n",
       "3  /content/drive/MyDrive/Animals_masked/Animals_...        0          0   \n",
       "4  /content/drive/MyDrive/Animals_masked/Animals_...        1          0   \n",
       "\n",
       "   mixed  ...        red      green       blue   average_0   average_1  \\\n",
       "0      1  ...  75.529122  11.546985  28.336603   96.900701  142.450679   \n",
       "1      1  ...  11.764276   0.255391   0.093554  123.198697  126.486752   \n",
       "2      1  ...  50.937013  12.645696  16.546658  103.198176  109.649786   \n",
       "3      0  ...  32.302684   5.813796  10.957970  134.831277  132.248096   \n",
       "4      0  ...   9.112623   1.590392  14.203597  136.216462  127.411422   \n",
       "\n",
       "    average_2  diff_cont_red  diff_cont_green  diff_cont_blue  bbox_ratio  \n",
       "0  192.453651     -25.216641        15.383413       86.988780   16.103542  \n",
       "1  101.010407       1.081354        -0.580514       -4.454465   18.777824  \n",
       "2   70.611125     -18.919167       -17.417480      -34.853747    8.251173  \n",
       "3  141.998666      12.713934         5.180830       36.533795    0.105000  \n",
       "4  100.480382      14.099119         0.344155       -4.984490   14.478659  \n",
       "\n",
       "[5 rows x 21 columns]"
      ]
     },
     "execution_count": 89,
     "metadata": {},
     "output_type": "execute_result"
    }
   ],
   "source": [
    "preds = pd.read_csv('final_logit.csv')\n",
    "preds.head()"
   ]
  },
  {
   "cell_type": "markdown",
   "id": "d404edfb",
   "metadata": {},
   "source": [
    "# Species Classification"
   ]
  },
  {
   "cell_type": "code",
   "execution_count": 90,
   "id": "56e7f977",
   "metadata": {},
   "outputs": [
    {
     "name": "stdout",
     "output_type": "stream",
     "text": [
      "['Anolis carolinensis', 'Canis latrans', 'Chelydra serpentina', 'Harmonia axyridis', 'Junonia coenia', 'Pachydiplax longipennis', 'Pandion haliaetus', 'Picoides pubescens', 'Procyon lotor', 'Sciurus carolinensis', 'Spinus tristis', 'Trachemys scripta elegans']\n"
     ]
    }
   ],
   "source": [
    "species = set(preds['species'])\n",
    "species = sorted(list(species))\n",
    "print(species)\n",
    "masked = []\n",
    "vanilla = []\n",
    "bbcontent = []\n",
    "mixed = []\n",
    "\n",
    "for i in range(len(species)):\n",
    "    masked.append(len(preds[(preds['masked'] == 1)&(preds['species'] == species[i])])*100/len(preds.loc[preds['species'] == species[i], 'species']))\n",
    "    vanilla.append(len(preds[(preds['vanilla'] == 1)&(preds['species'] == species[i])])*100/len(preds.loc[preds['species'] == species[i], 'species']))\n",
    "    bbcontent.append(len(preds[(preds['bbcontent'] == 1)&(preds['species'] == species[i])])*100/len(preds.loc[preds['species'] == species[i], 'species']))\n",
    "    mixed.append(len(preds[(preds['mixed'] == 1)&(preds['species'] == species[i])])*100/len(preds.loc[preds['species'] == species[i], 'species']))"
   ]
  },
  {
   "cell_type": "code",
   "execution_count": 91,
   "id": "9263ff77",
   "metadata": {},
   "outputs": [
    {
     "data": {
      "image/png": "[encoded data removed]",
      "text/plain": [
       "<Figure size 1080x504 with 1 Axes>"
      ]
     },
     "metadata": {
      "needs_background": "light"
     },
     "output_type": "display_data"
    }
   ],
   "source": [
    "x = np.arange(12)\n",
    "width = 0.2\n",
    "plt.figure(figsize=(15, 7))\n",
    "plt.bar(x - 0.3, masked, width, label = 'masked')\n",
    "plt.bar(x - 0.1, vanilla, width, label = 'vanilla', color = '#2ca02c')\n",
    "plt.bar(x + 0.1, bbcontent, width, label = 'bbcontent', color = '#d62728')\n",
    "plt.bar(x + 0.3, mixed, width, label = 'mixed', color = '#e377c2')\n",
    "plt.xticks(x, species)\n",
    "plt.tick_params(axis = 'x', rotation = 80)\n",
    "plt.xlabel('Species')\n",
    "plt.ylabel('Probs')\n",
    "plt.title('Labels Predictions: Species')\n",
    "plt.legend()\n",
    "plt.show()"
   ]
  },
  {
   "cell_type": "markdown",
   "id": "1805a466",
   "metadata": {},
   "source": [
    "As it's possible to see, overall the prediction accuracy is increasing when moving from the masked model to the mixed model. However, interestingly, the masked model performs very well for the species \"Pandion haliaetus\" and \"Harmonia axyridis\"."
   ]
  },
  {
   "cell_type": "code",
   "execution_count": 92,
   "id": "374c4b7e",
   "metadata": {},
   "outputs": [
    {
     "name": "stdout",
     "output_type": "stream",
     "text": [
      "Pandion haliaetus\n",
      "Harmonia axyridis\n",
      "Junonia coenia\n"
     ]
    }
   ],
   "source": [
    "#Best predicted species by context\n",
    "print(preds.loc[preds['species'] == species[6], 'species'].iloc[0])\n",
    "print(preds.loc[preds['species'] == species[3], 'species'].iloc[0])\n",
    "print(preds.loc[preds['species'] == species[4], 'species'].iloc[0])"
   ]
  },
  {
   "cell_type": "code",
   "execution_count": 93,
   "id": "71cf2a07",
   "metadata": {},
   "outputs": [
    {
     "name": "stdout",
     "output_type": "stream",
     "text": [
      "Chelydra serpentina\n",
      "Trachemys scripta elegans\n",
      "Pachydiplax longipennis\n",
      "Sciurus carolinensis\n",
      "Anolis carolinensis\n"
     ]
    }
   ],
   "source": [
    "#Worst predicted classes by context\n",
    "print(preds.loc[preds['species'] == species[2], 'species'].iloc[0])\n",
    "print(preds.loc[preds['species'] == species[11], 'species'].iloc[0])\n",
    "print(preds.loc[preds['species'] == species[5], 'species'].iloc[0])\n",
    "print(preds.loc[preds['species'] == species[9], 'species'].iloc[0])\n",
    "print(preds.loc[preds['species'] == species[0], 'species'].iloc[0])"
   ]
  },
  {
   "cell_type": "markdown",
   "id": "d8d7f71d",
   "metadata": {},
   "source": [
    "# Families Classification"
   ]
  },
  {
   "cell_type": "code",
   "execution_count": 97,
   "id": "6eb15ffc",
   "metadata": {},
   "outputs": [],
   "source": [
    "family = ['mammalia', 'aves', 'reptilia', 'insecta']\n",
    "\n",
    "masked = []\n",
    "vanilla = []\n",
    "bbcontent = []\n",
    "mixed = []\n",
    "\n",
    "for i in range(len(family)):\n",
    "    masked.append(len(preds[(preds['masked'] == 1)&(preds['family'] == family[i])])*100/len(preds.loc[preds['family'] == family[i], 'family']))\n",
    "    vanilla.append(len(preds[(preds['vanilla'] == 1)&(preds['family'] == family[i])])*100/len(preds.loc[preds['family'] == family[i], 'family']))\n",
    "    bbcontent.append(len(preds[(preds['bbcontent'] == 1)&(preds['family'] == family[i])])*100/len(preds.loc[preds['family'] == family[i], 'family']))\n",
    "    mixed.append(len(preds[(preds['mixed'] == 1)&(preds['family'] == family[i])])*100/len(preds.loc[preds['family'] == family[i], 'family']))"
   ]
  },
  {
   "cell_type": "code",
   "execution_count": 100,
   "id": "fa2fcef7",
   "metadata": {},
   "outputs": [
    {
     "data": {
      "image/png": "[encoded data removed]",
      "text/plain": [
       "<Figure size 936x504 with 1 Axes>"
      ]
     },
     "metadata": {
      "needs_background": "light"
     },
     "output_type": "display_data"
    }
   ],
   "source": [
    "x = np.arange(4)\n",
    "width = 0.2\n",
    "plt.figure(figsize=(13, 7))\n",
    "plt.bar(x - 0.3, masked, width, label = 'masked')\n",
    "plt.bar(x - 0.1, vanilla, width, label = 'vanilla', color = '#2ca02c')\n",
    "plt.bar(x + 0.1, bbcontent, width, label = 'bbcontent', color = '#d62728')\n",
    "plt.bar(x + 0.3, mixed, width, label = 'mixed', color = '#e377c2')\n",
    "plt.xticks(x, family)\n",
    "plt.xlabel('Families')\n",
    "plt.ylabel('Probs')\n",
    "plt.title('Labels Predictions: Families')\n",
    "plt.legend()\n",
    "plt.show()"
   ]
  },
  {
   "cell_type": "markdown",
   "id": "573e8edf",
   "metadata": {},
   "source": [
    "As it's possible to see, the trend is still increasing, and the masked model performs better for the \"aves\" family. On the other hand, when using the whole images, insects are almost perfectly predicted."
   ]
  }
 ],
 "metadata": {
  "kernelspec": {
   "display_name": "Python 3",
   "language": "python",
   "name": "python3"
  },
  "language_info": {
   "codemirror_mode": {
    "name": "ipython",
    "version": 3
   },
   "file_extension": ".py",
   "mimetype": "text/x-python",
   "name": "python",
   "nbconvert_exporter": "python",
   "pygments_lexer": "ipython3",
   "version": "3.8.8"
  }
 },
 "nbformat": 4,
 "nbformat_minor": 5
}
