{
 "cells": [
  {
   "cell_type": "markdown",
   "id": "10c033f6-d2f0-486d-ad43-1520fae7f998",
   "metadata": {},
   "source": [
    "# Group 1\n",
    "\n",
    "Fabio Ceruti- Fabio Martino - Alex Lucchini - Jacopo Biggiogera\n",
    "\n",
    "This notebook contains code that allows to generated pictures with masked bounding boxes, bounding boxes filled with teh average pixel value of the context and to extract new pictures that are only the content of the bouding boxes"
   ]
  },
  {
   "cell_type": "code",
   "execution_count": 1,
   "id": "e06540fd-083a-47e5-a0b9-73d4ef6e83cc",
   "metadata": {},
   "outputs": [],
   "source": [
    "import os\n",
    "import pandas as pd\n",
    "import numpy as np\n",
    "import PIL\n",
    "import matplotlib.pyplot as plt\n",
    "import matplotlib.image as mpimg\n",
    "import matplotlib.patches as patches\n",
    "import shutil\n",
    "from collections import defaultdict\n",
    "from PIL import Image"
   ]
  },
  {
   "cell_type": "code",
   "execution_count": 1,
   "id": "caeee495-1270-414f-a485-7245725712c6",
   "metadata": {},
   "outputs": [],
   "source": [
    "def bb_mask(image, bboxes):\n",
    "    '''This function identifies the bouding box and substitutes content with a 0'''\n",
    "    if bboxes[0]==',':\n",
    "        bboxes = bboxes[1:]\n",
    "    bboxes = bboxes.split(',')\n",
    "    start_x = int(bboxes[1])\n",
    "    start_y = int(bboxes[0])\n",
    "    end_x = start_x + int(bboxes[3])\n",
    "    end_y = start_y + int(bboxes[2])\n",
    "    if len(image.shape) == 2:\n",
    "        image[start_x:end_x, start_y:end_y] = 0\n",
    "    else:\n",
    "        image[start_x:end_x, start_y:end_y, 0] = 0\n",
    "        image[start_x:end_x, start_y:end_y, 1] = 0\n",
    "        image[start_x:end_x, start_y:end_y, 2] = 0\n",
    "    return image"
   ]
  },
  {
   "cell_type": "code",
   "execution_count": 3,
   "id": "57922c72-dc97-453f-9478-89104a508358",
   "metadata": {},
   "outputs": [],
   "source": [
    "def bb_removal(img_path, bboxes, savepath, filename):\n",
    "    '''This function reads and image, removes the bounding box and saves it'''\n",
    "    img = Image.open(img_path)\n",
    "    img = np.array(img)\n",
    "    for i in bboxes:\n",
    "        img = bb_mask(img, i)\n",
    "        \n",
    "    #Saving image in specified directory with the same original name\n",
    "    im = Image.fromarray(img)\n",
    "    im.save(savepath+'/'+filename)\n",
    "    return img"
   ]
  },
  {
   "cell_type": "code",
   "execution_count": 4,
   "id": "04332512-eeb9-488c-a34f-ef0ef5ea0c6a",
   "metadata": {},
   "outputs": [],
   "source": [
    "def bbox_cleaner(bbstr):\n",
    "    '''This function reads the bouding box values form a dataframe'''\n",
    "    bbstr = bbstr[1:-1]\n",
    "    nb = bbstr.count('[')\n",
    "    for i in range(nb):\n",
    "        bbstr = bbstr.replace('[', '')\n",
    "    bbstr = bbstr.split(']')\n",
    "    return bbstr[:-1]"
   ]
  },
  {
   "cell_type": "code",
   "execution_count": 5,
   "id": "250c4c53-3344-47fe-8be9-fee5bf9feebb",
   "metadata": {},
   "outputs": [],
   "source": [
    "def bb_extract(image_path, bboxes, savepath, filename):\n",
    "    '''This function extracts the content of a bounding box'''\n",
    "    img = Image.open(image_path)\n",
    "    img = np.array(img)\n",
    "    start_x = int(bboxes[1])\n",
    "    start_y = int(bboxes[0])\n",
    "    end_x = start_x + int(bboxes[3])\n",
    "    end_y = start_y + int(bboxes[2])\n",
    "    if len(img.shape) == 2:\n",
    "        box = img[start_x:end_x, start_y:end_y]\n",
    "        box = (box - box.min())/(box.max()-box.min())\n",
    "    else:\n",
    "        box_1 = img[start_x:end_x, start_y:end_y, 0] \n",
    "        box_2 = img[start_x:end_x, start_y:end_y, 1] \n",
    "        box_3 = img[start_x:end_x, start_y:end_y, 2] \n",
    "        box_1 = (box_1 - box_1.min())/(box_1.max()-box_1.min())\n",
    "        box_2 = (box_2 - box_2.min())/(box_2.max()-box_2.min())\n",
    "        box_3 = (box_3 - box_3.min())/(box_3.max()-box_3.min())\n",
    "        box = np.zeros((box_1.shape[0], box_1.shape[1], 3))\n",
    "        box[:,:,0] = box_1\n",
    "        box[:,:,1] = box_2\n",
    "        box[:,:,2] = box_3\n",
    "    im = Image.fromarray((box* 255).astype(np.uint8))\n",
    "    im.save(savepath+'/'+filename)"
   ]
  },
  {
   "cell_type": "markdown",
   "id": "d33dad55-a4ef-4832-862e-a70eea7afa92",
   "metadata": {},
   "source": [
    "# Removing bounding boxes"
   ]
  },
  {
   "cell_type": "code",
   "execution_count": 45,
   "id": "9a5241a4-cc1f-4c85-9977-c6dfe26bfbe8",
   "metadata": {},
   "outputs": [
    {
     "data": {
      "text/html": [
       "<div>\n",
       "<style scoped>\n",
       "    .dataframe tbody tr th:only-of-type {\n",
       "        vertical-align: middle;\n",
       "    }\n",
       "\n",
       "    .dataframe tbody tr th {\n",
       "        vertical-align: top;\n",
       "    }\n",
       "\n",
       "    .dataframe thead th {\n",
       "        text-align: right;\n",
       "    }\n",
       "</style>\n",
       "<table border=\"1\" class=\"dataframe\">\n",
       "  <thead>\n",
       "    <tr style=\"text-align: right;\">\n",
       "      <th></th>\n",
       "      <th>Unnamed: 0</th>\n",
       "      <th>pic_name</th>\n",
       "      <th>bbox</th>\n",
       "      <th>id</th>\n",
       "      <th>path_name</th>\n",
       "      <th>species</th>\n",
       "    </tr>\n",
       "  </thead>\n",
       "  <tbody>\n",
       "    <tr>\n",
       "      <th>0</th>\n",
       "      <td>0</td>\n",
       "      <td>24a78d176d2408fae40725cdc48bd605.jpg</td>\n",
       "      <td>[[281, 225, 118, 125]]</td>\n",
       "      <td>159413</td>\n",
       "      <td>/content/drive/MyDrive/Animals/Pandion haliaet...</td>\n",
       "      <td>Pandion haliaetus</td>\n",
       "    </tr>\n",
       "    <tr>\n",
       "      <th>1</th>\n",
       "      <td>1</td>\n",
       "      <td>8f87370536337294de8c925c3668ae2d.jpg</td>\n",
       "      <td>[[234, 168, 337, 196]]</td>\n",
       "      <td>77529</td>\n",
       "      <td>/content/drive/MyDrive/Animals/Pachydiplax lon...</td>\n",
       "      <td>Pachydiplax longipennis</td>\n",
       "    </tr>\n",
       "    <tr>\n",
       "      <th>2</th>\n",
       "      <td>2</td>\n",
       "      <td>5d85146f3c7c25f71ca15ec9b4d8be54.jpg</td>\n",
       "      <td>[[132, 110, 497, 520]]</td>\n",
       "      <td>275890</td>\n",
       "      <td>/content/drive/MyDrive/Animals/Junonia coenia/...</td>\n",
       "      <td>Junonia coenia</td>\n",
       "    </tr>\n",
       "    <tr>\n",
       "      <th>3</th>\n",
       "      <td>3</td>\n",
       "      <td>70958a293b1b2897248604c57fed16fb.jpg</td>\n",
       "      <td>[[324, 310, 175, 160]]</td>\n",
       "      <td>2786</td>\n",
       "      <td>/content/drive/MyDrive/Animals/Picoides pubesc...</td>\n",
       "      <td>Picoides pubescens</td>\n",
       "    </tr>\n",
       "    <tr>\n",
       "      <th>4</th>\n",
       "      <td>4</td>\n",
       "      <td>572b82540fca7c20c6246b0bd602c2f0.jpg</td>\n",
       "      <td>[[247, 29, 295, 268]]</td>\n",
       "      <td>309373</td>\n",
       "      <td>/content/drive/MyDrive/Animals/Harmonia axyrid...</td>\n",
       "      <td>Harmonia axyridis</td>\n",
       "    </tr>\n",
       "  </tbody>\n",
       "</table>\n",
       "</div>"
      ],
      "text/plain": [
       "   Unnamed: 0                              pic_name                    bbox  \\\n",
       "0           0  24a78d176d2408fae40725cdc48bd605.jpg  [[281, 225, 118, 125]]   \n",
       "1           1  8f87370536337294de8c925c3668ae2d.jpg  [[234, 168, 337, 196]]   \n",
       "2           2  5d85146f3c7c25f71ca15ec9b4d8be54.jpg  [[132, 110, 497, 520]]   \n",
       "3           3  70958a293b1b2897248604c57fed16fb.jpg  [[324, 310, 175, 160]]   \n",
       "4           4  572b82540fca7c20c6246b0bd602c2f0.jpg   [[247, 29, 295, 268]]   \n",
       "\n",
       "       id                                          path_name  \\\n",
       "0  159413  /content/drive/MyDrive/Animals/Pandion haliaet...   \n",
       "1   77529  /content/drive/MyDrive/Animals/Pachydiplax lon...   \n",
       "2  275890  /content/drive/MyDrive/Animals/Junonia coenia/...   \n",
       "3    2786  /content/drive/MyDrive/Animals/Picoides pubesc...   \n",
       "4  309373  /content/drive/MyDrive/Animals/Harmonia axyrid...   \n",
       "\n",
       "                   species  \n",
       "0        Pandion haliaetus  \n",
       "1  Pachydiplax longipennis  \n",
       "2           Junonia coenia  \n",
       "3       Picoides pubescens  \n",
       "4        Harmonia axyridis  "
      ]
     },
     "execution_count": 45,
     "metadata": {},
     "output_type": "execute_result"
    }
   ],
   "source": [
    "correct = pd.read_csv('correct_bboxes.csv')\n",
    "correct.head()"
   ]
  },
  {
   "cell_type": "code",
   "execution_count": 3,
   "id": "4b1aaaf2-eb70-4ea2-b4c7-4f4aa7642584",
   "metadata": {
    "tags": []
   },
   "outputs": [],
   "source": [
    "#Creating directories for each species\n",
    "for spec in os.listdir('Animals'):\n",
    "    if spec!= '.DS_Store':\n",
    "        os.mkdir('Animals_masked/'+spec)\n",
    "    "
   ]
  },
  {
   "cell_type": "code",
   "execution_count": 85,
   "id": "ead69167-bcda-4365-8746-18cc2de961c7",
   "metadata": {},
   "outputs": [],
   "source": [
    "parent = 'Animals'\n",
    "for bbox, path, name, species in zip(correct['bbox'], correct['path_name'], correct['pic_name'], correct['species']):\n",
    "    p_vm = path[23:]\n",
    "    new_location = 'Animals_masked/'+species+'/'\n",
    "    bbox = bbox_cleaner(bbox)\n",
    "    bb_removal(p_vm, bbox,new_location, name)"
   ]
  },
  {
   "cell_type": "code",
   "execution_count": 93,
   "id": "6ceb8b3e-1321-4394-97cf-1d1b3054d3aa",
   "metadata": {},
   "outputs": [
    {
     "name": "stdout",
     "output_type": "stream",
     "text": [
      "Sciurus carolinensis: 969\n",
      "Trachemys scripta elegans: 765\n",
      "Junonia coenia: 890\n",
      "Pandion haliaetus: 1794\n",
      "Pachydiplax longipennis: 1576\n",
      "Anolis carolinensis: 1093\n",
      "Chelydra serpentina: 591\n",
      "Spinus tristis: 1312\n",
      "Procyon lotor: 889\n",
      "Harmonia axyridis: 789\n",
      "Picoides pubescens: 1503\n",
      "Canis latrans: 1129\n",
      "Total pictures: 13300\n"
     ]
    }
   ],
   "source": [
    "c = 0\n",
    "for i in os.listdir('Animals_masked'):\n",
    "    for t in os.listdir('Animals_masked/'+i):\n",
    "        if t != '.DS_Store':\n",
    "            c+=1\n",
    "    print(f\"{i}: {len(os.listdir('Animals_masked/'+i))}\")\n",
    "print(f'Total pictures: {c}')"
   ]
  },
  {
   "cell_type": "code",
   "execution_count": 96,
   "id": "a5187ae2-4857-487e-96a5-78a8c4943b50",
   "metadata": {},
   "outputs": [
    {
     "data": {
      "text/plain": [
       "species\n",
       "Anolis carolinensis          1092\n",
       "Canis latrans                1128\n",
       "Chelydra serpentina           591\n",
       "Harmonia axyridis             789\n",
       "Junonia coenia                890\n",
       "Pachydiplax longipennis      1576\n",
       "Pandion haliaetus            1794\n",
       "Picoides pubescens           1503\n",
       "Procyon lotor                 889\n",
       "Sciurus carolinensis          969\n",
       "Spinus tristis               1312\n",
       "Trachemys scripta elegans     765\n",
       "Name: pic_name, dtype: int64"
      ]
     },
     "execution_count": 96,
     "metadata": {},
     "output_type": "execute_result"
    }
   ],
   "source": [
    "correct.groupby('species').count()['pic_name']"
   ]
  },
  {
   "cell_type": "markdown",
   "id": "1c951a47-4f67-413d-8e62-0ad36dfbea71",
   "metadata": {},
   "source": [
    "# Filling bouding boxes with average color"
   ]
  },
  {
   "cell_type": "code",
   "execution_count": null,
   "id": "ce43c4dc-660b-4529-af08-039373d7bb56",
   "metadata": {},
   "outputs": [],
   "source": [
    "def avg_filling(img_path, savepath):\n",
    "    image = Image.open(img_path)\n",
    "    image = np.array(image)\n",
    "    if len(image.shape) == 3:\n",
    "        average_0 = image[:,:,0][image[:,:,0] != 0].mean()\n",
    "        average_1 = image[:,:,1][image[:,:,1] != 0].mean()\n",
    "        average_2 = image[:,:,2][image[:,:,2] != 0].mean()\n",
    "\n",
    "        image[:,:,0][image[:,:,0] == 0] = average_0\n",
    "        image[:,:,1][image[:,:,1] == 0] = average_1\n",
    "        image[:,:,2][image[:,:,2] == 0] = average_2\n",
    "    else:\n",
    "        average_0 = image[:,:][image[:,:] != 0].mean()\n",
    "\n",
    "        image[:,:][image[:,:] == 0] = average_0\n",
    "        \n",
    "    im = Image.fromarray(image)#(image* 255).astype(np.uint8))\n",
    "    \n",
    "    filename = img_path[15:]\n",
    "    im.save(savepath+'/'+filename)"
   ]
  },
  {
   "cell_type": "code",
   "execution_count": null,
   "id": "b1dd0b42-116f-4e10-adee-e0d401734dbd",
   "metadata": {},
   "outputs": [],
   "source": [
    "#os.mkdir('Animals_masked_averaged')\n",
    "for spec in os.listdir('Animals'):\n",
    "    if spec!= '.DS_Store':\n",
    "        os.mkdir('Animals_masked_averaged/'+spec)"
   ]
  },
  {
   "cell_type": "code",
   "execution_count": null,
   "id": "941f9903-3142-430d-ae9d-c75559c8c6c3",
   "metadata": {},
   "outputs": [],
   "source": [
    "tv = pd.read_csv('train_val_data.csv')"
   ]
  },
  {
   "cell_type": "code",
   "execution_count": null,
   "id": "4b92222e-2aca-4d43-aa7a-2630ab500ef3",
   "metadata": {},
   "outputs": [],
   "source": [
    "tv = pd.read_csv('train_val_data.csv')\n",
    "for i in tqdm(tv['path']):\n",
    "    part = i[7:]\n",
    "    newpath ='Animals_masked'+part\n",
    "    avg_filling(newpath, 'Animals_masked_averaged')"
   ]
  },
  {
   "cell_type": "markdown",
   "id": "df8676f6-9fa4-4692-ac1c-5fabbea520bd",
   "metadata": {},
   "source": [
    "# Extracting only bounding boxes"
   ]
  },
  {
   "cell_type": "code",
   "execution_count": 6,
   "id": "e4ace687-854a-438e-bace-864638b03fef",
   "metadata": {},
   "outputs": [
    {
     "data": {
      "text/html": [
       "<div>\n",
       "<style scoped>\n",
       "    .dataframe tbody tr th:only-of-type {\n",
       "        vertical-align: middle;\n",
       "    }\n",
       "\n",
       "    .dataframe tbody tr th {\n",
       "        vertical-align: top;\n",
       "    }\n",
       "\n",
       "    .dataframe thead th {\n",
       "        text-align: right;\n",
       "    }\n",
       "</style>\n",
       "<table border=\"1\" class=\"dataframe\">\n",
       "  <thead>\n",
       "    <tr style=\"text-align: right;\">\n",
       "      <th></th>\n",
       "      <th>Unnamed: 0</th>\n",
       "      <th>pic_name</th>\n",
       "      <th>id</th>\n",
       "      <th>bbox</th>\n",
       "      <th>path_name</th>\n",
       "      <th>species</th>\n",
       "    </tr>\n",
       "  </thead>\n",
       "  <tbody>\n",
       "    <tr>\n",
       "      <th>0</th>\n",
       "      <td>0</td>\n",
       "      <td>2bf2dc73a77dbf99d1c92a64e49afec2.jpg</td>\n",
       "      <td>2199</td>\n",
       "      <td>[251, 239, 91, 240]</td>\n",
       "      <td>/content/drive/MyDrive/Animals/Picoides pubesc...</td>\n",
       "      <td>Picoides pubescens</td>\n",
       "    </tr>\n",
       "    <tr>\n",
       "      <th>1</th>\n",
       "      <td>1</td>\n",
       "      <td>be0ed422200ed45975ae3954bd5e7325.jpg</td>\n",
       "      <td>2200</td>\n",
       "      <td>[249, 2, 227, 528]</td>\n",
       "      <td>/content/drive/MyDrive/Animals/Picoides pubesc...</td>\n",
       "      <td>Picoides pubescens</td>\n",
       "    </tr>\n",
       "    <tr>\n",
       "      <th>2</th>\n",
       "      <td>2</td>\n",
       "      <td>dd09c0367b42e7890c127a33eb599043.jpg</td>\n",
       "      <td>2201</td>\n",
       "      <td>[277, 124, 233, 475]</td>\n",
       "      <td>/content/drive/MyDrive/Animals/Picoides pubesc...</td>\n",
       "      <td>Picoides pubescens</td>\n",
       "    </tr>\n",
       "    <tr>\n",
       "      <th>3</th>\n",
       "      <td>3</td>\n",
       "      <td>69cf3efe1d833d81b80e35b3456df7c5.jpg</td>\n",
       "      <td>2202</td>\n",
       "      <td>[342, 193, 120, 288]</td>\n",
       "      <td>/content/drive/MyDrive/Animals/Picoides pubesc...</td>\n",
       "      <td>Picoides pubescens</td>\n",
       "    </tr>\n",
       "    <tr>\n",
       "      <th>4</th>\n",
       "      <td>4</td>\n",
       "      <td>1e18c926ccb00243e6859b08ca67c089.jpg</td>\n",
       "      <td>2204</td>\n",
       "      <td>[401, 309, 25, 58]</td>\n",
       "      <td>/content/drive/MyDrive/Animals/Picoides pubesc...</td>\n",
       "      <td>Picoides pubescens</td>\n",
       "    </tr>\n",
       "  </tbody>\n",
       "</table>\n",
       "</div>"
      ],
      "text/plain": [
       "   Unnamed: 0                              pic_name    id  \\\n",
       "0           0  2bf2dc73a77dbf99d1c92a64e49afec2.jpg  2199   \n",
       "1           1  be0ed422200ed45975ae3954bd5e7325.jpg  2200   \n",
       "2           2  dd09c0367b42e7890c127a33eb599043.jpg  2201   \n",
       "3           3  69cf3efe1d833d81b80e35b3456df7c5.jpg  2202   \n",
       "4           4  1e18c926ccb00243e6859b08ca67c089.jpg  2204   \n",
       "\n",
       "                   bbox                                          path_name  \\\n",
       "0   [251, 239, 91, 240]  /content/drive/MyDrive/Animals/Picoides pubesc...   \n",
       "1    [249, 2, 227, 528]  /content/drive/MyDrive/Animals/Picoides pubesc...   \n",
       "2  [277, 124, 233, 475]  /content/drive/MyDrive/Animals/Picoides pubesc...   \n",
       "3  [342, 193, 120, 288]  /content/drive/MyDrive/Animals/Picoides pubesc...   \n",
       "4    [401, 309, 25, 58]  /content/drive/MyDrive/Animals/Picoides pubesc...   \n",
       "\n",
       "              species  \n",
       "0  Picoides pubescens  \n",
       "1  Picoides pubescens  \n",
       "2  Picoides pubescens  \n",
       "3  Picoides pubescens  \n",
       "4  Picoides pubescens  "
      ]
     },
     "execution_count": 6,
     "metadata": {},
     "output_type": "execute_result"
    }
   ],
   "source": [
    "bbcontent = pd.read_csv('no_context.csv')\n",
    "bbcontent.head()"
   ]
  },
  {
   "cell_type": "code",
   "execution_count": 101,
   "id": "c16c4866-c770-4916-b8b1-f028c260e95e",
   "metadata": {},
   "outputs": [],
   "source": [
    "#Creating directories for each species\n",
    "for spec in os.listdir('Animals'):\n",
    "    if spec!= '.DS_Store':\n",
    "        os.mkdir('Animals_bbcontent/'+spec)"
   ]
  },
  {
   "cell_type": "code",
   "execution_count": 7,
   "id": "83d40b22-d47d-47ff-8e1d-4def7f81536b",
   "metadata": {},
   "outputs": [],
   "source": [
    "uniqueness = defaultdict(int)\n",
    "extra_pics = []\n",
    "\n",
    "parent = 'Animals'\n",
    "for bbox, path, name, species in zip(bbcontent['bbox'], bbcontent['path_name'], bbcontent['pic_name'], bbcontent['species']):\n",
    "    p_vm = path[23:]\n",
    "    new_location = 'Animals_bbcontent/'+species+'/'\n",
    "    bbox = bbox[1:-1].split(',')\n",
    "    uniqueness[name]+=1\n",
    "    new_name = uniqueness[name]\n",
    "    if uniqueness[name]>1:\n",
    "        name = name.split('.')\n",
    "        name = name[0]+ str(new_name) +'.'+name[1]\n",
    "        extra_pics.append(name)\n",
    "    bb_extract(p_vm, bbox,new_location, name) "
   ]
  },
  {
   "cell_type": "code",
   "execution_count": 126,
   "id": "5a942d21-6e6b-4352-a703-e0451dfe91cf",
   "metadata": {},
   "outputs": [
    {
     "name": "stdout",
     "output_type": "stream",
     "text": [
      "Sciurus carolinensis: 1003\n",
      "Trachemys scripta elegans: 1184\n",
      "Junonia coenia: 927\n",
      "Pandion haliaetus: 1999\n",
      "Pachydiplax longipennis: 1607\n",
      "Anolis carolinensis: 1112\n",
      "Chelydra serpentina: 613\n",
      "Spinus tristis: 1705\n",
      "Procyon lotor: 1075\n",
      "Harmonia axyridis: 899\n",
      "Picoides pubescens: 1547\n",
      "Canis latrans: 1270\n",
      "Total pictures: 14941\n"
     ]
    }
   ],
   "source": [
    "c = 0\n",
    "for i in os.listdir('Animals_bbcontent'):\n",
    "    for t in os.listdir('Animals_bbcontent/'+i):\n",
    "        if t != '.DS_Store':\n",
    "            c+=1\n",
    "    print(f\"{i}: {len(os.listdir('Animals_bbcontent/'+i))}\")\n",
    "print(f'Total pictures: {c}')"
   ]
  },
  {
   "cell_type": "code",
   "execution_count": 150,
   "id": "4bee2fce-04ba-4341-a66c-9ce2f022a95b",
   "metadata": {},
   "outputs": [],
   "source": [
    "#Saving data in a csv to call in the model\n",
    "label_mapping = {'Anolis carolinensis': '0', 'Canis latrans':'1','Chelydra serpentina':'2', 'Harmonia axyridis':'3',\n",
    "'Junonia coenia':'4', 'Pachydiplax longipennis':'5', 'Pandion haliaetus':'6', 'Picoides pubescens':'7',\n",
    "'Procyon lotor':'8', 'Sciurus carolinensis':'8','Sciurus carolinensis':'9', 'Spinus tristis':'10', 'Trachemys scripta elegans':'11'}\n"
   ]
  },
  {
   "cell_type": "code",
   "execution_count": 151,
   "id": "7edfe1a1-9f89-48bc-934f-0a6bf5b908ba",
   "metadata": {},
   "outputs": [],
   "source": [
    "path = []\n",
    "species = []\n",
    "label = []\n",
    "\n",
    "parent = 'Animals_bbcontent/'\n",
    "for spec in os.listdir('Animals_bbcontent'):\n",
    "    for pic in os.listdir('Animals_bbcontent/'+spec):\n",
    "        path.append(parent+spec+'/'+pic)\n",
    "        species.append(spec)\n",
    "        label.append(label_mapping[spec])\n",
    "    "
   ]
  },
  {
   "cell_type": "code",
   "execution_count": 155,
   "id": "304b598b-c96b-4843-b75d-d4dc00384044",
   "metadata": {},
   "outputs": [],
   "source": [
    "data_for_bbcontent_model = pd.DataFrame({'path':path, 'species':species, 'label':label})\n",
    "data_for_bbcontent_model.to_csv('data_for_bbcontent_model.csv', index = False)"
   ]
  }
 ],
 "metadata": {
  "kernelspec": {
   "display_name": "Python 3",
   "language": "python",
   "name": "python3"
  },
  "language_info": {
   "codemirror_mode": {
    "name": "ipython",
    "version": 3
   },
   "file_extension": ".py",
   "mimetype": "text/x-python",
   "name": "python",
   "nbconvert_exporter": "python",
   "pygments_lexer": "ipython3",
   "version": "3.8.10"
  }
 },
 "nbformat": 4,
 "nbformat_minor": 5
}
