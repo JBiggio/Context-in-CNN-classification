{
 "cells": [
  {
   "cell_type": "markdown",
   "id": "1ffd8d2f-f593-4f9f-9cae-bc87846f7409",
   "metadata": {},
   "source": [
    "# Group 1\n",
    "\n",
    "Fabio Ceruti- Fabio Martino - Alex Lucchini - Jacopo Biggiogera\n",
    "\n",
    "This notebook contains the code that we used to do the train, validation and test splits.\n",
    "The data was then saved in diffferent dataframes and they were used to run every single model."
   ]
  },
  {
   "cell_type": "code",
   "execution_count": 7,
   "id": "2f03cad2-4589-4e1f-a1c6-5675139a6031",
   "metadata": {},
   "outputs": [],
   "source": [
    "import pandas as pd\n",
    "import os\n",
    "from sklearn.model_selection import train_test_split\n",
    "import numpy as np\n",
    "import matplotlib.pyplot as plt"
   ]
  },
  {
   "cell_type": "code",
   "execution_count": 23,
   "id": "e2c7c350-2b40-4e45-84c9-2fa572dee67b",
   "metadata": {},
   "outputs": [
    {
     "data": {
      "text/html": [
       "<div>\n",
       "<style scoped>\n",
       "    .dataframe tbody tr th:only-of-type {\n",
       "        vertical-align: middle;\n",
       "    }\n",
       "\n",
       "    .dataframe tbody tr th {\n",
       "        vertical-align: top;\n",
       "    }\n",
       "\n",
       "    .dataframe thead th {\n",
       "        text-align: right;\n",
       "    }\n",
       "</style>\n",
       "<table border=\"1\" class=\"dataframe\">\n",
       "  <thead>\n",
       "    <tr style=\"text-align: right;\">\n",
       "      <th></th>\n",
       "      <th>path</th>\n",
       "      <th>label</th>\n",
       "    </tr>\n",
       "  </thead>\n",
       "  <tbody>\n",
       "    <tr>\n",
       "      <th>0</th>\n",
       "      <td>Animals/Sciurus carolinensis/2d82dcf6c764bca46...</td>\n",
       "      <td>9</td>\n",
       "    </tr>\n",
       "    <tr>\n",
       "      <th>1</th>\n",
       "      <td>Animals/Sciurus carolinensis/3286790a153b1464b...</td>\n",
       "      <td>9</td>\n",
       "    </tr>\n",
       "    <tr>\n",
       "      <th>2</th>\n",
       "      <td>Animals/Sciurus carolinensis/c3075d381e62d4fce...</td>\n",
       "      <td>9</td>\n",
       "    </tr>\n",
       "    <tr>\n",
       "      <th>3</th>\n",
       "      <td>Animals/Sciurus carolinensis/219d19b874f616140...</td>\n",
       "      <td>9</td>\n",
       "    </tr>\n",
       "    <tr>\n",
       "      <th>4</th>\n",
       "      <td>Animals/Sciurus carolinensis/c7b13665c78afcd4b...</td>\n",
       "      <td>9</td>\n",
       "    </tr>\n",
       "  </tbody>\n",
       "</table>\n",
       "</div>"
      ],
      "text/plain": [
       "                                                path  label\n",
       "0  Animals/Sciurus carolinensis/2d82dcf6c764bca46...      9\n",
       "1  Animals/Sciurus carolinensis/3286790a153b1464b...      9\n",
       "2  Animals/Sciurus carolinensis/c3075d381e62d4fce...      9\n",
       "3  Animals/Sciurus carolinensis/219d19b874f616140...      9\n",
       "4  Animals/Sciurus carolinensis/c7b13665c78afcd4b...      9"
      ]
     },
     "execution_count": 23,
     "metadata": {},
     "output_type": "execute_result"
    }
   ],
   "source": [
    "#Full data\n",
    "animals = pd.read_csv('12paths_df.csv')\n",
    "animals.head()"
   ]
  },
  {
   "cell_type": "code",
   "execution_count": 25,
   "id": "cf1362a5-debd-43dd-9245-bb202ebb9920",
   "metadata": {},
   "outputs": [],
   "source": [
    "to_remove = []\n",
    "for i in animals['path']:\n",
    "    if i.split('/')[-1]=='.ipynb_checkpoints':\n",
    "        to_remove.append(i)"
   ]
  },
  {
   "cell_type": "code",
   "execution_count": 24,
   "id": "84458fbc-4d9b-4aa4-89fb-3ef5ad150680",
   "metadata": {},
   "outputs": [
    {
     "data": {
      "text/html": [
       "<div>\n",
       "<style scoped>\n",
       "    .dataframe tbody tr th:only-of-type {\n",
       "        vertical-align: middle;\n",
       "    }\n",
       "\n",
       "    .dataframe tbody tr th {\n",
       "        vertical-align: top;\n",
       "    }\n",
       "\n",
       "    .dataframe thead th {\n",
       "        text-align: right;\n",
       "    }\n",
       "</style>\n",
       "<table border=\"1\" class=\"dataframe\">\n",
       "  <thead>\n",
       "    <tr style=\"text-align: right;\">\n",
       "      <th></th>\n",
       "      <th>with_mistake</th>\n",
       "    </tr>\n",
       "  </thead>\n",
       "  <tbody>\n",
       "    <tr>\n",
       "      <th>0</th>\n",
       "      <td>Animals/Sciurus carolinensis/d69a8488f833ed09a...</td>\n",
       "    </tr>\n",
       "    <tr>\n",
       "      <th>1</th>\n",
       "      <td>Animals/Sciurus carolinensis/1fa8bde9208e5e382...</td>\n",
       "    </tr>\n",
       "    <tr>\n",
       "      <th>2</th>\n",
       "      <td>Animals/Sciurus carolinensis/6cfac7875adf5e0ee...</td>\n",
       "    </tr>\n",
       "    <tr>\n",
       "      <th>3</th>\n",
       "      <td>Animals/Sciurus carolinensis/bb0c67766c8a07d82...</td>\n",
       "    </tr>\n",
       "    <tr>\n",
       "      <th>4</th>\n",
       "      <td>Animals/Sciurus carolinensis/8d2c7a13b6a452818...</td>\n",
       "    </tr>\n",
       "  </tbody>\n",
       "</table>\n",
       "</div>"
      ],
      "text/plain": [
       "                                        with_mistake\n",
       "0  Animals/Sciurus carolinensis/d69a8488f833ed09a...\n",
       "1  Animals/Sciurus carolinensis/1fa8bde9208e5e382...\n",
       "2  Animals/Sciurus carolinensis/6cfac7875adf5e0ee...\n",
       "3  Animals/Sciurus carolinensis/bb0c67766c8a07d82...\n",
       "4  Animals/Sciurus carolinensis/8d2c7a13b6a452818..."
      ]
     },
     "execution_count": 24,
     "metadata": {},
     "output_type": "execute_result"
    }
   ],
   "source": [
    "#pictures that were corrupted\n",
    "wrong = pd.read_csv('wrong_tot.csv')\n",
    "wrong.head()"
   ]
  },
  {
   "cell_type": "code",
   "execution_count": 26,
   "id": "ccad3724-68d5-4922-b35d-9bc5dad70354",
   "metadata": {},
   "outputs": [
    {
     "name": "stdout",
     "output_type": "stream",
     "text": [
      "(17088, 2)\n"
     ]
    },
    {
     "data": {
      "text/html": [
       "<div>\n",
       "<style scoped>\n",
       "    .dataframe tbody tr th:only-of-type {\n",
       "        vertical-align: middle;\n",
       "    }\n",
       "\n",
       "    .dataframe tbody tr th {\n",
       "        vertical-align: top;\n",
       "    }\n",
       "\n",
       "    .dataframe thead th {\n",
       "        text-align: right;\n",
       "    }\n",
       "</style>\n",
       "<table border=\"1\" class=\"dataframe\">\n",
       "  <thead>\n",
       "    <tr style=\"text-align: right;\">\n",
       "      <th></th>\n",
       "      <th>path</th>\n",
       "      <th>label</th>\n",
       "    </tr>\n",
       "  </thead>\n",
       "  <tbody>\n",
       "    <tr>\n",
       "      <th>0</th>\n",
       "      <td>Animals/Sciurus carolinensis/2d82dcf6c764bca46...</td>\n",
       "      <td>9</td>\n",
       "    </tr>\n",
       "    <tr>\n",
       "      <th>1</th>\n",
       "      <td>Animals/Sciurus carolinensis/3286790a153b1464b...</td>\n",
       "      <td>9</td>\n",
       "    </tr>\n",
       "    <tr>\n",
       "      <th>2</th>\n",
       "      <td>Animals/Sciurus carolinensis/c3075d381e62d4fce...</td>\n",
       "      <td>9</td>\n",
       "    </tr>\n",
       "    <tr>\n",
       "      <th>3</th>\n",
       "      <td>Animals/Sciurus carolinensis/219d19b874f616140...</td>\n",
       "      <td>9</td>\n",
       "    </tr>\n",
       "    <tr>\n",
       "      <th>4</th>\n",
       "      <td>Animals/Sciurus carolinensis/c7b13665c78afcd4b...</td>\n",
       "      <td>9</td>\n",
       "    </tr>\n",
       "  </tbody>\n",
       "</table>\n",
       "</div>"
      ],
      "text/plain": [
       "                                                path  label\n",
       "0  Animals/Sciurus carolinensis/2d82dcf6c764bca46...      9\n",
       "1  Animals/Sciurus carolinensis/3286790a153b1464b...      9\n",
       "2  Animals/Sciurus carolinensis/c3075d381e62d4fce...      9\n",
       "3  Animals/Sciurus carolinensis/219d19b874f616140...      9\n",
       "4  Animals/Sciurus carolinensis/c7b13665c78afcd4b...      9"
      ]
     },
     "execution_count": 26,
     "metadata": {},
     "output_type": "execute_result"
    }
   ],
   "source": [
    "#removing the wrong paths\n",
    "animals = animals[~animals['path'].isin(to_remove)]\n",
    "animals_clean = animals[~animals['path'].isin(list(wrong['with_mistake']))]\n",
    "print(animals_clean.shape)\n",
    "animals_clean.head()"
   ]
  },
  {
   "cell_type": "code",
   "execution_count": 52,
   "id": "4d3f4d9a-61d1-4fc0-8d46-b3699c1efca2",
   "metadata": {},
   "outputs": [],
   "source": [
    "#Splitting into train+val and test\n",
    "np.random.seed(4) #for reproducibility\n",
    "X_train, X_val, y_train, y_val = train_test_split(animals_clean['path'],animals_clean['label'], test_size=0.15, stratify=animals_clean['label'])\n",
    "train_val_data = pd.DataFrame({'path':X_train, 'label':y_train}).reset_index(drop=True)\n",
    "test_data = pd.DataFrame({'path':X_val, 'label':y_val}).reset_index(drop=True)"
   ]
  },
  {
   "cell_type": "code",
   "execution_count": 53,
   "id": "a58d4cf1-3836-40ce-8697-0ff8c495b935",
   "metadata": {},
   "outputs": [],
   "source": [
    "#Saving data\n",
    "train_val_data.to_csv('train_val_data.csv', index = False)\n",
    "test_data.to_csv('test_data.csv', index = False)"
   ]
  },
  {
   "cell_type": "code",
   "execution_count": 4,
   "id": "4e592d87-eac0-441a-b099-148e62a2051d",
   "metadata": {},
   "outputs": [],
   "source": [
    "test = pd.read_csv('test_data.csv')\n",
    "old_test = pd.read_csv('old_test_data.csv')"
   ]
  },
  {
   "cell_type": "code",
   "execution_count": 3,
   "id": "cd274dd9-9e45-4507-8af2-d00bf810c998",
   "metadata": {},
   "outputs": [],
   "source": [
    "import matplotlib.patches as mpatches\n",
    "families = {'Sciurus carolinensis':'Mammal', 'Trachemys scripta elegans':'Reptile', 'Junonia coenia': 'Insect', 'Pandion haliaetus':'Bird', 'Pachydiplax longipennis':'Insect', 'Anolis carolinensis':'Reptile', 'Chelydra serpentina':'Reptile', 'Spinus tristis':'Bird', 'Procyon lotor':'Mammal', 'Harmonia axyridis':'Insect', 'Picoides pubescens':'Bird', 'Canis latrans':'Mammal'}\n",
    "colors = {'Sciurus carolinensis':'y', 'Trachemys scripta elegans':'purple', 'Junonia coenia': 'brown', 'Pandion haliaetus':'orange', 'Pachydiplax longipennis':'brown', 'Anolis carolinensis':'purple', 'Chelydra serpentina':'purple', 'Spinus tristis':'orange', 'Procyon lotor':'y', 'Harmonia axyridis':'brown', 'Picoides pubescens':'orange', 'Canis latrans':'y'}\n",
    "mammal_patch = mpatches.Patch(color='y', label='Mammal')\n",
    "reptile_patch = mpatches.Patch(color='purple', label='Reptile')\n",
    "insect_patch = mpatches.Patch(color='brown', label='Insect')\n",
    "bird_patch = mpatches.Patch(color='orange', label='Bird')\n",
    "handles = [mammal_patch, reptile_patch, insect_patch, bird_patch]"
   ]
  },
  {
   "cell_type": "code",
   "execution_count": 27,
   "id": "b1219bf9-5756-41f0-84ac-e2a4a6fbc76f",
   "metadata": {},
   "outputs": [],
   "source": [
    "old_test['species'] = [i.split('/')[1] for i in old_test['path']]\n",
    "old_group_test = old_test.groupby('species').count()['path']\n",
    "old_group_test = old_group_test.reset_index()\n",
    "old_group_test['family'] = [families[i] for i in old_group_test['species']]\n",
    "old_group_test['color'] = [colors[i] for i in old_group_test['species']]\n",
    "old_group_test = old_group_test.sort_values('color')"
   ]
  },
  {
   "cell_type": "code",
   "execution_count": 35,
   "id": "5bf170c5-df13-46f6-b2c2-308f4bbe47ba",
   "metadata": {},
   "outputs": [
    {
     "data": {
      "image/png": "[encoded data removed]",
      "text/plain": [
       "<Figure size 1440x720 with 1 Axes>"
      ]
     },
     "metadata": {
      "needs_background": "light"
     },
     "output_type": "display_data"
    }
   ],
   "source": [
    "plt.figure(figsize = (20,10))\n",
    "plt.bar(old_group_test['species'],old_group_test['path'], color = old_group_test['color'])\n",
    "plt.tick_params(axis = 'x',rotation = 90)\n",
    "plt.title('Test Distribution before contrastive learning')\n",
    "plt.legend(handles = handles)\n",
    "plt.show()"
   ]
  },
  {
   "cell_type": "code",
   "execution_count": 33,
   "id": "379804ee-2127-4a0f-9e57-820babcb0499",
   "metadata": {},
   "outputs": [],
   "source": [
    "test['species'] = [i.split('/')[1] for i in test['path']]\n",
    "group_test = test.groupby('species').count()['path']\n",
    "group_test = group.reset_index()\n",
    "group_test['family'] = [families[i] for i in group_test['species']]\n",
    "group_test['color'] = [colors[i] for i in group_test['species']]\n",
    "group_test = group_test.sort_values('color')"
   ]
  },
  {
   "cell_type": "code",
   "execution_count": 31,
   "id": "1b127423-2283-42b2-affd-b377e6ce19cc",
   "metadata": {},
   "outputs": [
    {
     "data": {
      "image/png": "[encoded data removed]",
      "text/plain": [
       "<Figure size 1440x720 with 1 Axes>"
      ]
     },
     "metadata": {
      "needs_background": "light"
     },
     "output_type": "display_data"
    }
   ],
   "source": [
    "plt.figure(figsize = (20,10))\n",
    "plt.bar(group_test['species'],group_test['path'], color = group_test['color'])\n",
    "plt.tick_params(axis = 'x',rotation = 90)\n",
    "plt.title('Test Distribution after contrastive learning')\n",
    "plt.legend(handles = handles)\n",
    "plt.show()"
   ]
  },
  {
   "cell_type": "markdown",
   "id": "d9f98595-c953-4b97-b708-5728fb42c0dc",
   "metadata": {},
   "source": [
    "We can see that contrastive learning has been succesful in allowing us to generate a class balanced test set"
   ]
  },
  {
   "cell_type": "code",
   "execution_count": null,
   "id": "dd976157-e523-48fb-9e9b-f74ef30e12bd",
   "metadata": {},
   "outputs": [],
   "source": []
  }
 ],
 "metadata": {
  "kernelspec": {
   "display_name": "Python 3",
   "language": "python",
   "name": "python3"
  },
  "language_info": {
   "codemirror_mode": {
    "name": "ipython",
    "version": 3
   },
   "file_extension": ".py",
   "mimetype": "text/x-python",
   "name": "python",
   "nbconvert_exporter": "python",
   "pygments_lexer": "ipython3",
   "version": "3.8.10"
  }
 },
 "nbformat": 4,
 "nbformat_minor": 5
}
