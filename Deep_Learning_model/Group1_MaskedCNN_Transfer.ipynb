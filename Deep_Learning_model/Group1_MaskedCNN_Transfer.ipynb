{
 "cells": [
  {
   "cell_type": "markdown",
   "id": "46e9b210-13fc-4db1-87d2-725ce6a4abcf",
   "metadata": {},
   "source": [
    "# Group 1\n",
    "\n",
    "Fabio Ceruti- Fabio Martino - Alex Lucchini - Jacopo Biggiogera\n",
    "\n",
    "This notebook contains the code that we used to run a transfer model with masked images. By following the notebook it is possible to choose whether to use pictures where the animals is masked with a black box or where it is maksed by a box filled with the average color in the context."
   ]
  },
  {
   "cell_type": "code",
   "execution_count": 4,
   "id": "7bce5c2a-1595-4481-9559-ca7fd7ca7bed",
   "metadata": {},
   "outputs": [],
   "source": [
    "import pandas as pd \n",
    "import numpy as np \n",
    "import os\n",
    "import matplotlib.pyplot as plt\n",
    "import matplotlib.image as mpimg\n",
    "from collections import defaultdict\n",
    "import PIL\n",
    "import tensorflow as tf\n",
    "from tensorflow import keras\n",
    "from tensorflow.image import resize_with_pad, ResizeMethod\n",
    "from tensorflow.keras import layers\n",
    "from tensorflow.keras.models import Sequential\n",
    "from random import shuffle\n",
    "from tensorflow.keras import models\n",
    "from tensorflow.keras import optimizers\n",
    "from tqdm import tqdm\n",
    "from tensorflow.keras.layers.experimental.preprocessing import Rescaling\n",
    "from tensorflow.keras.callbacks import CSVLogger, EarlyStopping\n",
    "from sklearn.model_selection import train_test_split\n",
    "from keras.preprocessing.image import ImageDataGenerator"
   ]
  },
  {
   "cell_type": "markdown",
   "id": "b59de28d-9ebf-4279-8e16-7e2d7ef417b4",
   "metadata": {},
   "source": [
    "# Defining the model"
   ]
  },
  {
   "cell_type": "code",
   "execution_count": 5,
   "id": "14e640ce-4622-42cd-84b0-ffcffd8269b0",
   "metadata": {},
   "outputs": [
    {
     "name": "stdout",
     "output_type": "stream",
     "text": [
      "Model: \"model_1\"\n",
      "_________________________________________________________________\n",
      " Layer (type)                Output Shape              Param #   \n",
      "=================================================================\n",
      " input_4 (InputLayer)        [(None, 350, 350, 3)]     0         \n",
      "                                                                 \n",
      " resnet50 (Functional)       (None, 11, 11, 2048)      23587712  \n",
      "                                                                 \n",
      " last_conv (Conv2D)          (None, 9, 9, 64)          1179712   \n",
      "                                                                 \n",
      " global_average_pooling2d_1   (None, 64)               0         \n",
      " (GlobalAveragePooling2D)                                        \n",
      "                                                                 \n",
      " dense_1 (Dense)             (None, 12)                780       \n",
      "                                                                 \n",
      "=================================================================\n",
      "Total params: 24,768,204\n",
      "Trainable params: 24,715,084\n",
      "Non-trainable params: 53,120\n",
      "_________________________________________________________________\n"
     ]
    }
   ],
   "source": [
    "from tensorflow.keras.applications import ResNet50\n",
    "from tensorflow.keras.applications.resnet50 import preprocess_input\n",
    "#Import the model from keras.applications, there are plenty of models. I have chosen the one with the best performance\n",
    "base_model = ResNet50(weights='imagenet',input_shape=(350, 350, 3),include_top=False)  # original input shape for model (480,480,3)\n",
    "base_model.trainable = True #freeze parameters of imported model\n",
    "\n",
    "inputs = keras.Input(shape=(350, 350, 3))\n",
    "x = base_model(inputs, training=True)\n",
    "x = keras.layers.Conv2D(64, (3, 3), activation='relu',name='last_conv')(x)\n",
    "x = keras.layers.GlobalAveragePooling2D()(x)\n",
    "outputs = keras.layers.Dense(12, activation='softmax')(x) #predict the class\n",
    "model = keras.Model(inputs, outputs) #put everything together\n",
    "model.summary()"
   ]
  },
  {
   "cell_type": "markdown",
   "id": "63d5ee35-8f28-41e0-8073-09a60537e47a",
   "metadata": {},
   "source": [
    "## Preparing the data for the analysis\n",
    "This section prepares the data for the analysis by loading it and creating train and validation data with balanced classes."
   ]
  },
  {
   "cell_type": "code",
   "execution_count": 3,
   "id": "9462f30d-71b8-4fd9-99e7-6e70856839f4",
   "metadata": {},
   "outputs": [
    {
     "data": {
      "text/html": [
       "<div>\n",
       "<style scoped>\n",
       "    .dataframe tbody tr th:only-of-type {\n",
       "        vertical-align: middle;\n",
       "    }\n",
       "\n",
       "    .dataframe tbody tr th {\n",
       "        vertical-align: top;\n",
       "    }\n",
       "\n",
       "    .dataframe thead th {\n",
       "        text-align: right;\n",
       "    }\n",
       "</style>\n",
       "<table border=\"1\" class=\"dataframe\">\n",
       "  <thead>\n",
       "    <tr style=\"text-align: right;\">\n",
       "      <th></th>\n",
       "      <th>path</th>\n",
       "      <th>label</th>\n",
       "      <th>non_masked_path</th>\n",
       "    </tr>\n",
       "  </thead>\n",
       "  <tbody>\n",
       "    <tr>\n",
       "      <th>0</th>\n",
       "      <td>Animals_masked/Harmonia axyridis/18b7356700e3e...</td>\n",
       "      <td>3</td>\n",
       "      <td>Animals/Harmonia axyridis/18b7356700e3e50123d6...</td>\n",
       "    </tr>\n",
       "    <tr>\n",
       "      <th>1</th>\n",
       "      <td>Animals_masked/Chelydra serpentina/5cdf94392ef...</td>\n",
       "      <td>2</td>\n",
       "      <td>Animals/Chelydra serpentina/5cdf94392ef2865534...</td>\n",
       "    </tr>\n",
       "    <tr>\n",
       "      <th>2</th>\n",
       "      <td>Animals_masked/Junonia coenia/86d1ef9cc27cce47...</td>\n",
       "      <td>4</td>\n",
       "      <td>Animals/Junonia coenia/86d1ef9cc27cce478771799...</td>\n",
       "    </tr>\n",
       "    <tr>\n",
       "      <th>3</th>\n",
       "      <td>Animals_masked/Pandion haliaetus/c522afd69edbf...</td>\n",
       "      <td>6</td>\n",
       "      <td>Animals/Pandion haliaetus/c522afd69edbf08891b3...</td>\n",
       "    </tr>\n",
       "    <tr>\n",
       "      <th>4</th>\n",
       "      <td>Animals_masked/Junonia coenia/cdf588673df6c225...</td>\n",
       "      <td>4</td>\n",
       "      <td>Animals/Junonia coenia/cdf588673df6c2250cd1398...</td>\n",
       "    </tr>\n",
       "  </tbody>\n",
       "</table>\n",
       "</div>"
      ],
      "text/plain": [
       "                                                path label  \\\n",
       "0  Animals_masked/Harmonia axyridis/18b7356700e3e...     3   \n",
       "1  Animals_masked/Chelydra serpentina/5cdf94392ef...     2   \n",
       "2  Animals_masked/Junonia coenia/86d1ef9cc27cce47...     4   \n",
       "3  Animals_masked/Pandion haliaetus/c522afd69edbf...     6   \n",
       "4  Animals_masked/Junonia coenia/cdf588673df6c225...     4   \n",
       "\n",
       "                                     non_masked_path  \n",
       "0  Animals/Harmonia axyridis/18b7356700e3e50123d6...  \n",
       "1  Animals/Chelydra serpentina/5cdf94392ef2865534...  \n",
       "2  Animals/Junonia coenia/86d1ef9cc27cce478771799...  \n",
       "3  Animals/Pandion haliaetus/c522afd69edbf08891b3...  \n",
       "4  Animals/Junonia coenia/cdf588673df6c2250cd1398...  "
      ]
     },
     "execution_count": 3,
     "metadata": {},
     "output_type": "execute_result"
    }
   ],
   "source": [
    "from sklearn.model_selection import train_test_split\n",
    "paths=pd.read_csv('train_val_data.csv')\n",
    "paths['label']=paths['label'].astype('str')\n",
    "paths['masked_path'] = ['Animals_masked'+ i[7:] for i in paths['path']]\n",
    "X_train, X_val, y_train, y_val = train_test_split(paths['masked_path'],paths['label'], test_size=0.176, stratify=paths['label'])\n",
    "train_df = pd.DataFrame({'path':X_train, 'label':y_train}).reset_index(drop=True)\n",
    "valid_df = pd.DataFrame({'path':X_val, 'label':y_val}).reset_index(drop=True)\n",
    "valid_df['non_masked_path'] = ['Animals'+i[14:] for i in valid_df['path']]\n",
    "valid_df.head()"
   ]
  },
  {
   "cell_type": "code",
   "execution_count": 6,
   "id": "c125202d-72a8-49d3-b0f5-25900346002b",
   "metadata": {},
   "outputs": [
    {
     "data": {
      "text/html": [
       "<div>\n",
       "<style scoped>\n",
       "    .dataframe tbody tr th:only-of-type {\n",
       "        vertical-align: middle;\n",
       "    }\n",
       "\n",
       "    .dataframe tbody tr th {\n",
       "        vertical-align: top;\n",
       "    }\n",
       "\n",
       "    .dataframe thead th {\n",
       "        text-align: right;\n",
       "    }\n",
       "</style>\n",
       "<table border=\"1\" class=\"dataframe\">\n",
       "  <thead>\n",
       "    <tr style=\"text-align: right;\">\n",
       "      <th></th>\n",
       "      <th>path</th>\n",
       "      <th>label</th>\n",
       "      <th>non_masked_path</th>\n",
       "    </tr>\n",
       "  </thead>\n",
       "  <tbody>\n",
       "    <tr>\n",
       "      <th>0</th>\n",
       "      <td>Animals_masked_averaged/Anolis carolinensis/8c...</td>\n",
       "      <td>0</td>\n",
       "      <td>Animals/Anolis carolinensis/8c29407d0475683bc9...</td>\n",
       "    </tr>\n",
       "    <tr>\n",
       "      <th>1</th>\n",
       "      <td>Animals_masked_averaged/Procyon lotor/374eddb2...</td>\n",
       "      <td>8</td>\n",
       "      <td>Animals/Procyon lotor/374eddb2688280cb04250466...</td>\n",
       "    </tr>\n",
       "    <tr>\n",
       "      <th>2</th>\n",
       "      <td>Animals_masked_averaged/Pachydiplax longipenni...</td>\n",
       "      <td>5</td>\n",
       "      <td>Animals/Pachydiplax longipennis/cd5c6e35ee0d3a...</td>\n",
       "    </tr>\n",
       "    <tr>\n",
       "      <th>3</th>\n",
       "      <td>Animals_masked_averaged/Procyon lotor/be5a4745...</td>\n",
       "      <td>8</td>\n",
       "      <td>Animals/Procyon lotor/be5a47451383fbf15769aec5...</td>\n",
       "    </tr>\n",
       "    <tr>\n",
       "      <th>4</th>\n",
       "      <td>Animals_masked_averaged/Harmonia axyridis/6865...</td>\n",
       "      <td>3</td>\n",
       "      <td>Animals/Harmonia axyridis/6865ac60231a84cea907...</td>\n",
       "    </tr>\n",
       "  </tbody>\n",
       "</table>\n",
       "</div>"
      ],
      "text/plain": [
       "                                                path label  \\\n",
       "0  Animals_masked_averaged/Anolis carolinensis/8c...     0   \n",
       "1  Animals_masked_averaged/Procyon lotor/374eddb2...     8   \n",
       "2  Animals_masked_averaged/Pachydiplax longipenni...     5   \n",
       "3  Animals_masked_averaged/Procyon lotor/be5a4745...     8   \n",
       "4  Animals_masked_averaged/Harmonia axyridis/6865...     3   \n",
       "\n",
       "                                     non_masked_path  \n",
       "0  Animals/Anolis carolinensis/8c29407d0475683bc9...  \n",
       "1  Animals/Procyon lotor/374eddb2688280cb04250466...  \n",
       "2  Animals/Pachydiplax longipennis/cd5c6e35ee0d3a...  \n",
       "3  Animals/Procyon lotor/be5a47451383fbf15769aec5...  \n",
       "4  Animals/Harmonia axyridis/6865ac60231a84cea907...  "
      ]
     },
     "execution_count": 6,
     "metadata": {},
     "output_type": "execute_result"
    }
   ],
   "source": [
    "#Using masks with AVERAGE VALUE\n",
    "paths=pd.read_csv('train_val_data.csv')\n",
    "paths['label']=paths['label'].astype('str')\n",
    "paths['masked_path'] = ['Animals_masked_averaged'+ i[7:] for i in paths['path']]\n",
    "X_train, X_val, y_train, y_val = train_test_split(paths['masked_path'],paths['label'], test_size=0.176, stratify=paths['label'])\n",
    "train_df = pd.DataFrame({'path':X_train, 'label':y_train}).reset_index(drop=True)\n",
    "valid_df = pd.DataFrame({'path':X_val, 'label':y_val}).reset_index(drop=True)\n",
    "valid_df['non_masked_path'] = ['Animals'+i[23:] for i in valid_df['path']]\n",
    "valid_df.head()"
   ]
  },
  {
   "cell_type": "code",
   "execution_count": 7,
   "id": "c150c909-2506-4106-92a4-fc085e57320e",
   "metadata": {},
   "outputs": [],
   "source": [
    "def togpu(img):\n",
    "    '''This function uploads the picture to the GPU'''\n",
    "    with tf.device('/gpu:0'):\n",
    "        tens_data = tf.constant(img)\n",
    "    return tens_data"
   ]
  },
  {
   "cell_type": "code",
   "execution_count": 8,
   "id": "9d909b97-0bef-4224-989b-b111e7e5714e",
   "metadata": {},
   "outputs": [
    {
     "name": "stdout",
     "output_type": "stream",
     "text": [
      "Found 11967 validated image filenames belonging to 12 classes.\n",
      "Found 2557 validated image filenames belonging to 12 classes.\n"
     ]
    }
   ],
   "source": [
    "# Setting up the generators.\n",
    "#NOTE: we have two generators like we do in all our model since often pcitures for the train and validation are\n",
    "# taken from two dataframes which might have different piture paths (ex. train pictures come from a folder with\n",
    "#masked pictures whole validation comes form a folder with complete pictures)\n",
    "\n",
    "train_datagen=ImageDataGenerator(rescale=1./255,preprocessing_function = togpu, #check that you can make multiple functions and pass them in a list\n",
    "                                 rotation_range=90, brightness_range=[0.1, 2], shear_range=90, zoom_range=[1, 2])\n",
    "\n",
    "val_datagen=ImageDataGenerator(rescale=1./255,preprocessing_function = togpu)\n",
    "\n",
    "batch_s = 20\n",
    "\n",
    "\n",
    "train_generator=train_datagen.flow_from_dataframe(\n",
    "    train_df, \n",
    "    x_col = 'path',\n",
    "    y_col = 'label',\n",
    "    class_mode = 'categorical',\n",
    "    #color_mode='grayscale',#for black and white use: 'grayscale'\n",
    "    target_size=(350,350),\n",
    "    batch_size=batch_s\n",
    ")\n",
    "\n",
    "validation_generator=val_datagen.flow_from_dataframe(\n",
    "   valid_df, \n",
    "    x_col = 'non_masked_path',\n",
    "    y_col = 'label',\n",
    "    class_mode = 'categorical',\n",
    "    #color_mode='grayscale',#for black and white use: 'grayscale'\n",
    "    target_size=(350,350),\n",
    "    batch_size=batch_s,\n",
    "    shuffle=False\n",
    ")"
   ]
  },
  {
   "cell_type": "code",
   "execution_count": 9,
   "id": "b5e3309f-fd88-443e-b3be-5b7dabb4c6c5",
   "metadata": {},
   "outputs": [],
   "source": [
    "model.compile(optimizer = 'rmsprop',\n",
    "              loss = 'categorical_crossentropy',\n",
    "              metrics = ['accuracy']) "
   ]
  },
  {
   "cell_type": "code",
   "execution_count": 8,
   "id": "f6277cd7-18ee-444f-b6f2-5028f7a9a82e",
   "metadata": {},
   "outputs": [],
   "source": [
    "earlystop = EarlyStopping(monitor='val_accuracy',\n",
    "                        min_delta=0.01,\n",
    "                        patience=3,\n",
    "                        verbose=1,\n",
    "                        mode='auto')\n",
    "\n",
    "csv_logger=CSVLogger('model_logs/training_masked_transfer.log',separator=\",\",append=False)"
   ]
  },
  {
   "cell_type": "code",
   "execution_count": 10,
   "id": "8c67e9c4-dcc3-4a6b-b9be-6ebdac7d752d",
   "metadata": {},
   "outputs": [],
   "source": [
    "#Using masks with AVERAGED value\n",
    "earlystop = EarlyStopping(monitor='val_accuracy',\n",
    "                        min_delta=0.01,\n",
    "                        patience=3,\n",
    "                        verbose=1,\n",
    "                        mode='auto')\n",
    "\n",
    "csv_logger=CSVLogger('model_logs/training_avg_masked_transfer.log',separator=\",\",append=False)"
   ]
  },
  {
   "cell_type": "code",
   "execution_count": 11,
   "id": "603eba34-62f5-4541-ac26-c46f259d202d",
   "metadata": {},
   "outputs": [
    {
     "name": "stdout",
     "output_type": "stream",
     "text": [
      "Epoch 1/10\n",
      "598/598 [==============================] - 1151s 2s/step - loss: 2.3877 - accuracy: 0.1935 - val_loss: 2.1402 - val_accuracy: 0.2495\n",
      "Epoch 2/10\n",
      "598/598 [==============================] - 1117s 2s/step - loss: 2.1532 - accuracy: 0.2606 - val_loss: 2.0574 - val_accuracy: 0.2976\n",
      "Epoch 3/10\n",
      "598/598 [==============================] - 1115s 2s/step - loss: 2.0524 - accuracy: 0.2937 - val_loss: 1.9974 - val_accuracy: 0.3195\n",
      "Epoch 4/10\n",
      "598/598 [==============================] - 1117s 2s/step - loss: 2.0125 - accuracy: 0.3125 - val_loss: 1.9983 - val_accuracy: 0.3180\n",
      "Epoch 5/10\n",
      "598/598 [==============================] - 1116s 2s/step - loss: 1.9786 - accuracy: 0.3226 - val_loss: 1.9592 - val_accuracy: 0.3383\n",
      "Epoch 6/10\n",
      "598/598 [==============================] - 1115s 2s/step - loss: 1.9471 - accuracy: 0.3341 - val_loss: 1.9448 - val_accuracy: 0.3367\n",
      "Epoch 7/10\n",
      "598/598 [==============================] - 1116s 2s/step - loss: 1.9370 - accuracy: 0.3387 - val_loss: 1.9505 - val_accuracy: 0.3410\n",
      "Epoch 8/10\n",
      "598/598 [==============================] - 1115s 2s/step - loss: 1.9129 - accuracy: 0.3429 - val_loss: 1.9807 - val_accuracy: 0.3328\n",
      "Epoch 8: early stopping\n"
     ]
    }
   ],
   "source": [
    "stepepoch = 11967/batch_s\n",
    "valsteps = 2557/batch_s\n",
    "history=model.fit(train_generator,\n",
    "          steps_per_epoch=stepepoch, # this is for the training images\n",
    "\n",
    "          epochs=10, \n",
    "\n",
    "          validation_data=validation_generator,\n",
    "          validation_steps=valsteps,\n",
    "        callbacks=[earlystop, csv_logger])"
   ]
  },
  {
   "cell_type": "markdown",
   "id": "cdbc70d1-0e4d-4c1d-922d-fb2fe48a2aa6",
   "metadata": {},
   "source": [
    "## Saving results on Validation set"
   ]
  },
  {
   "cell_type": "code",
   "execution_count": 12,
   "id": "3d6f9c6e-1452-447c-9864-a7975b5ff1a0",
   "metadata": {},
   "outputs": [
    {
     "name": "stderr",
     "output_type": "stream",
     "text": [
      " 99%|█████████▉| 127/128 [01:32<00:00,  1.38it/s]\n"
     ]
    }
   ],
   "source": [
    "from sklearn.metrics import classification_report\n",
    "from tqdm import tqdm\n",
    "prediction_classes = np.array([])\n",
    "true_classes =  np.array([])\n",
    "step = 0\n",
    "for x, y in tqdm(validation_generator):\n",
    "    prediction_classes = np.concatenate([prediction_classes,\n",
    "                       np.argmax(model.predict(x, verbose=0), axis = -1)])\n",
    "    true_classes = np.concatenate([true_classes, np.argmax(y, axis=-1)])\n",
    "    step+=1\n",
    "    if step == 128:\n",
    "        break"
   ]
  },
  {
   "cell_type": "code",
   "execution_count": 14,
   "id": "6bfc7b83-3fe9-41d4-8724-6673f2eff517",
   "metadata": {},
   "outputs": [],
   "source": [
    "#valid_df['predicted_label_vanilla']=prediction_classes[:2557]\n",
    "#valid_df.to_csv('val_results/transfer_masked_resultsval.csv', index=False)"
   ]
  },
  {
   "cell_type": "code",
   "execution_count": 13,
   "id": "5c4b6d25-f49d-400b-ba22-efc77f41b4d2",
   "metadata": {},
   "outputs": [],
   "source": [
    "#Using masks with AVERAGE value\n",
    "valid_df['predicted_label_vanilla']=prediction_classes[:2557]\n",
    "valid_df.to_csv('val_results/transfer_avg_masked_resultsval.csv', index=False)"
   ]
  },
  {
   "cell_type": "markdown",
   "id": "6ea63a71-fe12-41f8-ae54-4398ba0451bd",
   "metadata": {},
   "source": [
    "## Saving the model"
   ]
  },
  {
   "cell_type": "code",
   "execution_count": 16,
   "id": "2603e148-f484-487d-8214-9289acd1cd6b",
   "metadata": {},
   "outputs": [
    {
     "name": "stderr",
     "output_type": "stream",
     "text": [
      "WARNING:absl:Found untraced functions such as _jit_compiled_convolution_op, _jit_compiled_convolution_op, _jit_compiled_convolution_op, _jit_compiled_convolution_op, _jit_compiled_convolution_op while saving (showing 5 of 54). These functions will not be directly callable after loading.\n"
     ]
    },
    {
     "name": "stdout",
     "output_type": "stream",
     "text": [
      "INFO:tensorflow:Assets written to: saved_models/model_masked_transfer/assets\n"
     ]
    },
    {
     "name": "stderr",
     "output_type": "stream",
     "text": [
      "INFO:tensorflow:Assets written to: saved_models/model_masked_transfer/assets\n"
     ]
    }
   ],
   "source": [
    "#model.save('saved_models/model_masked_transfer')\n",
    "#model.save('saved_models/model_masked_transfer.h5')"
   ]
  },
  {
   "cell_type": "code",
   "execution_count": 14,
   "id": "0759d8b1-ffa0-441f-adc1-cf5fbc9b5e06",
   "metadata": {},
   "outputs": [
    {
     "name": "stderr",
     "output_type": "stream",
     "text": [
      "WARNING:absl:Found untraced functions such as _jit_compiled_convolution_op, _jit_compiled_convolution_op, _jit_compiled_convolution_op, _jit_compiled_convolution_op, _jit_compiled_convolution_op while saving (showing 5 of 54). These functions will not be directly callable after loading.\n"
     ]
    },
    {
     "name": "stdout",
     "output_type": "stream",
     "text": [
      "INFO:tensorflow:Assets written to: saved_models/model_avg_masked_transfer/assets\n"
     ]
    },
    {
     "name": "stderr",
     "output_type": "stream",
     "text": [
      "INFO:tensorflow:Assets written to: saved_models/model_avg_masked_transfer/assets\n"
     ]
    }
   ],
   "source": [
    "#Using masks with AVERAGE value\n",
    "model.save('saved_models/model_avg_masked_transfer')\n",
    "model.save('saved_models/model_avg_masked_transfer.h5')"
   ]
  },
  {
   "cell_type": "markdown",
   "id": "43f66e49-9b4d-476c-a96d-d74a97816936",
   "metadata": {},
   "source": [
    "## Running model on test set and saving results"
   ]
  },
  {
   "cell_type": "code",
   "execution_count": 15,
   "id": "a0ee2d69-f9aa-40ad-946c-f36e5bd2d7fa",
   "metadata": {},
   "outputs": [
    {
     "name": "stdout",
     "output_type": "stream",
     "text": [
      "Model: \"model_1\"\n",
      "_________________________________________________________________\n",
      " Layer (type)                Output Shape              Param #   \n",
      "=================================================================\n",
      " input_4 (InputLayer)        [(None, 350, 350, 3)]     0         \n",
      "                                                                 \n",
      " resnet50 (Functional)       (None, 11, 11, 2048)      23587712  \n",
      "                                                                 \n",
      " last_conv (Conv2D)          (None, 9, 9, 64)          1179712   \n",
      "                                                                 \n",
      " global_average_pooling2d_1   (None, 64)               0         \n",
      " (GlobalAveragePooling2D)                                        \n",
      "                                                                 \n",
      " dense_1 (Dense)             (None, 12)                780       \n",
      "                                                                 \n",
      "=================================================================\n",
      "Total params: 24,768,204\n",
      "Trainable params: 24,715,084\n",
      "Non-trainable params: 53,120\n",
      "_________________________________________________________________\n"
     ]
    }
   ],
   "source": [
    "#loading model\n",
    "#loaded_model = tf.keras.models.load_model('saved_models/model_masked_transfer')\n",
    "loaded_model = tf.keras.models.load_model('saved_models/model_avg_masked_transfer')\n",
    "loaded_model.summary()"
   ]
  },
  {
   "cell_type": "code",
   "execution_count": 16,
   "id": "62c16833-21ef-4bb2-9bc1-5a9e4bb296c7",
   "metadata": {},
   "outputs": [
    {
     "data": {
      "text/html": [
       "<div>\n",
       "<style scoped>\n",
       "    .dataframe tbody tr th:only-of-type {\n",
       "        vertical-align: middle;\n",
       "    }\n",
       "\n",
       "    .dataframe tbody tr th {\n",
       "        vertical-align: top;\n",
       "    }\n",
       "\n",
       "    .dataframe thead th {\n",
       "        text-align: right;\n",
       "    }\n",
       "</style>\n",
       "<table border=\"1\" class=\"dataframe\">\n",
       "  <thead>\n",
       "    <tr style=\"text-align: right;\">\n",
       "      <th></th>\n",
       "      <th>path</th>\n",
       "      <th>label</th>\n",
       "    </tr>\n",
       "  </thead>\n",
       "  <tbody>\n",
       "    <tr>\n",
       "      <th>0</th>\n",
       "      <td>Animals/Pandion haliaetus/fdd144a72e5da77cff15...</td>\n",
       "      <td>6</td>\n",
       "    </tr>\n",
       "    <tr>\n",
       "      <th>1</th>\n",
       "      <td>Animals/Spinus tristis/e9c56231718b9b11758f5f9...</td>\n",
       "      <td>10</td>\n",
       "    </tr>\n",
       "    <tr>\n",
       "      <th>2</th>\n",
       "      <td>Animals/Pachydiplax longipennis/c67ae3e186acb3...</td>\n",
       "      <td>5</td>\n",
       "    </tr>\n",
       "    <tr>\n",
       "      <th>3</th>\n",
       "      <td>Animals/Canis latrans/0a922be91bac509ef2bc0a44...</td>\n",
       "      <td>1</td>\n",
       "    </tr>\n",
       "    <tr>\n",
       "      <th>4</th>\n",
       "      <td>Animals/Trachemys scripta elegans/fa1dd0961941...</td>\n",
       "      <td>11</td>\n",
       "    </tr>\n",
       "  </tbody>\n",
       "</table>\n",
       "</div>"
      ],
      "text/plain": [
       "                                                path label\n",
       "0  Animals/Pandion haliaetus/fdd144a72e5da77cff15...     6\n",
       "1  Animals/Spinus tristis/e9c56231718b9b11758f5f9...    10\n",
       "2  Animals/Pachydiplax longipennis/c67ae3e186acb3...     5\n",
       "3  Animals/Canis latrans/0a922be91bac509ef2bc0a44...     1\n",
       "4  Animals/Trachemys scripta elegans/fa1dd0961941...    11"
      ]
     },
     "execution_count": 16,
     "metadata": {},
     "output_type": "execute_result"
    }
   ],
   "source": [
    "test_df = pd.read_csv('test_data.csv')\n",
    "test_df['label']=test_df['label'].astype('str')\n",
    "test_df.head()"
   ]
  },
  {
   "cell_type": "code",
   "execution_count": 17,
   "id": "5d883267-d71f-45e5-9987-fd8bd0bfa655",
   "metadata": {},
   "outputs": [],
   "source": [
    "def togpu(img):\n",
    "    with tf.device('/gpu:0'):\n",
    "        tens_data = tf.constant(img)\n",
    "    return tens_data"
   ]
  },
  {
   "cell_type": "code",
   "execution_count": 18,
   "id": "22c3f3ed-9210-40af-bec0-b6f836cb793e",
   "metadata": {},
   "outputs": [
    {
     "name": "stdout",
     "output_type": "stream",
     "text": [
      "Found 2564 validated image filenames belonging to 12 classes.\n"
     ]
    }
   ],
   "source": [
    "from keras.preprocessing.image import ImageDataGenerator\n",
    "\n",
    "test_datagen=ImageDataGenerator(rescale=1./255,preprocessing_function = togpu)\n",
    "batch_s = 20\n",
    "\n",
    "test_generator=test_datagen.flow_from_dataframe(\n",
    "   test_df, \n",
    "    x_col = 'path',\n",
    "    y_col = 'label',\n",
    "    class_mode = 'categorical',\n",
    "    #color_mode='grayscale',#for black and white use: 'grayscale'\n",
    "    target_size=(350,350),\n",
    "    batch_size=batch_s,\n",
    "    shuffle=False\n",
    ")"
   ]
  },
  {
   "cell_type": "code",
   "execution_count": 19,
   "id": "cad14cd8-4910-427c-8f6f-2a7c9133d417",
   "metadata": {},
   "outputs": [
    {
     "name": "stdout",
     "output_type": "stream",
     "text": [
      "129/129 [==============================] - 83s 632ms/step - loss: 2.0035 - accuracy: 0.3264\n"
     ]
    },
    {
     "data": {
      "text/plain": [
       "[2.003451108932495, 0.32644304633140564]"
      ]
     },
     "execution_count": 19,
     "metadata": {},
     "output_type": "execute_result"
    }
   ],
   "source": [
    "loaded_model.evaluate(test_generator)"
   ]
  },
  {
   "cell_type": "markdown",
   "id": "0f87a8f8-e033-42e1-9160-cba28b66504c",
   "metadata": {},
   "source": [
    "# Generating heatmaps"
   ]
  },
  {
   "cell_type": "code",
   "execution_count": 20,
   "id": "e0a82f44-4f18-4f5c-9c50-683ae85a9652",
   "metadata": {},
   "outputs": [],
   "source": [
    "def get_img_array(img_path, size):\n",
    "    \n",
    "    img = keras.preprocessing.image.load_img(img_path, target_size=size)\n",
    "    array = keras.preprocessing.image.img_to_array(img)\n",
    "    array = np.expand_dims(array, axis=0)\n",
    "    return array\n",
    "\n",
    "\n",
    "def make_gradcam_heatmap(img_array, model, last_conv_layer_name, pred_index=None):\n",
    "    # First, we create a model that maps the input image to the activations\n",
    "    # of the last conv layer as well as the output predictions\n",
    "    grad_model = tf.keras.models.Model(\n",
    "        [model.inputs], [model.get_layer(last_conv_layer_name).output, model.output]\n",
    "    )\n",
    "\n",
    "    # Then, we compute the gradient of the top predicted class for our input image\n",
    "    # with respect to the activations of the last conv layer\n",
    "    with tf.GradientTape() as tape:\n",
    "        last_conv_layer_output, preds = grad_model(img_array)\n",
    "        if pred_index is None:\n",
    "            pred_index = tf.argmax(preds[0])\n",
    "        class_channel = preds[:, pred_index]\n",
    "\n",
    "    # This is the gradient of the output neuron (top predicted or chosen)\n",
    "    # with regard to the output feature map of the last conv layer\n",
    "    grads = tape.gradient(class_channel, last_conv_layer_output)\n",
    "\n",
    "    # This is a vector where each entry is the mean intensity of the gradient\n",
    "    # over a specific feature map channel\n",
    "    pooled_grads = tf.reduce_mean(grads, axis=(0, 1, 2))\n",
    "\n",
    "    # We multiply each channel in the feature map array\n",
    "    # by \"how important this channel is\" with regard to the top predicted class\n",
    "    # then sum all the channels to obtain the heatmap class activation\n",
    "    last_conv_layer_output = last_conv_layer_output[0]\n",
    "    heatmap = last_conv_layer_output @ pooled_grads[..., tf.newaxis]\n",
    "    heatmap = tf.squeeze(heatmap)\n",
    "\n",
    "    # For visualization purpose, we will also normalize the heatmap between 0 & 1\n",
    "    heatmap = tf.maximum(heatmap, 0) / tf.math.reduce_max(heatmap)\n",
    "    \n",
    "    return heatmap.numpy()"
   ]
  },
  {
   "cell_type": "code",
   "execution_count": 21,
   "id": "637f2dfc-162b-44d2-a4af-a9250ce1d066",
   "metadata": {},
   "outputs": [
    {
     "name": "stderr",
     "output_type": "stream",
     "text": [
      " 99%|█████████▉| 128/129 [09:59<00:04,  4.68s/it]\n"
     ]
    }
   ],
   "source": [
    "#Saving heatmaps and predicted labels\n",
    "prediction_classes_test = np.array([])\n",
    "true_classes_test =  np.array([])\n",
    "heatmaps = []\n",
    "\n",
    "img_size = (239, 225)\n",
    "last_conv_layer_name = \"last_conv\"\n",
    "step = 0\n",
    "for x, y in tqdm(test_generator):\n",
    "    prediction_classes_test = np.concatenate([prediction_classes_test,\n",
    "                       np.argmax(loaded_model.predict(x, verbose=0), axis = -1)])\n",
    "    true_classes_test = np.concatenate([true_classes_test, np.argmax(y, axis=-1)])\n",
    "    for ar in x:\n",
    "        heatmap = make_gradcam_heatmap(np.expand_dims(ar, axis=0), loaded_model,last_conv_layer_name )\n",
    "        heatmaps.append(heatmap)\n",
    "    step+=1\n",
    "    if step == 129:\n",
    "        break"
   ]
  },
  {
   "cell_type": "code",
   "execution_count": 22,
   "id": "7eabcaa5-20f2-4f0a-905d-2a7c5784b0e8",
   "metadata": {},
   "outputs": [],
   "source": [
    "inverse_label_enc = {v:k for k,v in test_generator.class_indices.items()}\n",
    "t = [inverse_label_enc[i] for i in prediction_classes_test]\n",
    "test_df['predicted_label'] = t\n",
    "test_df['heatmap'] = heatmaps"
   ]
  },
  {
   "cell_type": "code",
   "execution_count": 23,
   "id": "d829f1d3-d14d-46bc-8ee3-313a2e10b219",
   "metadata": {},
   "outputs": [
    {
     "name": "stdout",
     "output_type": "stream",
     "text": [
      "              precision    recall  f1-score   support\n",
      "\n",
      "           0       0.30      0.22      0.25       193\n",
      "           1       0.21      0.43      0.28       199\n",
      "          10       0.24      0.16      0.19       199\n",
      "          11       0.12      0.12      0.12       206\n",
      "           2       0.00      0.00      0.00       146\n",
      "           3       0.58      0.57      0.57       194\n",
      "           4       0.57      0.25      0.35       216\n",
      "           5       0.43      0.06      0.11       239\n",
      "           6       0.63      0.81      0.71       274\n",
      "           7       0.29      0.62      0.40       228\n",
      "           8       0.24      0.37      0.29       222\n",
      "           9       0.17      0.11      0.13       248\n",
      "\n",
      "    accuracy                           0.33      2564\n",
      "   macro avg       0.32      0.31      0.28      2564\n",
      "weighted avg       0.33      0.33      0.30      2564\n",
      "\n"
     ]
    }
   ],
   "source": [
    "from sklearn.metrics import classification_report\n",
    "print(classification_report(test_df['label'],test_df['predicted_label'] ))"
   ]
  },
  {
   "cell_type": "code",
   "execution_count": 24,
   "id": "5be36bca-d582-4837-a6eb-f75d2384174c",
   "metadata": {},
   "outputs": [
    {
     "data": {
      "text/html": [
       "<div>\n",
       "<style scoped>\n",
       "    .dataframe tbody tr th:only-of-type {\n",
       "        vertical-align: middle;\n",
       "    }\n",
       "\n",
       "    .dataframe tbody tr th {\n",
       "        vertical-align: top;\n",
       "    }\n",
       "\n",
       "    .dataframe thead th {\n",
       "        text-align: right;\n",
       "    }\n",
       "</style>\n",
       "<table border=\"1\" class=\"dataframe\">\n",
       "  <thead>\n",
       "    <tr style=\"text-align: right;\">\n",
       "      <th></th>\n",
       "      <th>path</th>\n",
       "      <th>label</th>\n",
       "      <th>predicted_label</th>\n",
       "      <th>heatmap</th>\n",
       "    </tr>\n",
       "  </thead>\n",
       "  <tbody>\n",
       "    <tr>\n",
       "      <th>0</th>\n",
       "      <td>Animals/Pandion haliaetus/fdd144a72e5da77cff15...</td>\n",
       "      <td>6</td>\n",
       "      <td>6</td>\n",
       "      <td>[[0.13148533, 0.75981456, 0.022742908, 0.32903...</td>\n",
       "    </tr>\n",
       "    <tr>\n",
       "      <th>1</th>\n",
       "      <td>Animals/Spinus tristis/e9c56231718b9b11758f5f9...</td>\n",
       "      <td>10</td>\n",
       "      <td>10</td>\n",
       "      <td>[[0.20491959, 1.0, 0.027547617, 0.1770726, 0.4...</td>\n",
       "    </tr>\n",
       "    <tr>\n",
       "      <th>2</th>\n",
       "      <td>Animals/Pachydiplax longipennis/c67ae3e186acb3...</td>\n",
       "      <td>5</td>\n",
       "      <td>3</td>\n",
       "      <td>[[0.026241971, 0.7740981, 1.0, 0.038390882, 0....</td>\n",
       "    </tr>\n",
       "    <tr>\n",
       "      <th>3</th>\n",
       "      <td>Animals/Canis latrans/0a922be91bac509ef2bc0a44...</td>\n",
       "      <td>1</td>\n",
       "      <td>8</td>\n",
       "      <td>[[0.5994459, 1.0, 0.71798044, 0.0, 0.19018963,...</td>\n",
       "    </tr>\n",
       "    <tr>\n",
       "      <th>4</th>\n",
       "      <td>Animals/Trachemys scripta elegans/fa1dd0961941...</td>\n",
       "      <td>11</td>\n",
       "      <td>9</td>\n",
       "      <td>[[0.004895865, 0.88426447, 0.73575443, 0.48235...</td>\n",
       "    </tr>\n",
       "  </tbody>\n",
       "</table>\n",
       "</div>"
      ],
      "text/plain": [
       "                                                path label predicted_label  \\\n",
       "0  Animals/Pandion haliaetus/fdd144a72e5da77cff15...     6               6   \n",
       "1  Animals/Spinus tristis/e9c56231718b9b11758f5f9...    10              10   \n",
       "2  Animals/Pachydiplax longipennis/c67ae3e186acb3...     5               3   \n",
       "3  Animals/Canis latrans/0a922be91bac509ef2bc0a44...     1               8   \n",
       "4  Animals/Trachemys scripta elegans/fa1dd0961941...    11               9   \n",
       "\n",
       "                                             heatmap  \n",
       "0  [[0.13148533, 0.75981456, 0.022742908, 0.32903...  \n",
       "1  [[0.20491959, 1.0, 0.027547617, 0.1770726, 0.4...  \n",
       "2  [[0.026241971, 0.7740981, 1.0, 0.038390882, 0....  \n",
       "3  [[0.5994459, 1.0, 0.71798044, 0.0, 0.19018963,...  \n",
       "4  [[0.004895865, 0.88426447, 0.73575443, 0.48235...  "
      ]
     },
     "execution_count": 24,
     "metadata": {},
     "output_type": "execute_result"
    }
   ],
   "source": [
    "test_df.head()"
   ]
  },
  {
   "cell_type": "code",
   "execution_count": 25,
   "id": "cced204b-f322-4236-8431-8c5ed3a468a5",
   "metadata": {},
   "outputs": [],
   "source": [
    "import pickle\n",
    "#with open('test_results/transfer_masked_testresults.pickle', 'wb') as file:\n",
    "#    pickle.dump(test_df, file)\n",
    "\n",
    "with open('test_results/transfer_avg_masked_testresults.pickle', 'wb') as file:\n",
    "    pickle.dump(test_df, file)"
   ]
  },
  {
   "cell_type": "code",
   "execution_count": 26,
   "id": "21533e69-7f0d-493f-ad2e-2ef20039896f",
   "metadata": {},
   "outputs": [],
   "source": [
    "with open('test_results/transfer_avg_masked_testresults.pickle', \"rb\") as f:\n",
    "    masked = pickle.load(f)"
   ]
  },
  {
   "cell_type": "code",
   "execution_count": 27,
   "id": "319910b5-8f66-4e34-b727-8f4cfa2f867a",
   "metadata": {},
   "outputs": [
    {
     "data": {
      "text/html": [
       "<div>\n",
       "<style scoped>\n",
       "    .dataframe tbody tr th:only-of-type {\n",
       "        vertical-align: middle;\n",
       "    }\n",
       "\n",
       "    .dataframe tbody tr th {\n",
       "        vertical-align: top;\n",
       "    }\n",
       "\n",
       "    .dataframe thead th {\n",
       "        text-align: right;\n",
       "    }\n",
       "</style>\n",
       "<table border=\"1\" class=\"dataframe\">\n",
       "  <thead>\n",
       "    <tr style=\"text-align: right;\">\n",
       "      <th></th>\n",
       "      <th>path</th>\n",
       "      <th>label</th>\n",
       "      <th>predicted_label</th>\n",
       "      <th>heatmap</th>\n",
       "    </tr>\n",
       "  </thead>\n",
       "  <tbody>\n",
       "    <tr>\n",
       "      <th>0</th>\n",
       "      <td>Animals/Pandion haliaetus/fdd144a72e5da77cff15...</td>\n",
       "      <td>6</td>\n",
       "      <td>6</td>\n",
       "      <td>[[0.13148533, 0.75981456, 0.022742908, 0.32903...</td>\n",
       "    </tr>\n",
       "    <tr>\n",
       "      <th>1</th>\n",
       "      <td>Animals/Spinus tristis/e9c56231718b9b11758f5f9...</td>\n",
       "      <td>10</td>\n",
       "      <td>10</td>\n",
       "      <td>[[0.20491959, 1.0, 0.027547617, 0.1770726, 0.4...</td>\n",
       "    </tr>\n",
       "    <tr>\n",
       "      <th>2</th>\n",
       "      <td>Animals/Pachydiplax longipennis/c67ae3e186acb3...</td>\n",
       "      <td>5</td>\n",
       "      <td>3</td>\n",
       "      <td>[[0.026241971, 0.7740981, 1.0, 0.038390882, 0....</td>\n",
       "    </tr>\n",
       "    <tr>\n",
       "      <th>3</th>\n",
       "      <td>Animals/Canis latrans/0a922be91bac509ef2bc0a44...</td>\n",
       "      <td>1</td>\n",
       "      <td>8</td>\n",
       "      <td>[[0.5994459, 1.0, 0.71798044, 0.0, 0.19018963,...</td>\n",
       "    </tr>\n",
       "    <tr>\n",
       "      <th>4</th>\n",
       "      <td>Animals/Trachemys scripta elegans/fa1dd0961941...</td>\n",
       "      <td>11</td>\n",
       "      <td>9</td>\n",
       "      <td>[[0.004895865, 0.88426447, 0.73575443, 0.48235...</td>\n",
       "    </tr>\n",
       "  </tbody>\n",
       "</table>\n",
       "</div>"
      ],
      "text/plain": [
       "                                                path label predicted_label  \\\n",
       "0  Animals/Pandion haliaetus/fdd144a72e5da77cff15...     6               6   \n",
       "1  Animals/Spinus tristis/e9c56231718b9b11758f5f9...    10              10   \n",
       "2  Animals/Pachydiplax longipennis/c67ae3e186acb3...     5               3   \n",
       "3  Animals/Canis latrans/0a922be91bac509ef2bc0a44...     1               8   \n",
       "4  Animals/Trachemys scripta elegans/fa1dd0961941...    11               9   \n",
       "\n",
       "                                             heatmap  \n",
       "0  [[0.13148533, 0.75981456, 0.022742908, 0.32903...  \n",
       "1  [[0.20491959, 1.0, 0.027547617, 0.1770726, 0.4...  \n",
       "2  [[0.026241971, 0.7740981, 1.0, 0.038390882, 0....  \n",
       "3  [[0.5994459, 1.0, 0.71798044, 0.0, 0.19018963,...  \n",
       "4  [[0.004895865, 0.88426447, 0.73575443, 0.48235...  "
      ]
     },
     "execution_count": 27,
     "metadata": {},
     "output_type": "execute_result"
    }
   ],
   "source": [
    "masked.head()"
   ]
  },
  {
   "cell_type": "code",
   "execution_count": 28,
   "id": "bca30c84-a103-4d2a-9d55-450c9c772e18",
   "metadata": {},
   "outputs": [
    {
     "data": {
      "image/jpeg": "[encoded data removed]",
      "text/plain": [
       "<IPython.core.display.Image object>"
      ]
     },
     "metadata": {},
     "output_type": "display_data"
    }
   ],
   "source": [
    "import matplotlib.cm as cm\n",
    "from IPython.display import Image, display\n",
    "def save_and_display_gradcam(img_path, heatmap, cam_path=\"cam.jpg\", alpha=0.8):\n",
    "    # Load the original image\n",
    "    img = keras.preprocessing.image.load_img(img_path)\n",
    "    img = keras.preprocessing.image.img_to_array(img)\n",
    "\n",
    "    # Rescale heatmap to a range 0-255\n",
    "    heatmap = np.uint8(255 * heatmap)\n",
    "\n",
    "    # Use jet colormap to colorize heatmap\n",
    "    jet = cm.get_cmap(\"jet\")\n",
    "\n",
    "    # Use RGB values of the colormap\n",
    "    jet_colors = jet(np.arange(256))[:, :3]\n",
    "    jet_heatmap = jet_colors[heatmap]\n",
    "\n",
    "    # Create an image with RGB colorized heatmap\n",
    "    jet_heatmap = keras.preprocessing.image.array_to_img(jet_heatmap)\n",
    "    jet_heatmap = jet_heatmap.resize((img.shape[1], img.shape[0]))\n",
    "    jet_heatmap = keras.preprocessing.image.img_to_array(jet_heatmap)\n",
    "\n",
    "    # Superimpose the heatmap on original image\n",
    "    superimposed_img = jet_heatmap * alpha + img\n",
    "    superimposed_img = keras.preprocessing.image.array_to_img(superimposed_img)\n",
    "\n",
    "    # Save the superimposed image\n",
    "    superimposed_img.save(cam_path)\n",
    "\n",
    "    # Display Grad CAM\n",
    "    display(Image(cam_path))\n",
    "\n",
    "\n",
    "save_and_display_gradcam(masked['path'][1],masked['heatmap'][1])"
   ]
  }
 ],
 "metadata": {
  "kernelspec": {
   "display_name": "Python 3",
   "language": "python",
   "name": "python3"
  },
  "language_info": {
   "codemirror_mode": {
    "name": "ipython",
    "version": 3
   },
   "file_extension": ".py",
   "mimetype": "text/x-python",
   "name": "python",
   "nbconvert_exporter": "python",
   "pygments_lexer": "ipython3",
   "version": "3.8.10"
  }
 },
 "nbformat": 4,
 "nbformat_minor": 5
}
