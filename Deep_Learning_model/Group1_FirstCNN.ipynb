{
 "cells": [
  {
   "cell_type": "markdown",
   "id": "e7981fb8-9afc-4f2f-a005-7d21818682c4",
   "metadata": {},
   "source": [
    "# Group 1\n",
    "\n",
    "Fabio Ceruti- Fabio Martino - Alex Lucchini - Jacopo Biggiogera\n",
    "\n",
    "This notebook contains the code that we used to run our custom made CNN architecture. There are also some commented out architectures we experimented with but did not report in the running since they performed worst than the one we ended up using"
   ]
  },
  {
   "cell_type": "code",
   "execution_count": 1,
   "id": "7bce5c2a-1595-4481-9559-ca7fd7ca7bed",
   "metadata": {},
   "outputs": [],
   "source": [
    "import pandas as pd \n",
    "import numpy as np \n",
    "import os\n",
    "import matplotlib.pyplot as plt\n",
    "import matplotlib.image as mpimg\n",
    "from collections import defaultdict\n",
    "import PIL\n",
    "import tensorflow as tf\n",
    "from tensorflow import keras\n",
    "from tensorflow.image import resize_with_pad, ResizeMethod\n",
    "from tensorflow.keras import layers\n",
    "from tensorflow.keras.models import Sequential\n",
    "from random import shuffle\n",
    "from tensorflow.keras import models\n",
    "from tensorflow.keras import optimizers\n",
    "from tqdm import tqdm\n",
    "from tensorflow.keras.layers.experimental.preprocessing import Rescaling\n",
    "from tensorflow.keras.callbacks import CSVLogger, EarlyStopping\n",
    "from sklearn.model_selection import train_test_split\n",
    "from keras.preprocessing.image import ImageDataGenerator"
   ]
  },
  {
   "cell_type": "markdown",
   "id": "b59de28d-9ebf-4279-8e16-7e2d7ef417b4",
   "metadata": {},
   "source": [
    "# Defining the model"
   ]
  },
  {
   "cell_type": "code",
   "execution_count": 2,
   "id": "bd84ef87-2107-4529-beb3-cf92646a4bdc",
   "metadata": {},
   "outputs": [],
   "source": [
    "# Class architecture\n",
    "#model = models.Sequential()\n",
    "#model.add(layers.Conv2D(32, (3, 3), activation='relu',\n",
    "#                        input_shape=(300, 300, 3)))\n",
    "#model.add(layers.MaxPooling2D((2, 2)))\n",
    "#model.add(layers.Conv2D(64, (3, 3), activation='relu'))\n",
    "#model.add(layers.MaxPooling2D((2, 2)))\n",
    "#model.add(layers.Conv2D(128, (3, 3), activation='relu'))\n",
    "#model.add(layers.MaxPooling2D((2, 2)))\n",
    "#model.add(layers.Conv2D(128, (3, 3), activation='relu'))\n",
    "#model.add(layers.MaxPooling2D((2, 2)))\n",
    "#model.add(layers.Flatten())\n",
    "#model.add(layers.Dense(100, activation='relu'))\n",
    "#model.add(layers.Dense(12, activation='sigmoid'))"
   ]
  },
  {
   "cell_type": "code",
   "execution_count": null,
   "id": "0df82af4-fb51-40fc-baaf-fa5dd781d768",
   "metadata": {},
   "outputs": [],
   "source": [
    "# Trial 1: \n",
    "#model = models.Sequential()\n",
    "#model.add(layers.Conv2D(16, (3, 3), activation='relu',\n",
    " #                       input_shape=(350, 350, 3)))\n",
    "#model.add(layers.MaxPooling2D((2, 2)))\n",
    "#model.add(layers.Conv2D(32, (3, 3), activation='relu'))\n",
    "#model.add(layers.MaxPooling2D((2, 2)))\n",
    "#model.add(layers.Conv2D(64, (3, 3), activation='relu'))\n",
    "#model.add(layers.MaxPooling2D((2, 2)))\n",
    "#model.add(layers.Conv2D(64, (3, 3), activation='relu'))\n",
    "#model.add(layers.MaxPooling2D((2, 2)))\n",
    "#model.add(layers.Conv2D(128, (3, 3), activation='relu'))\n",
    "#model.add(layers.MaxPooling2D((3, 3)))\n",
    "#model.add(layers.Flatten())\n",
    "#model.add(layers.Dense(512, activation='relu'))\n",
    "#model.add(layers.Dropout(0.3))\n",
    "#model.add(layers.Dense(512, activation='relu'))\n",
    "#model.add(layers.Dropout(0.3))\n",
    "#model.add(layers.Dense(12, activation='sigmoid'))"
   ]
  },
  {
   "cell_type": "code",
   "execution_count": 17,
   "id": "6a306443-7326-4c80-9d61-76bec09e5b9b",
   "metadata": {},
   "outputs": [],
   "source": [
    "#Trial: 2\n",
    "#model = models.Sequential()\n",
    "#model.add(layers.Conv2D(32, (3, 3), activation='relu',\n",
    "#                        input_shape=(350, 350, 3)))\n",
    "#model.add(layers.AveragePooling2D((2, 2)))\n",
    "#model.add(layers.Conv2D(64, (3, 3), activation='relu'))\n",
    "#model.add(layers.AveragePooling2D((2, 2)))\n",
    "#model.add(layers.Conv2D(64, (3, 3), activation='relu'))\n",
    "#model.add(layers.AveragePooling2D((2, 2)))\n",
    "#model.add(layers.Conv2D(128, (3, 3), activation='relu'))\n",
    "#model.add(layers.AveragePooling2D((2, 2)))\n",
    "#model.add(layers.Conv2D(128, (3, 3), activation='relu'))\n",
    "#model.add(layers.AveragePooling2D((3, 3)))\n",
    "#model.add(layers.Flatten())\n",
    "#model.add(layers.Dense(512, activation='relu'))\n",
    "#model.add(layers.Dense(12, activation='softmax'))"
   ]
  },
  {
   "cell_type": "code",
   "execution_count": 2,
   "id": "b0f87f69-6ada-4a0c-892f-1143dd841580",
   "metadata": {},
   "outputs": [],
   "source": [
    "# Trial 3:  \n",
    "#model = models.Sequential()\n",
    "#model.add(layers.Conv2D(16, (3, 3), activation='relu',\n",
    "#                        input_shape=(350, 350, 3)))\n",
    "#model.add(layers.MaxPooling2D((2, 2)))\n",
    "#model.add(layers.Conv2D(32, (3, 3), activation='relu'))\n",
    "#model.add(layers.MaxPooling2D((2, 2)))\n",
    "#model.add(layers.Conv2D(64, (3, 3), activation='relu'))\n",
    "#model.add(layers.MaxPooling2D((2, 2)))\n",
    "#model.add(layers.Conv2D(64, (3, 3), activation='relu'))\n",
    "#model.add(layers.MaxPooling2D((2, 2)))\n",
    "#model.add(layers.Conv2D(128, (3, 3), activation='relu'))\n",
    "#model.add(layers.GlobalAveragePooling2D())\n",
    "#model.add(layers.Dropout(0.3))\n",
    "#model.add(layers.Dense(12, activation='softmax'))"
   ]
  },
  {
   "cell_type": "code",
   "execution_count": 2,
   "id": "4760c4ce-cdbd-4fea-bb24-4fc9fabdba65",
   "metadata": {},
   "outputs": [],
   "source": [
    "#Best performing custom made architecture\n",
    "model = models.Sequential()\n",
    "model.add(layers.Conv2D(32, (3, 3), activation='relu',\n",
    "                        input_shape=(350, 350, 3)))\n",
    "model.add(layers.AveragePooling2D((2, 2)))\n",
    "model.add(layers.Conv2D(64, (3, 3), activation='relu'))\n",
    "model.add(layers.AveragePooling2D((2, 2)))\n",
    "model.add(layers.Conv2D(128, (3, 3), activation='relu'))\n",
    "model.add(layers.AveragePooling2D((2, 2)))\n",
    "model.add(layers.Conv2D(128, (3, 3), activation='relu'))\n",
    "model.add(layers.AveragePooling2D((2, 2)))\n",
    "model.add(layers.Conv2D(64, (3, 3), activation='relu'))\n",
    "model.add(layers.GlobalAveragePooling2D())\n",
    "model.add(layers.Dense(12, activation='softmax'))"
   ]
  },
  {
   "cell_type": "code",
   "execution_count": 3,
   "id": "6a8e2e78-4262-4002-a08a-9eb32d4292dc",
   "metadata": {},
   "outputs": [
    {
     "name": "stdout",
     "output_type": "stream",
     "text": [
      "Model: \"sequential\"\n",
      "_________________________________________________________________\n",
      " Layer (type)                Output Shape              Param #   \n",
      "=================================================================\n",
      " conv2d (Conv2D)             (None, 348, 348, 32)      896       \n",
      "                                                                 \n",
      " average_pooling2d (AverageP  (None, 174, 174, 32)     0         \n",
      " ooling2D)                                                       \n",
      "                                                                 \n",
      " conv2d_1 (Conv2D)           (None, 172, 172, 64)      18496     \n",
      "                                                                 \n",
      " average_pooling2d_1 (Averag  (None, 86, 86, 64)       0         \n",
      " ePooling2D)                                                     \n",
      "                                                                 \n",
      " conv2d_2 (Conv2D)           (None, 84, 84, 128)       73856     \n",
      "                                                                 \n",
      " average_pooling2d_2 (Averag  (None, 42, 42, 128)      0         \n",
      " ePooling2D)                                                     \n",
      "                                                                 \n",
      " conv2d_3 (Conv2D)           (None, 40, 40, 128)       147584    \n",
      "                                                                 \n",
      " average_pooling2d_3 (Averag  (None, 20, 20, 128)      0         \n",
      " ePooling2D)                                                     \n",
      "                                                                 \n",
      " conv2d_4 (Conv2D)           (None, 18, 18, 64)        73792     \n",
      "                                                                 \n",
      " global_average_pooling2d (G  (None, 64)               0         \n",
      " lobalAveragePooling2D)                                          \n",
      "                                                                 \n",
      " dense (Dense)               (None, 12)                780       \n",
      "                                                                 \n",
      "=================================================================\n",
      "Total params: 315,404\n",
      "Trainable params: 315,404\n",
      "Non-trainable params: 0\n",
      "_________________________________________________________________\n"
     ]
    }
   ],
   "source": [
    "model.summary()"
   ]
  },
  {
   "cell_type": "markdown",
   "id": "63d5ee35-8f28-41e0-8073-09a60537e47a",
   "metadata": {},
   "source": [
    "# Using flow from dataframe"
   ]
  },
  {
   "cell_type": "code",
   "execution_count": 5,
   "id": "9462f30d-71b8-4fd9-99e7-6e70856839f4",
   "metadata": {},
   "outputs": [],
   "source": [
    "#Importing data\n",
    "paths=pd.read_csv('train_val_data.csv')\n",
    "paths['label']=paths['label'].astype('str')\n",
    "X_train, X_val, y_train, y_val = train_test_split(paths['path'],paths['label'], test_size=0.176, stratify=paths['label'])\n",
    "train_df = pd.DataFrame({'path':X_train, 'label':y_train}).reset_index(drop=True)\n",
    "valid_df = pd.DataFrame({'path':X_val, 'label':y_val}).reset_index(drop=True)"
   ]
  },
  {
   "cell_type": "code",
   "execution_count": 6,
   "id": "c150c909-2506-4106-92a4-fc085e57320e",
   "metadata": {},
   "outputs": [],
   "source": [
    "def togpu(img):\n",
    "    '''This function uploads the picture to the GPU'''\n",
    "    with tf.device('/gpu:0'):\n",
    "        tens_data = tf.constant(img)\n",
    "    return tens_data"
   ]
  },
  {
   "cell_type": "code",
   "execution_count": 7,
   "id": "9d909b97-0bef-4224-989b-b111e7e5714e",
   "metadata": {},
   "outputs": [
    {
     "name": "stdout",
     "output_type": "stream",
     "text": [
      "Found 11967 validated image filenames belonging to 12 classes.\n",
      "Found 2557 validated image filenames belonging to 12 classes.\n"
     ]
    }
   ],
   "source": [
    "# Setting up the generators.\n",
    "#NOTE: we have two generators like we do in all our model since often pcitures for the train and validation are\n",
    "# taken from two dataframes which might have different piture paths (ex. train pictures come from a folder with\n",
    "#masked pictures whole validation comes form a folder with complete pictures)\n",
    "\n",
    "train_datagen=ImageDataGenerator(rescale=1./255,preprocessing_function = togpu, #check that you can make multiple functions and pass them in a list\n",
    "                                 rotation_range=90, brightness_range=[0.1, 2], shear_range=90, zoom_range=[1, 2])\n",
    "\n",
    "val_datagen=ImageDataGenerator(rescale=1./255,preprocessing_function = togpu)\n",
    "\n",
    "batch_s = 20\n",
    "\n",
    "\n",
    "train_generator=train_datagen.flow_from_dataframe(\n",
    "    train_df, \n",
    "    x_col = 'path',\n",
    "    y_col = 'label',\n",
    "    class_mode = 'categorical',\n",
    "    #color_mode='grayscale',#for black and white use: 'grayscale'\n",
    "    target_size=(350,350),\n",
    "    batch_size=batch_s\n",
    ")\n",
    "\n",
    "validation_generator=val_datagen.flow_from_dataframe(\n",
    "   valid_df, \n",
    "    x_col = 'path',\n",
    "    y_col = 'label',\n",
    "    class_mode = 'categorical',\n",
    "    #color_mode='grayscale',#for black and white use: 'grayscale'\n",
    "    target_size=(350,350),\n",
    "    batch_size=batch_s,\n",
    "    shuffle=False\n",
    ")"
   ]
  },
  {
   "cell_type": "code",
   "execution_count": 8,
   "id": "b5e3309f-fd88-443e-b3be-5b7dabb4c6c5",
   "metadata": {},
   "outputs": [],
   "source": [
    "model.compile(optimizer = 'rmsprop',\n",
    "              loss = 'categorical_crossentropy',\n",
    "              metrics = ['accuracy']) "
   ]
  },
  {
   "cell_type": "code",
   "execution_count": 9,
   "id": "f6277cd7-18ee-444f-b6f2-5028f7a9a82e",
   "metadata": {},
   "outputs": [],
   "source": [
    "earlystop = EarlyStopping(monitor='val_accuracy',\n",
    "                        min_delta=0.01,\n",
    "                        patience=3,\n",
    "                        verbose=1,\n",
    "                        mode='auto')\n",
    "\n",
    "csv_logger=CSVLogger('model_logs/training_vanilla.log',separator=\",\",append=False)"
   ]
  },
  {
   "cell_type": "code",
   "execution_count": 10,
   "id": "603eba34-62f5-4541-ac26-c46f259d202d",
   "metadata": {},
   "outputs": [
    {
     "name": "stdout",
     "output_type": "stream",
     "text": [
      "Epoch 1/10\n",
      "598/598 [==============================] - 579s 959ms/step - loss: 2.3371 - accuracy: 0.1919 - val_loss: 2.2743 - val_accuracy: 0.2038\n",
      "Epoch 2/10\n",
      "598/598 [==============================] - 562s 940ms/step - loss: 2.2537 - accuracy: 0.2328 - val_loss: 2.1378 - val_accuracy: 0.2820\n",
      "Epoch 3/10\n",
      "598/598 [==============================] - 559s 933ms/step - loss: 2.1926 - accuracy: 0.2625 - val_loss: 2.1313 - val_accuracy: 0.2808\n",
      "Epoch 4/10\n",
      "598/598 [==============================] - 564s 943ms/step - loss: 2.1387 - accuracy: 0.2831 - val_loss: 2.1013 - val_accuracy: 0.3238\n",
      "Epoch 5/10\n",
      "598/598 [==============================] - 563s 940ms/step - loss: 2.0844 - accuracy: 0.3071 - val_loss: 1.9468 - val_accuracy: 0.3504\n",
      "Epoch 6/10\n",
      "598/598 [==============================] - 562s 939ms/step - loss: 2.0493 - accuracy: 0.3159 - val_loss: 1.9284 - val_accuracy: 0.3547\n",
      "Epoch 7/10\n",
      "598/598 [==============================] - 562s 939ms/step - loss: 2.0129 - accuracy: 0.3302 - val_loss: 2.0937 - val_accuracy: 0.2984\n",
      "Epoch 8/10\n",
      "598/598 [==============================] - 561s 938ms/step - loss: 1.9852 - accuracy: 0.3402 - val_loss: 1.8159 - val_accuracy: 0.3868\n",
      "Epoch 9/10\n",
      "598/598 [==============================] - 561s 937ms/step - loss: 1.9636 - accuracy: 0.3500 - val_loss: 1.9224 - val_accuracy: 0.3516\n",
      "Epoch 10/10\n",
      "598/598 [==============================] - 562s 939ms/step - loss: 1.9474 - accuracy: 0.3516 - val_loss: 1.8196 - val_accuracy: 0.3938\n"
     ]
    }
   ],
   "source": [
    "stepepoch = 11967/batch_s\n",
    "valsteps = 2557/batch_s\n",
    "history=model.fit(train_generator,\n",
    "          steps_per_epoch=stepepoch, # this is for the training images\n",
    "\n",
    "          epochs=10, \n",
    "\n",
    "          validation_data=validation_generator,\n",
    "          validation_steps=valsteps,\n",
    "        callbacks=[earlystop, csv_logger])"
   ]
  },
  {
   "cell_type": "markdown",
   "id": "cdbc70d1-0e4d-4c1d-922d-fb2fe48a2aa6",
   "metadata": {},
   "source": [
    "## Saving results on Validation set"
   ]
  },
  {
   "cell_type": "code",
   "execution_count": 11,
   "id": "3d6f9c6e-1452-447c-9864-a7975b5ff1a0",
   "metadata": {},
   "outputs": [
    {
     "name": "stderr",
     "output_type": "stream",
     "text": [
      " 99%|█████████▉| 127/128 [00:51<00:00,  2.45it/s]\n"
     ]
    }
   ],
   "source": [
    "from sklearn.metrics import classification_report\n",
    "from tqdm import tqdm\n",
    "prediction_classes = np.array([])\n",
    "true_classes =  np.array([])\n",
    "step = 0\n",
    "for x, y in tqdm(validation_generator):\n",
    "    prediction_classes = np.concatenate([prediction_classes,\n",
    "                       np.argmax(model.predict(x, verbose=0), axis = -1)])\n",
    "    true_classes = np.concatenate([true_classes, np.argmax(y, axis=-1)])\n",
    "    step+=1\n",
    "    if step == 128:\n",
    "        break"
   ]
  },
  {
   "cell_type": "code",
   "execution_count": 12,
   "id": "6bfc7b83-3fe9-41d4-8724-6673f2eff517",
   "metadata": {},
   "outputs": [],
   "source": [
    "valid_df['predicted_label_vanilla']=prediction_classes\n",
    "valid_df.to_csv('val_results/vanilla_resultsval.csv', index=False)"
   ]
  },
  {
   "cell_type": "markdown",
   "id": "6ea63a71-fe12-41f8-ae54-4398ba0451bd",
   "metadata": {},
   "source": [
    "## Saving the model"
   ]
  },
  {
   "cell_type": "code",
   "execution_count": 13,
   "id": "2603e148-f484-487d-8214-9289acd1cd6b",
   "metadata": {},
   "outputs": [
    {
     "name": "stderr",
     "output_type": "stream",
     "text": [
      "WARNING:absl:Found untraced functions such as _jit_compiled_convolution_op, _jit_compiled_convolution_op, _jit_compiled_convolution_op, _jit_compiled_convolution_op, _jit_compiled_convolution_op while saving (showing 5 of 5). These functions will not be directly callable after loading.\n"
     ]
    },
    {
     "name": "stdout",
     "output_type": "stream",
     "text": [
      "INFO:tensorflow:Assets written to: saved_models/model_vanilla/assets\n"
     ]
    },
    {
     "name": "stderr",
     "output_type": "stream",
     "text": [
      "INFO:tensorflow:Assets written to: saved_models/model_vanilla/assets\n"
     ]
    }
   ],
   "source": [
    "model.save('saved_models/model_vanilla')\n",
    "model.save('saved_models/model_vanilla.h5')"
   ]
  },
  {
   "cell_type": "markdown",
   "id": "43f66e49-9b4d-476c-a96d-d74a97816936",
   "metadata": {},
   "source": [
    "## Running model on test set and saving results"
   ]
  },
  {
   "cell_type": "code",
   "execution_count": 14,
   "id": "a0ee2d69-f9aa-40ad-946c-f36e5bd2d7fa",
   "metadata": {},
   "outputs": [
    {
     "name": "stdout",
     "output_type": "stream",
     "text": [
      "Model: \"sequential\"\n",
      "_________________________________________________________________\n",
      " Layer (type)                Output Shape              Param #   \n",
      "=================================================================\n",
      " conv2d (Conv2D)             (None, 348, 348, 32)      896       \n",
      "                                                                 \n",
      " average_pooling2d (AverageP  (None, 174, 174, 32)     0         \n",
      " ooling2D)                                                       \n",
      "                                                                 \n",
      " conv2d_1 (Conv2D)           (None, 172, 172, 64)      18496     \n",
      "                                                                 \n",
      " average_pooling2d_1 (Averag  (None, 86, 86, 64)       0         \n",
      " ePooling2D)                                                     \n",
      "                                                                 \n",
      " conv2d_2 (Conv2D)           (None, 84, 84, 128)       73856     \n",
      "                                                                 \n",
      " average_pooling2d_2 (Averag  (None, 42, 42, 128)      0         \n",
      " ePooling2D)                                                     \n",
      "                                                                 \n",
      " conv2d_3 (Conv2D)           (None, 40, 40, 128)       147584    \n",
      "                                                                 \n",
      " average_pooling2d_3 (Averag  (None, 20, 20, 128)      0         \n",
      " ePooling2D)                                                     \n",
      "                                                                 \n",
      " conv2d_4 (Conv2D)           (None, 18, 18, 64)        73792     \n",
      "                                                                 \n",
      " global_average_pooling2d (G  (None, 64)               0         \n",
      " lobalAveragePooling2D)                                          \n",
      "                                                                 \n",
      " dense (Dense)               (None, 12)                780       \n",
      "                                                                 \n",
      "=================================================================\n",
      "Total params: 315,404\n",
      "Trainable params: 315,404\n",
      "Non-trainable params: 0\n",
      "_________________________________________________________________\n"
     ]
    }
   ],
   "source": [
    "#loading model\n",
    "loaded_model = tf.keras.models.load_model('saved_models/model_vanilla')\n",
    "loaded_model.summary()"
   ]
  },
  {
   "cell_type": "code",
   "execution_count": 15,
   "id": "8cfa213c-586e-41e0-91d2-a36123c66c65",
   "metadata": {},
   "outputs": [
    {
     "data": {
      "text/html": [
       "<div>\n",
       "<style scoped>\n",
       "    .dataframe tbody tr th:only-of-type {\n",
       "        vertical-align: middle;\n",
       "    }\n",
       "\n",
       "    .dataframe tbody tr th {\n",
       "        vertical-align: top;\n",
       "    }\n",
       "\n",
       "    .dataframe thead th {\n",
       "        text-align: right;\n",
       "    }\n",
       "</style>\n",
       "<table border=\"1\" class=\"dataframe\">\n",
       "  <thead>\n",
       "    <tr style=\"text-align: right;\">\n",
       "      <th></th>\n",
       "      <th>path</th>\n",
       "      <th>label</th>\n",
       "    </tr>\n",
       "  </thead>\n",
       "  <tbody>\n",
       "    <tr>\n",
       "      <th>0</th>\n",
       "      <td>Animals/Pandion haliaetus/fdd144a72e5da77cff15...</td>\n",
       "      <td>6</td>\n",
       "    </tr>\n",
       "    <tr>\n",
       "      <th>1</th>\n",
       "      <td>Animals/Spinus tristis/e9c56231718b9b11758f5f9...</td>\n",
       "      <td>10</td>\n",
       "    </tr>\n",
       "    <tr>\n",
       "      <th>2</th>\n",
       "      <td>Animals/Pachydiplax longipennis/c67ae3e186acb3...</td>\n",
       "      <td>5</td>\n",
       "    </tr>\n",
       "    <tr>\n",
       "      <th>3</th>\n",
       "      <td>Animals/Canis latrans/0a922be91bac509ef2bc0a44...</td>\n",
       "      <td>1</td>\n",
       "    </tr>\n",
       "    <tr>\n",
       "      <th>4</th>\n",
       "      <td>Animals/Trachemys scripta elegans/fa1dd0961941...</td>\n",
       "      <td>11</td>\n",
       "    </tr>\n",
       "  </tbody>\n",
       "</table>\n",
       "</div>"
      ],
      "text/plain": [
       "                                                path label\n",
       "0  Animals/Pandion haliaetus/fdd144a72e5da77cff15...     6\n",
       "1  Animals/Spinus tristis/e9c56231718b9b11758f5f9...    10\n",
       "2  Animals/Pachydiplax longipennis/c67ae3e186acb3...     5\n",
       "3  Animals/Canis latrans/0a922be91bac509ef2bc0a44...     1\n",
       "4  Animals/Trachemys scripta elegans/fa1dd0961941...    11"
      ]
     },
     "execution_count": 15,
     "metadata": {},
     "output_type": "execute_result"
    }
   ],
   "source": [
    "test_df = pd.read_csv('test_data.csv')\n",
    "test_df['label']=test_df['label'].astype('str')\n",
    "test_df.head()"
   ]
  },
  {
   "cell_type": "code",
   "execution_count": 16,
   "id": "8212e6fd-8ab9-4aca-ac33-5341250396b7",
   "metadata": {},
   "outputs": [],
   "source": [
    "def togpu(img):\n",
    "    with tf.device('/gpu:0'):\n",
    "        tens_data = tf.constant(img)\n",
    "    return tens_data"
   ]
  },
  {
   "cell_type": "code",
   "execution_count": 17,
   "id": "31c4e446-8573-4a38-995e-e37cb5e62c1d",
   "metadata": {},
   "outputs": [
    {
     "name": "stdout",
     "output_type": "stream",
     "text": [
      "Found 2564 validated image filenames belonging to 12 classes.\n"
     ]
    }
   ],
   "source": [
    "from keras.preprocessing.image import ImageDataGenerator\n",
    "\n",
    "test_datagen=ImageDataGenerator(rescale=1./255,preprocessing_function = togpu)\n",
    "batch_s = 20\n",
    "\n",
    "test_generator=test_datagen.flow_from_dataframe(\n",
    "   test_df, \n",
    "    x_col = 'path',\n",
    "    y_col = 'label',\n",
    "    class_mode = 'categorical',\n",
    "    #color_mode='grayscale',#for black and white use: 'grayscale'\n",
    "    target_size=(350,350),\n",
    "    batch_size=batch_s,\n",
    "    shuffle=False\n",
    ")"
   ]
  },
  {
   "cell_type": "code",
   "execution_count": 18,
   "id": "626190e8-ff54-4965-b3c5-1fab78471aaa",
   "metadata": {},
   "outputs": [
    {
     "name": "stdout",
     "output_type": "stream",
     "text": [
      "129/129 [==============================] - 42s 321ms/step - loss: 1.7945 - accuracy: 0.3990\n"
     ]
    },
    {
     "data": {
      "text/plain": [
       "[1.7944910526275635, 0.39898595213890076]"
      ]
     },
     "execution_count": 18,
     "metadata": {},
     "output_type": "execute_result"
    }
   ],
   "source": [
    "loaded_model.evaluate(test_generator)"
   ]
  },
  {
   "cell_type": "code",
   "execution_count": 19,
   "id": "c2119cea-7889-461b-a335-ac636bfa45da",
   "metadata": {},
   "outputs": [],
   "source": [
    "def get_img_array(img_path, size):\n",
    "    # `img` is a PIL image of size 299x299\n",
    "    img = keras.preprocessing.image.load_img(img_path, target_size=size)\n",
    "    # `array` is a float32 Numpy array of shape (299, 299, 3)\n",
    "    array = keras.preprocessing.image.img_to_array(img)\n",
    "    # We add a dimension to transform our array into a \"batch\"\n",
    "    # of size (1, 299, 299, 3)\n",
    "    array = np.expand_dims(array, axis=0)\n",
    "    return array\n",
    "\n",
    "\n",
    "def make_gradcam_heatmap(img_array, model, last_conv_layer_name, pred_index=None):\n",
    "    # First, we create a model that maps the input image to the activations\n",
    "    # of the last conv layer as well as the output predictions\n",
    "    grad_model = tf.keras.models.Model(\n",
    "        [model.inputs], [model.get_layer(last_conv_layer_name).output, model.output]\n",
    "    )\n",
    "\n",
    "    # Then, we compute the gradient of the top predicted class for our input image\n",
    "    # with respect to the activations of the last conv layer\n",
    "    with tf.GradientTape() as tape:\n",
    "        last_conv_layer_output, preds = grad_model(img_array)\n",
    "        if pred_index is None:\n",
    "            pred_index = tf.argmax(preds[0])\n",
    "        class_channel = preds[:, pred_index]\n",
    "\n",
    "    # This is the gradient of the output neuron (top predicted or chosen)\n",
    "    # with regard to the output feature map of the last conv layer\n",
    "    grads = tape.gradient(class_channel, last_conv_layer_output)\n",
    "\n",
    "    # This is a vector where each entry is the mean intensity of the gradient\n",
    "    # over a specific feature map channel\n",
    "    pooled_grads = tf.reduce_mean(grads, axis=(0, 1, 2))\n",
    "\n",
    "    # We multiply each channel in the feature map array\n",
    "    # by \"how important this channel is\" with regard to the top predicted class\n",
    "    # then sum all the channels to obtain the heatmap class activation\n",
    "    last_conv_layer_output = last_conv_layer_output[0]\n",
    "    heatmap = last_conv_layer_output @ pooled_grads[..., tf.newaxis]\n",
    "    heatmap = tf.squeeze(heatmap)\n",
    "\n",
    "    # For visualization purpose, we will also normalize the heatmap between 0 & 1\n",
    "    heatmap = tf.maximum(heatmap, 0) / tf.math.reduce_max(heatmap)\n",
    "    \n",
    "    return heatmap.numpy()"
   ]
  },
  {
   "cell_type": "code",
   "execution_count": 21,
   "id": "b71c9c9e-d386-45d6-bb68-084cc262bbd1",
   "metadata": {},
   "outputs": [
    {
     "name": "stderr",
     "output_type": "stream",
     "text": [
      " 99%|█████████▉| 128/129 [01:56<00:00,  1.10it/s]\n"
     ]
    }
   ],
   "source": [
    "#Saving heatmaps and predicted labels\n",
    "prediction_classes_test = np.array([])\n",
    "true_classes_test =  np.array([])\n",
    "heatmaps = []\n",
    "\n",
    "img_size = (350,350)\n",
    "last_conv_layer_name = \"conv2d_4\"\n",
    "step = 0\n",
    "for x, y in tqdm(test_generator):\n",
    "    prediction_classes_test = np.concatenate([prediction_classes_test,\n",
    "                       np.argmax(loaded_model.predict(x, verbose=0), axis = -1)])\n",
    "    true_classes_test = np.concatenate([true_classes_test, np.argmax(y, axis=-1)])\n",
    "    for ar in x:\n",
    "        heatmap = make_gradcam_heatmap(np.expand_dims(ar, axis=0), loaded_model,last_conv_layer_name )\n",
    "        heatmaps.append(heatmap)\n",
    "    step+=1\n",
    "    if step == 129:\n",
    "        break"
   ]
  },
  {
   "cell_type": "code",
   "execution_count": 22,
   "id": "038b97db-f37c-4bde-85f8-21e687f41c1d",
   "metadata": {},
   "outputs": [],
   "source": [
    "inverse_label_enc = {v:k for k,v in test_generator.class_indices.items()}\n",
    "t = [inverse_label_enc[i] for i in prediction_classes_test]\n",
    "test_df['predicted_label'] = t\n",
    "test_df['heatmap'] = heatmaps"
   ]
  },
  {
   "cell_type": "code",
   "execution_count": 23,
   "id": "afef7b27-5a90-48ff-9c16-2096c1a0d9e8",
   "metadata": {},
   "outputs": [
    {
     "name": "stdout",
     "output_type": "stream",
     "text": [
      "              precision    recall  f1-score   support\n",
      "\n",
      "           0       0.11      0.05      0.07       193\n",
      "           1       0.08      0.09      0.09       199\n",
      "          10       0.08      0.05      0.06       199\n",
      "          11       0.08      0.05      0.06       206\n",
      "           2       0.00      0.00      0.00       146\n",
      "           3       0.08      0.04      0.05       194\n",
      "           4       0.08      0.12      0.10       216\n",
      "           5       0.07      0.04      0.05       239\n",
      "           6       0.13      0.17      0.15       274\n",
      "           7       0.07      0.10      0.08       228\n",
      "           8       0.10      0.23      0.14       222\n",
      "           9       0.10      0.11      0.11       248\n",
      "\n",
      "    accuracy                           0.09      2564\n",
      "   macro avg       0.08      0.09      0.08      2564\n",
      "weighted avg       0.09      0.09      0.08      2564\n",
      "\n"
     ]
    }
   ],
   "source": [
    "from sklearn.metrics import classification_report\n",
    "print(classification_report(test_df['label'],test_df['predicted_label'] ))"
   ]
  },
  {
   "cell_type": "code",
   "execution_count": 24,
   "id": "0816d080-c77d-4fdb-83a4-9777eafc178f",
   "metadata": {},
   "outputs": [
    {
     "data": {
      "text/html": [
       "<div>\n",
       "<style scoped>\n",
       "    .dataframe tbody tr th:only-of-type {\n",
       "        vertical-align: middle;\n",
       "    }\n",
       "\n",
       "    .dataframe tbody tr th {\n",
       "        vertical-align: top;\n",
       "    }\n",
       "\n",
       "    .dataframe thead th {\n",
       "        text-align: right;\n",
       "    }\n",
       "</style>\n",
       "<table border=\"1\" class=\"dataframe\">\n",
       "  <thead>\n",
       "    <tr style=\"text-align: right;\">\n",
       "      <th></th>\n",
       "      <th>path</th>\n",
       "      <th>label</th>\n",
       "      <th>predicted_label</th>\n",
       "      <th>heatmap</th>\n",
       "    </tr>\n",
       "  </thead>\n",
       "  <tbody>\n",
       "    <tr>\n",
       "      <th>0</th>\n",
       "      <td>Animals/Pandion haliaetus/fdd144a72e5da77cff15...</td>\n",
       "      <td>6</td>\n",
       "      <td>4</td>\n",
       "      <td>[[0.044346012, 0.10787679, 0.17833649, 0.16570...</td>\n",
       "    </tr>\n",
       "    <tr>\n",
       "      <th>1</th>\n",
       "      <td>Animals/Spinus tristis/e9c56231718b9b11758f5f9...</td>\n",
       "      <td>10</td>\n",
       "      <td>8</td>\n",
       "      <td>[[0.481168, 0.50562626, 0.69210017, 0.76322067...</td>\n",
       "    </tr>\n",
       "    <tr>\n",
       "      <th>2</th>\n",
       "      <td>Animals/Pachydiplax longipennis/c67ae3e186acb3...</td>\n",
       "      <td>5</td>\n",
       "      <td>4</td>\n",
       "      <td>[[0.0034747755, 0.0, 0.0, 0.0, 0.0, 0.0, 0.0, ...</td>\n",
       "    </tr>\n",
       "    <tr>\n",
       "      <th>3</th>\n",
       "      <td>Animals/Canis latrans/0a922be91bac509ef2bc0a44...</td>\n",
       "      <td>1</td>\n",
       "      <td>5</td>\n",
       "      <td>[[0.17211114, 0.20904641, 0.24697073, 0.297363...</td>\n",
       "    </tr>\n",
       "    <tr>\n",
       "      <th>4</th>\n",
       "      <td>Animals/Trachemys scripta elegans/fa1dd0961941...</td>\n",
       "      <td>11</td>\n",
       "      <td>1</td>\n",
       "      <td>[[0.0, 0.2690757, 0.30582666, 0.41610038, 0.43...</td>\n",
       "    </tr>\n",
       "  </tbody>\n",
       "</table>\n",
       "</div>"
      ],
      "text/plain": [
       "                                                path label predicted_label  \\\n",
       "0  Animals/Pandion haliaetus/fdd144a72e5da77cff15...     6               4   \n",
       "1  Animals/Spinus tristis/e9c56231718b9b11758f5f9...    10               8   \n",
       "2  Animals/Pachydiplax longipennis/c67ae3e186acb3...     5               4   \n",
       "3  Animals/Canis latrans/0a922be91bac509ef2bc0a44...     1               5   \n",
       "4  Animals/Trachemys scripta elegans/fa1dd0961941...    11               1   \n",
       "\n",
       "                                             heatmap  \n",
       "0  [[0.044346012, 0.10787679, 0.17833649, 0.16570...  \n",
       "1  [[0.481168, 0.50562626, 0.69210017, 0.76322067...  \n",
       "2  [[0.0034747755, 0.0, 0.0, 0.0, 0.0, 0.0, 0.0, ...  \n",
       "3  [[0.17211114, 0.20904641, 0.24697073, 0.297363...  \n",
       "4  [[0.0, 0.2690757, 0.30582666, 0.41610038, 0.43...  "
      ]
     },
     "execution_count": 24,
     "metadata": {},
     "output_type": "execute_result"
    }
   ],
   "source": [
    "test_df.head()"
   ]
  },
  {
   "cell_type": "code",
   "execution_count": 25,
   "id": "16a653c0-3678-436f-8553-a1e5068bc20f",
   "metadata": {},
   "outputs": [],
   "source": [
    "import pickle\n",
    "#Saving as pcikle to maintain data types\n",
    "with open('test_results/custom_vanilla_testresults.pickle', 'wb') as file:\n",
    "    pickle.dump(test_df, file)"
   ]
  },
  {
   "cell_type": "code",
   "execution_count": 26,
   "id": "e018e5bb-9ec7-4fbc-b9d2-0f38143a5121",
   "metadata": {},
   "outputs": [],
   "source": [
    "with open('test_results/custom_vanilla_testresults.pickle', \"rb\") as f:\n",
    "    state = pickle.load(f)"
   ]
  },
  {
   "cell_type": "code",
   "execution_count": 27,
   "id": "3e3eb42e-e41a-4d65-b0e1-838c5706fe1a",
   "metadata": {},
   "outputs": [
    {
     "data": {
      "text/html": [
       "<div>\n",
       "<style scoped>\n",
       "    .dataframe tbody tr th:only-of-type {\n",
       "        vertical-align: middle;\n",
       "    }\n",
       "\n",
       "    .dataframe tbody tr th {\n",
       "        vertical-align: top;\n",
       "    }\n",
       "\n",
       "    .dataframe thead th {\n",
       "        text-align: right;\n",
       "    }\n",
       "</style>\n",
       "<table border=\"1\" class=\"dataframe\">\n",
       "  <thead>\n",
       "    <tr style=\"text-align: right;\">\n",
       "      <th></th>\n",
       "      <th>path</th>\n",
       "      <th>label</th>\n",
       "      <th>predicted_label</th>\n",
       "      <th>heatmap</th>\n",
       "    </tr>\n",
       "  </thead>\n",
       "  <tbody>\n",
       "    <tr>\n",
       "      <th>0</th>\n",
       "      <td>Animals/Pandion haliaetus/fdd144a72e5da77cff15...</td>\n",
       "      <td>6</td>\n",
       "      <td>4</td>\n",
       "      <td>[[0.044346012, 0.10787679, 0.17833649, 0.16570...</td>\n",
       "    </tr>\n",
       "    <tr>\n",
       "      <th>1</th>\n",
       "      <td>Animals/Spinus tristis/e9c56231718b9b11758f5f9...</td>\n",
       "      <td>10</td>\n",
       "      <td>8</td>\n",
       "      <td>[[0.481168, 0.50562626, 0.69210017, 0.76322067...</td>\n",
       "    </tr>\n",
       "    <tr>\n",
       "      <th>2</th>\n",
       "      <td>Animals/Pachydiplax longipennis/c67ae3e186acb3...</td>\n",
       "      <td>5</td>\n",
       "      <td>4</td>\n",
       "      <td>[[0.0034747755, 0.0, 0.0, 0.0, 0.0, 0.0, 0.0, ...</td>\n",
       "    </tr>\n",
       "    <tr>\n",
       "      <th>3</th>\n",
       "      <td>Animals/Canis latrans/0a922be91bac509ef2bc0a44...</td>\n",
       "      <td>1</td>\n",
       "      <td>5</td>\n",
       "      <td>[[0.17211114, 0.20904641, 0.24697073, 0.297363...</td>\n",
       "    </tr>\n",
       "    <tr>\n",
       "      <th>4</th>\n",
       "      <td>Animals/Trachemys scripta elegans/fa1dd0961941...</td>\n",
       "      <td>11</td>\n",
       "      <td>1</td>\n",
       "      <td>[[0.0, 0.2690757, 0.30582666, 0.41610038, 0.43...</td>\n",
       "    </tr>\n",
       "  </tbody>\n",
       "</table>\n",
       "</div>"
      ],
      "text/plain": [
       "                                                path label predicted_label  \\\n",
       "0  Animals/Pandion haliaetus/fdd144a72e5da77cff15...     6               4   \n",
       "1  Animals/Spinus tristis/e9c56231718b9b11758f5f9...    10               8   \n",
       "2  Animals/Pachydiplax longipennis/c67ae3e186acb3...     5               4   \n",
       "3  Animals/Canis latrans/0a922be91bac509ef2bc0a44...     1               5   \n",
       "4  Animals/Trachemys scripta elegans/fa1dd0961941...    11               1   \n",
       "\n",
       "                                             heatmap  \n",
       "0  [[0.044346012, 0.10787679, 0.17833649, 0.16570...  \n",
       "1  [[0.481168, 0.50562626, 0.69210017, 0.76322067...  \n",
       "2  [[0.0034747755, 0.0, 0.0, 0.0, 0.0, 0.0, 0.0, ...  \n",
       "3  [[0.17211114, 0.20904641, 0.24697073, 0.297363...  \n",
       "4  [[0.0, 0.2690757, 0.30582666, 0.41610038, 0.43...  "
      ]
     },
     "execution_count": 27,
     "metadata": {},
     "output_type": "execute_result"
    }
   ],
   "source": [
    "state.head()"
   ]
  },
  {
   "cell_type": "code",
   "execution_count": 28,
   "id": "08cf020b-da5f-4267-8ceb-669ab37a7a33",
   "metadata": {},
   "outputs": [
    {
     "data": {
      "image/jpeg": "[encoded data removed]",
      "text/plain": [
       "<IPython.core.display.Image object>"
      ]
     },
     "metadata": {},
     "output_type": "display_data"
    }
   ],
   "source": [
    "import matplotlib.cm as cm\n",
    "from IPython.display import Image, display\n",
    "def save_and_display_gradcam(img_path, heatmap, cam_path=\"cam.jpg\", alpha=0.8):\n",
    "    # Load the original image\n",
    "    img = keras.preprocessing.image.load_img(img_path)\n",
    "    img = keras.preprocessing.image.img_to_array(img)\n",
    "\n",
    "    # Rescale heatmap to a range 0-255\n",
    "    heatmap = np.uint8(255 * heatmap)\n",
    "\n",
    "    # Use jet colormap to colorize heatmap\n",
    "    jet = cm.get_cmap(\"jet\")\n",
    "\n",
    "    # Use RGB values of the colormap\n",
    "    jet_colors = jet(np.arange(256))[:, :3]\n",
    "    jet_heatmap = jet_colors[heatmap]\n",
    "\n",
    "    # Create an image with RGB colorized heatmap\n",
    "    jet_heatmap = keras.preprocessing.image.array_to_img(jet_heatmap)\n",
    "    jet_heatmap = jet_heatmap.resize((img.shape[1], img.shape[0]))\n",
    "    jet_heatmap = keras.preprocessing.image.img_to_array(jet_heatmap)\n",
    "\n",
    "    # Superimpose the heatmap on original image\n",
    "    superimposed_img = jet_heatmap * alpha + img\n",
    "    superimposed_img = keras.preprocessing.image.array_to_img(superimposed_img)\n",
    "\n",
    "    # Save the superimposed image\n",
    "    superimposed_img.save(cam_path)\n",
    "\n",
    "    # Display Grad CAM\n",
    "    display(Image(cam_path))\n",
    "\n",
    "\n",
    "save_and_display_gradcam(state['path'][2],state['heatmap'][2])"
   ]
  }
 ],
 "metadata": {
  "kernelspec": {
   "display_name": "Python 3",
   "language": "python",
   "name": "python3"
  },
  "language_info": {
   "codemirror_mode": {
    "name": "ipython",
    "version": 3
   },
   "file_extension": ".py",
   "mimetype": "text/x-python",
   "name": "python",
   "nbconvert_exporter": "python",
   "pygments_lexer": "ipython3",
   "version": "3.8.10"
  }
 },
 "nbformat": 4,
 "nbformat_minor": 5
}
