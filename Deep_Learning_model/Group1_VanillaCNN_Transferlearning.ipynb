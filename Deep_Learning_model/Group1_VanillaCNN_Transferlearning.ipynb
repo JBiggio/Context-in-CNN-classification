{
 "cells": [
  {
   "cell_type": "markdown",
   "id": "cebea193",
   "metadata": {},
   "source": [
    "# Group 1\n",
    "Fabio Ceruti - Fabio Martino - Alex Lucchini - Jacopo Biggiogera\n",
    "\n",
    "This notebook contains the code that we used to carry out to apply transfer learning for predicting the species by using the entire photos. Additionally, we also extract the heatmaps for each prediction on test."
   ]
  },
  {
   "cell_type": "code",
   "execution_count": 1,
   "id": "7bce5c2a-1595-4481-9559-ca7fd7ca7bed",
   "metadata": {},
   "outputs": [],
   "source": [
    "import pandas as pd \n",
    "import numpy as np \n",
    "import os\n",
    "import matplotlib.pyplot as plt\n",
    "import matplotlib.image as mpimg\n",
    "from collections import defaultdict\n",
    "import PIL\n",
    "import tensorflow as tf\n",
    "from tensorflow import keras\n",
    "from tensorflow.image import resize_with_pad, ResizeMethod\n",
    "from tensorflow.keras import layers\n",
    "from tensorflow.keras.models import Sequential\n",
    "from random import shuffle\n",
    "from tensorflow.keras import models\n",
    "from tensorflow.keras import optimizers\n",
    "from tqdm import tqdm\n",
    "from tensorflow.keras.layers.experimental.preprocessing import Rescaling\n",
    "from tensorflow.keras.callbacks import CSVLogger, EarlyStopping\n",
    "from sklearn.model_selection import train_test_split"
   ]
  },
  {
   "cell_type": "markdown",
   "id": "b59de28d-9ebf-4279-8e16-7e2d7ef417b4",
   "metadata": {},
   "source": [
    "## Defining the model through transfer learning"
   ]
  },
  {
   "cell_type": "code",
   "execution_count": 10,
   "id": "14e640ce-4622-42cd-84b0-ffcffd8269b0",
   "metadata": {},
   "outputs": [
    {
     "name": "stdout",
     "output_type": "stream",
     "text": [
      "Model: \"model_1\"\n",
      "_________________________________________________________________\n",
      " Layer (type)                Output Shape              Param #   \n",
      "=================================================================\n",
      " input_4 (InputLayer)        [(None, 350, 350, 3)]     0         \n",
      "                                                                 \n",
      " resnet50 (Functional)       (None, 11, 11, 2048)      23587712  \n",
      "                                                                 \n",
      " last_conv (Conv2D)          (None, 9, 9, 64)          1179712   \n",
      "                                                                 \n",
      " global_average_pooling2d_1   (None, 64)               0         \n",
      " (GlobalAveragePooling2D)                                        \n",
      "                                                                 \n",
      " dense_1 (Dense)             (None, 12)                780       \n",
      "                                                                 \n",
      "=================================================================\n",
      "Total params: 24,768,204\n",
      "Trainable params: 24,715,084\n",
      "Non-trainable params: 53,120\n",
      "_________________________________________________________________\n"
     ]
    }
   ],
   "source": [
    "#Import the model from keras.applications, there are plenty of models. I have chosen the one with the best performance\n",
    "base_model = ResNet50(weights='imagenet',input_shape=(350, 350, 3),include_top=False)  # original input shape for model (480,480,3)\n",
    "base_model.trainable = True #freeze parameters of imported model\n",
    "\n",
    "inputs = keras.Input(shape=(350, 350, 3))\n",
    "x = base_model(inputs, training=True)\n",
    "x = keras.layers.Conv2D(64, (3, 3), activation='relu',name='last_conv')(x)\n",
    "x = keras.layers.GlobalAveragePooling2D()(x)\n",
    "outputs = keras.layers.Dense(12, activation='softmax')(x) #predict the class\n",
    "model = keras.Model(inputs, outputs) #put everything together\n",
    "model.summary()"
   ]
  },
  {
   "cell_type": "markdown",
   "id": "63d5ee35-8f28-41e0-8073-09a60537e47a",
   "metadata": {},
   "source": [
    "## Preparing the data for the analysis\n",
    "This section prepares the data for the analysis by loading it and creating train and validation data with balanced classes."
   ]
  },
  {
   "cell_type": "code",
   "execution_count": 11,
   "id": "9462f30d-71b8-4fd9-99e7-6e70856839f4",
   "metadata": {},
   "outputs": [],
   "source": [
    "#Creating a balanced split between training and test\n",
    "paths=pd.read_csv('train_val_data.csv')\n",
    "paths['label']=paths['label'].astype('str')\n",
    "X_train, X_val, y_train, y_val = train_test_split(paths['path'],paths['label'], test_size=0.176, stratify=paths['label'])\n",
    "train_df = pd.DataFrame({'path':X_train, 'label':y_train}).reset_index(drop=True)\n",
    "valid_df = pd.DataFrame({'path':X_val, 'label':y_val}).reset_index(drop=True)"
   ]
  },
  {
   "cell_type": "code",
   "execution_count": 13,
   "id": "9d909b97-0bef-4224-989b-b111e7e5714e",
   "metadata": {},
   "outputs": [
    {
     "name": "stdout",
     "output_type": "stream",
     "text": [
      "Found 11967 validated image filenames belonging to 12 classes.\n",
      "Found 2557 validated image filenames belonging to 12 classes.\n"
     ]
    }
   ],
   "source": [
    "# Setting up the generators.\n",
    "#NOTE: we have two generators like we do in all our model since often pcitures for the train and validation are\n",
    "# taken from two dataframes which might have different piture paths (ex. train pictures come from a folder with\n",
    "#masked pictures whole validation comes form a folder with complete pictures)\n",
    "\n",
    "def togpu(img):\n",
    "    with tf.device('/gpu:0'):\n",
    "        tens_data = tf.constant(img)\n",
    "    return tens_data\n",
    "\n",
    "train_datagen=ImageDataGenerator(rescale=1./255,preprocessing_function = togpu, #check that you can make multiple functions and pass them in a list\n",
    "                                 rotation_range=90, brightness_range=[0.1, 2], shear_range=90, zoom_range=[1, 2])\n",
    "\n",
    "val_datagen=ImageDataGenerator(rescale=1./255,preprocessing_function = togpu)\n",
    "\n",
    "batch_s = 20\n",
    "\n",
    "\n",
    "train_generator=train_datagen.flow_from_dataframe(\n",
    "    train_df, \n",
    "    x_col = 'path',\n",
    "    y_col = 'label',\n",
    "    class_mode = 'categorical',\n",
    "    #color_mode='grayscale',#for black and white use: 'grayscale'\n",
    "    target_size=(350,350),\n",
    "    batch_size=batch_s\n",
    ")\n",
    "\n",
    "validation_generator=val_datagen.flow_from_dataframe(\n",
    "   valid_df, \n",
    "    x_col = 'path',\n",
    "    y_col = 'label',\n",
    "    class_mode = 'categorical',\n",
    "    #color_mode='grayscale',#for black and white use: 'grayscale'\n",
    "    target_size=(350,350),\n",
    "    batch_size=batch_s,\n",
    "    shuffle=False\n",
    ")"
   ]
  },
  {
   "cell_type": "markdown",
   "id": "9a30ca12",
   "metadata": {},
   "source": [
    "### Compiling the model and fitting it"
   ]
  },
  {
   "cell_type": "code",
   "execution_count": 14,
   "id": "b5e3309f-fd88-443e-b3be-5b7dabb4c6c5",
   "metadata": {},
   "outputs": [],
   "source": [
    "model.compile(optimizer = 'rmsprop',\n",
    "              loss = 'categorical_crossentropy',\n",
    "              metrics = ['accuracy']) "
   ]
  },
  {
   "cell_type": "code",
   "execution_count": 17,
   "id": "f6277cd7-18ee-444f-b6f2-5028f7a9a82e",
   "metadata": {},
   "outputs": [],
   "source": [
    "earlystop = EarlyStopping(monitor='val_accuracy',\n",
    "                        min_delta=0.01,\n",
    "                        patience=3,\n",
    "                        verbose=1,\n",
    "                        mode='auto')\n",
    "\n",
    "csv_logger=CSVLogger('model_logs/training_vanilla_transfer.log',separator=\",\",append=False)"
   ]
  },
  {
   "cell_type": "code",
   "execution_count": 18,
   "id": "603eba34-62f5-4541-ac26-c46f259d202d",
   "metadata": {},
   "outputs": [
    {
     "name": "stdout",
     "output_type": "stream",
     "text": [
      "Epoch 1/10\n",
      "598/598 [==============================] - 1277s 2s/step - loss: 2.3070 - accuracy: 0.2257 - val_loss: 2.1453 - val_accuracy: 0.2859\n",
      "Epoch 2/10\n",
      "598/598 [==============================] - 1168s 2s/step - loss: 2.0021 - accuracy: 0.3149 - val_loss: 1.8470 - val_accuracy: 0.3602\n",
      "Epoch 3/10\n",
      "598/598 [==============================] - 1171s 2s/step - loss: 1.8889 - accuracy: 0.3529 - val_loss: 1.7932 - val_accuracy: 0.3747\n",
      "Epoch 4/10\n",
      "598/598 [==============================] - 1169s 2s/step - loss: 1.8078 - accuracy: 0.3825 - val_loss: 1.7413 - val_accuracy: 0.3930\n",
      "Epoch 5/10\n",
      "598/598 [==============================] - 1168s 2s/step - loss: 1.7482 - accuracy: 0.4034 - val_loss: 1.6226 - val_accuracy: 0.4384\n",
      "Epoch 6/10\n",
      "598/598 [==============================] - 1170s 2s/step - loss: 1.6738 - accuracy: 0.4320 - val_loss: 1.5767 - val_accuracy: 0.4677\n",
      "Epoch 7/10\n",
      "598/598 [==============================] - 1168s 2s/step - loss: 1.6253 - accuracy: 0.4463 - val_loss: 1.5135 - val_accuracy: 0.4822\n",
      "Epoch 8/10\n",
      "598/598 [==============================] - 1170s 2s/step - loss: 1.5713 - accuracy: 0.4625 - val_loss: 1.4600 - val_accuracy: 0.5041\n",
      "Epoch 9/10\n",
      "598/598 [==============================] - 1170s 2s/step - loss: 1.5486 - accuracy: 0.4766 - val_loss: 1.4008 - val_accuracy: 0.5248\n",
      "Epoch 10/10\n",
      "598/598 [==============================] - 1170s 2s/step - loss: 1.4930 - accuracy: 0.4974 - val_loss: 1.4002 - val_accuracy: 0.5147\n"
     ]
    }
   ],
   "source": [
    "stepepoch = 11967/batch_s\n",
    "valsteps = 2557/batch_s\n",
    "history=model.fit(train_generator,\n",
    "          steps_per_epoch=stepepoch, # this is for the training images\n",
    "\n",
    "          epochs=10, \n",
    "\n",
    "          validation_data=validation_generator,\n",
    "          validation_steps=valsteps,\n",
    "        callbacks=[earlystop, csv_logger])"
   ]
  },
  {
   "cell_type": "markdown",
   "id": "cdbc70d1-0e4d-4c1d-922d-fb2fe48a2aa6",
   "metadata": {},
   "source": [
    "### Saving results on Validation set and saving the models"
   ]
  },
  {
   "cell_type": "code",
   "execution_count": 19,
   "id": "3d6f9c6e-1452-447c-9864-a7975b5ff1a0",
   "metadata": {},
   "outputs": [
    {
     "name": "stderr",
     "output_type": "stream",
     "text": [
      " 99%|█████████▉| 127/128 [01:33<00:00,  1.36it/s]\n"
     ]
    }
   ],
   "source": [
    "from sklearn.metrics import classification_report\n",
    "from tqdm import tqdm\n",
    "prediction_classes = np.array([])\n",
    "true_classes =  np.array([])\n",
    "step = 0\n",
    "for x, y in tqdm(validation_generator):\n",
    "    prediction_classes = np.concatenate([prediction_classes,\n",
    "                       np.argmax(model.predict(x, verbose=0), axis = -1)])\n",
    "    true_classes = np.concatenate([true_classes, np.argmax(y, axis=-1)])\n",
    "    step+=1\n",
    "    if step == 128:\n",
    "        break"
   ]
  },
  {
   "cell_type": "code",
   "execution_count": 20,
   "id": "6bfc7b83-3fe9-41d4-8724-6673f2eff517",
   "metadata": {},
   "outputs": [],
   "source": [
    "valid_df['predicted_label_vanilla_transfer']=prediction_classes\n",
    "valid_df.to_csv('val_results/transfer_vanilla_resultsval.csv', index=False)"
   ]
  },
  {
   "cell_type": "code",
   "execution_count": 22,
   "id": "2603e148-f484-487d-8214-9289acd1cd6b",
   "metadata": {},
   "outputs": [
    {
     "name": "stderr",
     "output_type": "stream",
     "text": [
      "WARNING:absl:Found untraced functions such as _jit_compiled_convolution_op, _jit_compiled_convolution_op, _jit_compiled_convolution_op, _jit_compiled_convolution_op, _jit_compiled_convolution_op while saving (showing 5 of 54). These functions will not be directly callable after loading.\n"
     ]
    },
    {
     "name": "stdout",
     "output_type": "stream",
     "text": [
      "INFO:tensorflow:Assets written to: saved_models/model_vanilla_transfer/assets\n"
     ]
    },
    {
     "name": "stderr",
     "output_type": "stream",
     "text": [
      "INFO:tensorflow:Assets written to: saved_models/model_vanilla_transfer/assets\n"
     ]
    }
   ],
   "source": [
    "model.save('saved_models/model_vanilla_transfer')\n",
    "model.save('saved_models/model_vanilla_transfer.h5')"
   ]
  },
  {
   "cell_type": "markdown",
   "id": "43f66e49-9b4d-476c-a96d-d74a97816936",
   "metadata": {},
   "source": [
    "### Running model on test set and saving results"
   ]
  },
  {
   "cell_type": "code",
   "execution_count": 2,
   "id": "a0ee2d69-f9aa-40ad-946c-f36e5bd2d7fa",
   "metadata": {},
   "outputs": [
    {
     "name": "stdout",
     "output_type": "stream",
     "text": [
      "Model: \"model_1\"\n",
      "_________________________________________________________________\n",
      " Layer (type)                Output Shape              Param #   \n",
      "=================================================================\n",
      " input_4 (InputLayer)        [(None, 350, 350, 3)]     0         \n",
      "                                                                 \n",
      " resnet50 (Functional)       (None, 11, 11, 2048)      23587712  \n",
      "                                                                 \n",
      " last_conv (Conv2D)          (None, 9, 9, 64)          1179712   \n",
      "                                                                 \n",
      " global_average_pooling2d_1   (None, 64)               0         \n",
      " (GlobalAveragePooling2D)                                        \n",
      "                                                                 \n",
      " dense_1 (Dense)             (None, 12)                780       \n",
      "                                                                 \n",
      "=================================================================\n",
      "Total params: 24,768,204\n",
      "Trainable params: 24,715,084\n",
      "Non-trainable params: 53,120\n",
      "_________________________________________________________________\n"
     ]
    }
   ],
   "source": [
    "#loading model\n",
    "loaded_model = tf.keras.models.load_model('saved_models/model_vanilla_transfer')\n",
    "loaded_model.summary()"
   ]
  },
  {
   "cell_type": "code",
   "execution_count": 3,
   "id": "c86464b3-9794-4211-b7cc-9110ab93d75d",
   "metadata": {},
   "outputs": [
    {
     "data": {
      "text/html": [
       "<div>\n",
       "<style scoped>\n",
       "    .dataframe tbody tr th:only-of-type {\n",
       "        vertical-align: middle;\n",
       "    }\n",
       "\n",
       "    .dataframe tbody tr th {\n",
       "        vertical-align: top;\n",
       "    }\n",
       "\n",
       "    .dataframe thead th {\n",
       "        text-align: right;\n",
       "    }\n",
       "</style>\n",
       "<table border=\"1\" class=\"dataframe\">\n",
       "  <thead>\n",
       "    <tr style=\"text-align: right;\">\n",
       "      <th></th>\n",
       "      <th>path</th>\n",
       "      <th>label</th>\n",
       "    </tr>\n",
       "  </thead>\n",
       "  <tbody>\n",
       "    <tr>\n",
       "      <th>0</th>\n",
       "      <td>Animals/Pandion haliaetus/fdd144a72e5da77cff15...</td>\n",
       "      <td>6</td>\n",
       "    </tr>\n",
       "    <tr>\n",
       "      <th>1</th>\n",
       "      <td>Animals/Spinus tristis/e9c56231718b9b11758f5f9...</td>\n",
       "      <td>10</td>\n",
       "    </tr>\n",
       "    <tr>\n",
       "      <th>2</th>\n",
       "      <td>Animals/Pachydiplax longipennis/c67ae3e186acb3...</td>\n",
       "      <td>5</td>\n",
       "    </tr>\n",
       "    <tr>\n",
       "      <th>3</th>\n",
       "      <td>Animals/Canis latrans/0a922be91bac509ef2bc0a44...</td>\n",
       "      <td>1</td>\n",
       "    </tr>\n",
       "    <tr>\n",
       "      <th>4</th>\n",
       "      <td>Animals/Trachemys scripta elegans/fa1dd0961941...</td>\n",
       "      <td>11</td>\n",
       "    </tr>\n",
       "  </tbody>\n",
       "</table>\n",
       "</div>"
      ],
      "text/plain": [
       "                                                path label\n",
       "0  Animals/Pandion haliaetus/fdd144a72e5da77cff15...     6\n",
       "1  Animals/Spinus tristis/e9c56231718b9b11758f5f9...    10\n",
       "2  Animals/Pachydiplax longipennis/c67ae3e186acb3...     5\n",
       "3  Animals/Canis latrans/0a922be91bac509ef2bc0a44...     1\n",
       "4  Animals/Trachemys scripta elegans/fa1dd0961941...    11"
      ]
     },
     "execution_count": 3,
     "metadata": {},
     "output_type": "execute_result"
    }
   ],
   "source": [
    "test_df = pd.read_csv('test_data.csv')\n",
    "test_df['label']=test_df['label'].astype('str')\n",
    "test_df.head()"
   ]
  },
  {
   "cell_type": "code",
   "execution_count": 5,
   "id": "11348317-fd0c-4cd7-8534-d777ed5462c9",
   "metadata": {},
   "outputs": [
    {
     "name": "stdout",
     "output_type": "stream",
     "text": [
      "Found 2564 validated image filenames belonging to 12 classes.\n"
     ]
    }
   ],
   "source": [
    "def togpu(img):\n",
    "    with tf.device('/gpu:0'):\n",
    "        tens_data = tf.constant(img)\n",
    "    return tens_data\n",
    "    \n",
    "test_datagen=ImageDataGenerator(rescale=1./255,preprocessing_function = togpu)\n",
    "batch_s = 20\n",
    "\n",
    "test_generator=test_datagen.flow_from_dataframe(\n",
    "   test_df, \n",
    "    x_col = 'path',\n",
    "    y_col = 'label',\n",
    "    class_mode = 'categorical',\n",
    "    #color_mode='grayscale',#for black and white use: 'grayscale'\n",
    "    target_size=(350,350),\n",
    "    batch_size=batch_s,\n",
    "    shuffle=False\n",
    ")\n"
   ]
  },
  {
   "cell_type": "code",
   "execution_count": 6,
   "id": "8b04f6bb-b22d-421d-8042-3c5e60a20f98",
   "metadata": {},
   "outputs": [
    {
     "name": "stdout",
     "output_type": "stream",
     "text": [
      "129/129 [==============================] - 85s 627ms/step - loss: 1.3482 - accuracy: 0.5332\n"
     ]
    },
    {
     "data": {
      "text/plain": [
       "[1.3481601476669312, 0.5331513285636902]"
      ]
     },
     "execution_count": 6,
     "metadata": {},
     "output_type": "execute_result"
    }
   ],
   "source": [
    "loaded_model.evaluate(test_generator)"
   ]
  },
  {
   "cell_type": "markdown",
   "id": "964c5c38-ab12-4340-8f16-a34429900a5f",
   "metadata": {},
   "source": [
    "### Generating heatmaps"
   ]
  },
  {
   "cell_type": "code",
   "execution_count": 7,
   "id": "243e68de-2536-44af-9c62-76ce82910a0a",
   "metadata": {},
   "outputs": [],
   "source": [
    "def get_img_array(img_path, size):\n",
    "    img = keras.preprocessing.image.load_img(img_path, target_size=size)\n",
    "    array = keras.preprocessing.image.img_to_array(img)\n",
    "    # We add a dimension to transform our array into a \"batch\"\n",
    "    array = np.expand_dims(array, axis=0)\n",
    "    return array\n",
    "\n",
    "\n",
    "def make_gradcam_heatmap(img_array, model, last_conv_layer_name, pred_index=None):\n",
    "    # First, we create a model that maps the input image to the activations\n",
    "    # of the last conv layer as well as the output predictions\n",
    "    grad_model = tf.keras.models.Model(\n",
    "        [model.inputs], [model.get_layer(last_conv_layer_name).output, model.output]\n",
    "    )\n",
    "\n",
    "    # Then, we compute the gradient of the top predicted class for our input image\n",
    "    # with respect to the activations of the last conv layer\n",
    "    with tf.GradientTape() as tape:\n",
    "        last_conv_layer_output, preds = grad_model(img_array)\n",
    "        if pred_index is None:\n",
    "            pred_index = tf.argmax(preds[0])\n",
    "        class_channel = preds[:, pred_index]\n",
    "\n",
    "    # This is the gradient of the output neuron (top predicted or chosen)\n",
    "    # with regard to the output feature map of the last conv layer\n",
    "    grads = tape.gradient(class_channel, last_conv_layer_output)\n",
    "\n",
    "    # This is a vector where each entry is the mean intensity of the gradient\n",
    "    # over a specific feature map channel\n",
    "    pooled_grads = tf.reduce_mean(grads, axis=(0, 1, 2))\n",
    "\n",
    "    # We multiply each channel in the feature map array\n",
    "    # by \"how important this channel is\" with regard to the top predicted class\n",
    "    # then sum all the channels to obtain the heatmap class activation\n",
    "    last_conv_layer_output = last_conv_layer_output[0]\n",
    "    heatmap = last_conv_layer_output @ pooled_grads[..., tf.newaxis]\n",
    "    heatmap = tf.squeeze(heatmap)\n",
    "\n",
    "    # For visualization purpose, we will also normalize the heatmap between 0 & 1\n",
    "    heatmap = tf.maximum(heatmap, 0) / tf.math.reduce_max(heatmap)\n",
    "    \n",
    "    return heatmap.numpy()"
   ]
  },
  {
   "cell_type": "code",
   "execution_count": 8,
   "id": "48783d4e-da42-45db-91bc-7901811336d4",
   "metadata": {},
   "outputs": [
    {
     "name": "stderr",
     "output_type": "stream",
     "text": [
      " 99%|█████████▉| 128/129 [10:13<00:04,  4.79s/it]\n"
     ]
    }
   ],
   "source": [
    "#Saving heatmaps and predicted labels\n",
    "prediction_classes_test = np.array([])\n",
    "true_classes_test =  np.array([])\n",
    "heatmaps = []\n",
    "\n",
    "img_size = (239, 225)\n",
    "last_conv_layer_name = \"last_conv\"\n",
    "step = 0\n",
    "for x, y in tqdm(test_generator):\n",
    "    prediction_classes_test = np.concatenate([prediction_classes_test,\n",
    "                       np.argmax(loaded_model.predict(x, verbose=0), axis = -1)])\n",
    "    true_classes_test = np.concatenate([true_classes_test, np.argmax(y, axis=-1)])\n",
    "    for ar in x:\n",
    "        heatmap = make_gradcam_heatmap(np.expand_dims(ar, axis=0), loaded_model,last_conv_layer_name )\n",
    "        heatmaps.append(heatmap)\n",
    "    step+=1\n",
    "    if step == 129:\n",
    "        break"
   ]
  },
  {
   "cell_type": "code",
   "execution_count": 9,
   "id": "59ce3113-f283-48de-97b6-1b5f3ce98bb3",
   "metadata": {},
   "outputs": [],
   "source": [
    "inverse_label_enc = {v:k for k,v in test_generator.class_indices.items()}\n",
    "t = [inverse_label_enc[i] for i in prediction_classes_test]\n",
    "test_df['predicted_label'] = t\n",
    "test_df['heatmap'] = heatmaps"
   ]
  },
  {
   "cell_type": "code",
   "execution_count": 10,
   "id": "792858ce-2b3a-4a09-944f-7dc0f77da239",
   "metadata": {},
   "outputs": [
    {
     "name": "stdout",
     "output_type": "stream",
     "text": [
      "              precision    recall  f1-score   support\n",
      "\n",
      "           0       0.44      0.48      0.46       193\n",
      "           1       0.39      0.15      0.22       199\n",
      "          10       0.43      0.59      0.50       199\n",
      "          11       0.49      0.48      0.48       206\n",
      "           2       0.39      0.14      0.21       146\n",
      "           3       0.79      0.75      0.77       194\n",
      "           4       0.87      0.70      0.78       216\n",
      "           5       0.68      0.78      0.73       239\n",
      "           6       0.83      0.76      0.79       274\n",
      "           7       0.52      0.51      0.51       228\n",
      "           8       0.28      0.54      0.37       222\n",
      "           9       0.38      0.32      0.35       248\n",
      "\n",
      "    accuracy                           0.53      2564\n",
      "   macro avg       0.54      0.52      0.51      2564\n",
      "weighted avg       0.55      0.53      0.53      2564\n",
      "\n"
     ]
    }
   ],
   "source": [
    "print(classification_report(test_df['label'],test_df['predicted_label'] ))"
   ]
  },
  {
   "cell_type": "code",
   "execution_count": 12,
   "id": "eb958df8-5b9a-46f4-855b-a567b6ad6f84",
   "metadata": {},
   "outputs": [],
   "source": [
    "import pickle\n",
    "with open('test_results/transfer_vanilla_testresults.pickle', 'wb') as file:\n",
    "    pickle.dump(test_df, file)"
   ]
  },
  {
   "cell_type": "code",
   "execution_count": 13,
   "id": "023db4fa-e1d0-419e-8203-d95859012551",
   "metadata": {},
   "outputs": [],
   "source": [
    "with open('test_results/transfer_vanilla_testresults.pickle', \"rb\") as f:\n",
    "    state = pickle.load(f)"
   ]
  },
  {
   "cell_type": "code",
   "execution_count": 17,
   "id": "257154bb-5e39-4afe-9795-7904ae45cd67",
   "metadata": {},
   "outputs": [
    {
     "data": {
      "image/jpeg": "[encoded data removed]",
      "text/plain": [
       "<IPython.core.display.Image object>"
      ]
     },
     "metadata": {},
     "output_type": "display_data"
    }
   ],
   "source": [
    "import matplotlib.cm as cm\n",
    "from IPython.display import Image, display\n",
    "def save_and_display_gradcam(img_path, heatmap, cam_path=\"cam.jpg\", alpha=0.8):\n",
    "    # Load the original image\n",
    "    img = keras.preprocessing.image.load_img(img_path)\n",
    "    img = keras.preprocessing.image.img_to_array(img)\n",
    "\n",
    "    # Rescale heatmap to a range 0-255\n",
    "    heatmap = np.uint8(255 * heatmap)\n",
    "\n",
    "    # Use jet colormap to colorize heatmap\n",
    "    jet = cm.get_cmap(\"jet\")\n",
    "\n",
    "    # Use RGB values of the colormap\n",
    "    jet_colors = jet(np.arange(256))[:, :3]\n",
    "    jet_heatmap = jet_colors[heatmap]\n",
    "\n",
    "    # Create an image with RGB colorized heatmap\n",
    "    jet_heatmap = keras.preprocessing.image.array_to_img(jet_heatmap)\n",
    "    jet_heatmap = jet_heatmap.resize((img.shape[1], img.shape[0]))\n",
    "    jet_heatmap = keras.preprocessing.image.img_to_array(jet_heatmap)\n",
    "\n",
    "    # Superimpose the heatmap on original image\n",
    "    superimposed_img = jet_heatmap * alpha + img\n",
    "    superimposed_img = keras.preprocessing.image.array_to_img(superimposed_img)\n",
    "\n",
    "    # Save the superimposed image\n",
    "    superimposed_img.save(cam_path)\n",
    "\n",
    "    # Display Grad CAM\n",
    "    display(Image(cam_path))\n",
    "\n",
    "\n",
    "save_and_display_gradcam(state['path'][2],state['heatmap'][2])"
   ]
  }
 ],
 "metadata": {
  "kernelspec": {
   "display_name": "Python 3",
   "language": "python",
   "name": "python3"
  },
  "language_info": {
   "codemirror_mode": {
    "name": "ipython",
    "version": 3
   },
   "file_extension": ".py",
   "mimetype": "text/x-python",
   "name": "python",
   "nbconvert_exporter": "python",
   "pygments_lexer": "ipython3",
   "version": "3.8.10"
  }
 },
 "nbformat": 4,
 "nbformat_minor": 5
}
